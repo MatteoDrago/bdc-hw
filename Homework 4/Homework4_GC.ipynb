{
 "cells": [
  {
   "cell_type": "markdown",
   "metadata": {},
   "source": [
    "# Homework 4\n",
    "### Diversity Maximization on a Cloud"
   ]
  },
  {
   "cell_type": "code",
   "execution_count": 1,
   "metadata": {},
   "outputs": [],
   "source": [
    "# Import Packages\n",
    "from pyspark import SparkConf, SparkContext\n",
    "from pyspark.ml.linalg import Vectors\n",
    "import numpy as np"
   ]
  },
  {
   "cell_type": "code",
   "execution_count": 2,
   "metadata": {},
   "outputs": [],
   "source": [
    "conf = SparkConf().setAppName('HW4').setMaster('local')\n",
    "sc = SparkContext(conf=conf)"
   ]
  },
  {
   "cell_type": "markdown",
   "metadata": {},
   "source": [
    "<hr>\n",
    "### <i> farthest first traversal</i> Function"
   ]
  },
  {
   "cell_type": "code",
   "execution_count": 14,
   "metadata": {},
   "outputs": [],
   "source": [
    "import random\n",
    "def farthest_first_traversal(P, k):\n",
    "    idx_rnd = random.randint(0, len(P)-1)\n",
    "    S = [P[idx_rnd]]\n",
    "    related_center_idx = [idx_rnd for i in range(len(P))]\n",
    "    dist_near_center = [Vectors.squared_distance(P[i], S[0]) for i in range(len(P))]\n",
    "\n",
    "    for i in range(k-1):    \n",
    "        new_center_idx = max(enumerate(dist_near_center), key=lambda x: x[1])[0] # argmax operation\n",
    "\n",
    "        S.append(P[new_center_idx])\n",
    "\n",
    "        for j in range(len(P)):\n",
    "            if j != new_center_idx:\n",
    "                dist = Vectors.squared_distance(P[j], S[-1])\n",
    "                if dist < dist_near_center[j]:\n",
    "                    dist_near_center[j] = dist\n",
    "                    related_center_idx[j] = new_center_idx\n",
    "            else:\n",
    "                dist_near_center[j] = 0\n",
    "                related_center_idx[j] = new_center_idx\n",
    "    return S"
   ]
  },
  {
   "cell_type": "markdown",
   "metadata": {},
   "source": [
    "<hr>\n",
    "### Provided 2-Approximate Sequential Algorithm for Diversity Maximization"
   ]
  },
  {
   "cell_type": "code",
   "execution_count": 15,
   "metadata": {},
   "outputs": [],
   "source": [
    "# points is a list of Vectors , k an integer\n",
    "def runSequential(points, k):\n",
    "\n",
    "    n = len(points)\n",
    "    if k >= n:\n",
    "        return points\n",
    "\n",
    "    result = list()\n",
    "    candidates = np.full(n , True)\n",
    "\n",
    "    for iter in range(int(k / 2)):\n",
    "        maxDist = 0.0\n",
    "        maxI = 0\n",
    "        maxJ = 0\n",
    "        for i in range(n):\n",
    "            if candidates[i] == True:\n",
    "                for j in range(n):\n",
    "                    d = Vectors.squared_distance(points[i], points[j])\n",
    "                    if d > maxDist:\n",
    "                        maxDist = d\n",
    "                        maxI = i\n",
    "                        maxJ = j\n",
    "        result.append( points[maxI] )\n",
    "        result.append( points[maxJ] )\n",
    "        #print \"selecting \"+str(maxI)+\" and \"+str(maxJ)\n",
    "        candidates[maxI] = False\n",
    "        candidates[maxJ] = False\n",
    "\n",
    "    if k % 2 != 0:\n",
    "        s = np.random.randint(n)\n",
    "        for i in range(n):\n",
    "            j = (i + s) % n\n",
    "            if candidates[j] == True:\n",
    "                #print \"selecting \"+str(j)\n",
    "                result.append( points[i] )\n",
    "                break\n",
    "\n",
    "    return result"
   ]
  },
  {
   "cell_type": "code",
   "execution_count": 16,
   "metadata": {},
   "outputs": [
    {
     "name": "stdout",
     "output_type": "stream",
     "text": [
      "Input of size 100 with k = 11\n",
      "Selected: 11\n"
     ]
    }
   ],
   "source": [
    "input_length = 100\n",
    "k = 11\n",
    "d = 3\n",
    "m = 10\n",
    "\n",
    "test = []\n",
    "for i in range(input_length):\n",
    "    test.append( Vectors.dense([ np.random.randint(m) for i in range(d) ]) )\n",
    "\n",
    "#print test\n",
    "print(\"Input of size \"+str(len(test))+\" with k = \" + str(k))\n",
    "print(\"Selected: \"+str(len(runSequential(test, k))))"
   ]
  },
  {
   "cell_type": "markdown",
   "metadata": {},
   "source": [
    "<hr>\n",
    "### <i>runMapReduce</i> Function\n",
    "I have implemented a verstion without the MapReduce reasoning, just to compute the output"
   ]
  },
  {
   "cell_type": "code",
   "execution_count": 45,
   "metadata": {},
   "outputs": [],
   "source": [
    "def runMapReduce(pointsrdd, k, numBlocks):\n",
    "    \n",
    "    # Partitioning\n",
    "    block_size = len(pointsrdd) // numBlocks # floor\n",
    "    blocks = [pointsrdd[i*block_size : (i+1)*block_size] for i in range(numBlocks)]\n",
    "    \n",
    "    # Extract k-Points using Farthest-First Traversal algorithm\n",
    "    centers = [farthest_first_traversal(block, k) for block in blocks]\n",
    "    \n",
    "    # Gathering the Vectors\n",
    "    coreset = [y for c in centers for y in c]\n",
    "    \n",
    "    return runSequential(coreset, k)"
   ]
  },
  {
   "cell_type": "markdown",
   "metadata": {},
   "source": [
    "<hr>\n",
    "### <i>measure</i> Function"
   ]
  },
  {
   "cell_type": "code",
   "execution_count": 7,
   "metadata": {},
   "outputs": [],
   "source": [
    "def measure(pointslist):\n",
    "        \n",
    "    ### WRITE HERE THE CODE\n",
    "    \n",
    "    return"
   ]
  },
  {
   "cell_type": "code",
   "execution_count": null,
   "metadata": {},
   "outputs": [],
   "source": []
  }
 ],
 "metadata": {
  "kernelspec": {
   "display_name": "Python 3",
   "language": "python",
   "name": "python3"
  },
  "language_info": {
   "codemirror_mode": {
    "name": "ipython",
    "version": 3
   },
   "file_extension": ".py",
   "mimetype": "text/x-python",
   "name": "python",
   "nbconvert_exporter": "python",
   "pygments_lexer": "ipython3",
   "version": "3.6.4"
  }
 },
 "nbformat": 4,
 "nbformat_minor": 2
}
