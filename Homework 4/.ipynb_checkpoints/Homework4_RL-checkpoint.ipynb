{
 "cells": [
  {
   "cell_type": "markdown",
   "metadata": {},
   "source": [
    "# Homework 4 - RL #"
   ]
  },
  {
   "cell_type": "markdown",
   "metadata": {},
   "source": [
    "### Import packages used throughout the program ###"
   ]
  },
  {
   "cell_type": "code",
   "execution_count": 1,
   "metadata": {},
   "outputs": [],
   "source": [
    "from pyspark import SparkConf, SparkContext\n",
    "from pyspark.ml.linalg import Vectors\n",
    "import numpy as np\n",
    "import random\n",
    "import time\n",
    "import itertools"
   ]
  },
  {
   "cell_type": "markdown",
   "metadata": {},
   "source": [
    "### Homework 3 functions ###"
   ]
  },
  {
   "cell_type": "code",
   "execution_count": 2,
   "metadata": {},
   "outputs": [],
   "source": [
    "def f(string):\n",
    "    return Vectors.dense([float(coord) for coord in string.split(' ')])"
   ]
  },
  {
   "cell_type": "code",
   "execution_count": 3,
   "metadata": {},
   "outputs": [],
   "source": [
    "def farthest_first_traversal(P, k):\n",
    "    \"\"\"Return a list of the k farthest points.\n",
    "    \n",
    "    Input:  P - a list of vectors, representing points.\n",
    "            k - a scalar, number of target centroids.\n",
    "    Output: S - a list of vectors, representing the centers.\n",
    "    \"\"\"\n",
    "    idx_rnd = random.randint(0, len(P)-1)\n",
    "    S = [P[idx_rnd]]\n",
    "    related_center_idx = [idx_rnd for i in range(len(P))]\n",
    "    dist_near_center = [Vectors.squared_distance(P[i], S[0]) for i in range(len(P))]\n",
    "\n",
    "    for i in range(k-1):    \n",
    "        new_center_idx = np.argmax(dist_near_center)\n",
    "\n",
    "        S.append(P[new_center_idx])\n",
    "\n",
    "        for j in range(len(P)):\n",
    "            if j != new_center_idx:\n",
    "                dist = Vectors.squared_distance(P[j], S[-1])\n",
    "                if dist < dist_near_center[j]:\n",
    "                    dist_near_center[j] = dist\n",
    "                    related_center_idx[j] = new_center_idx\n",
    "            else:\n",
    "                dist_near_center[j] = 0\n",
    "                related_center_idx[j] = new_center_idx\n",
    "    return S"
   ]
  },
  {
   "cell_type": "markdown",
   "metadata": {},
   "source": [
    "### Homework 4 functions ###"
   ]
  },
  {
   "cell_type": "code",
   "execution_count": 4,
   "metadata": {},
   "outputs": [
    {
     "name": "stdout",
     "output_type": "stream",
     "text": [
      "Input of size  100  with k =  11\n",
      "Selected:  11\n"
     ]
    }
   ],
   "source": [
    "# points is a list of Vectors , k an integer\n",
    "def runSequential(points, k):\n",
    "\n",
    "    n = len(points)\n",
    "    if k >= n:\n",
    "        return points\n",
    "\n",
    "    result = list()\n",
    "    candidates = np.full(n , True)\n",
    "\n",
    "    for iter in range(int(k / 2)):\n",
    "        maxDist = 0.0\n",
    "        maxI = 0\n",
    "        maxJ = 0\n",
    "        for i in range(n):\n",
    "            if candidates[i] == True:\n",
    "                for j in range(n):\n",
    "                    d = Vectors.squared_distance(points[i], points[j])\n",
    "                    if d > maxDist:\n",
    "                        maxDist = d\n",
    "                        maxI = i\n",
    "                        maxJ = j\n",
    "        result.append( points[maxI] )\n",
    "        result.append( points[maxJ] )\n",
    "        #print \"selecting \"+str(maxI)+\" and \"+str(maxJ)\n",
    "        candidates[maxI] = False\n",
    "        candidates[maxJ] = False\n",
    "\n",
    "    if k % 2 != 0:\n",
    "        s = np.random.randint(n)\n",
    "        for i in range(n):\n",
    "            j = (i + s) % n\n",
    "            if candidates[j] == True:\n",
    "                #print \"selecting \"+str(j)\n",
    "                result.append( points[i] )\n",
    "                break\n",
    "\n",
    "    return result\n",
    "\n",
    "input_length = 100\n",
    "k = 11\n",
    "d = 3\n",
    "m = 10\n",
    "\n",
    "test = list()\n",
    "for i in range(input_length):\n",
    "    test.append( Vectors.dense([ np.random.randint(m) for i in range(d) ]) )\n",
    "\n",
    "#print test\n",
    "print(\"Input of size \", str(len(test)), \" with k = \", str(k))\n",
    "print(\"Selected: \", str(len(runSequential(test, k))))"
   ]
  },
  {
   "cell_type": "code",
   "execution_count": 17,
   "metadata": {},
   "outputs": [],
   "source": [
    "def runMapReduce(pointsrdd, k, numBlocks):\n",
    "    \n",
    "    partitions_list = pointsrdd.glom().mapPartitions(lambda x: list(x)).collect()\n",
    "    \n",
    "    centers_list = []\n",
    "    for i in range(numBlocks):\n",
    "        centers_list.append(farthest_first_traversal(partitions_list[i], k))\n",
    "    \n",
    "    coreset = list(itertools.chain.from_iterable(centers_list)) \n",
    "    \n",
    "    return runSequential(coreset, k)"
   ]
  },
  {
   "cell_type": "code",
   "execution_count": 20,
   "metadata": {},
   "outputs": [],
   "source": [
    "def measure(pointslist):\n",
    "    \n",
    "    d = 0.\n",
    "    N = len(pointslist)\n",
    "    for i in range(N):\n",
    "        for j in range(i):\n",
    "            d += Vectors.squared_distance(pointslist[i],pointslist[j])\n",
    "    return 2 * d / (N * (N-1))"
   ]
  },
  {
   "cell_type": "markdown",
   "metadata": {},
   "source": [
    "### main program ###"
   ]
  },
  {
   "cell_type": "code",
   "execution_count": 6,
   "metadata": {},
   "outputs": [],
   "source": [
    "# spark setup\n",
    "conf = SparkConf().setAppName('HW4').setMaster('local')\n",
    "sc = SparkContext(conf=conf)"
   ]
  },
  {
   "cell_type": "code",
   "execution_count": 18,
   "metadata": {
    "scrolled": true
   },
   "outputs": [
    {
     "name": "stdout",
     "output_type": "stream",
     "text": [
      "Number of vectors in RDD:  9960\n"
     ]
    }
   ],
   "source": [
    "datafile = \"test-datasets/vecs-50-10000.txt\"\n",
    "numBlocks = 4\n",
    "k = 2\n",
    "\n",
    "# read file into RDD\n",
    "inputrdd = sc.textFile(datafile) \\\n",
    "             .map(f) \\\n",
    "             .repartition(numBlocks) \\\n",
    "             .cache()\n",
    "print(\"Number of vectors in RDD: \", inputrdd.count())\n",
    "\n",
    "# solve diversity maximization problem\n",
    "centers = runMapReduce(inputrdd, k, numBlocks)"
   ]
  },
  {
   "cell_type": "code",
   "execution_count": 19,
   "metadata": {},
   "outputs": [
    {
     "name": "stdout",
     "output_type": "stream",
     "text": [
      "[DenseVector([1.7341, -0.1707, -0.8984, 0.146, 0.964, 0.9647, -0.6091, -0.5369, 0.0491, -0.8059, 0.8495, 1.018, 1.3986, 0.1924, 0.7402, 0.1298, 0.1661, 0.1978, -1.1801, 0.2801, -1.7753, -1.9853, 1.0203, 0.7061, 0.2972, -0.3251, -0.7344, -0.0868, -0.362, 0.6731, 1.355, -2.0711, 0.3869, 0.008, 0.4489, -0.5733, -0.4192, -0.2218, -0.6991, -0.3281, -0.8162, -1.0147, 0.3826, 1.1174, 0.0809, 0.3916, -0.3399, -0.9178, -0.2112, -0.6982]), DenseVector([-0.1434, -0.0787, 0.197, 0.798, 0.1972, 1.2935, 0.3461, -0.3515, -1.1286, -0.1181, 0.72, 0.3255, -0.4646, 0.4922, 0.3492, 0.0196, 0.0946, 1.2648, -0.4874, 0.455, 0.3234, -0.0297, -0.8326, -0.9728, 1.3394, 0.5714, 1.7682, -0.1891, -0.5561, -0.7951, -0.76, -0.4335, 0.1538, 0.0521, -0.0229, -0.0343, -0.0234, 0.0391, 0.0093, -0.407, -0.9199, -1.0007, 0.4498, -1.5818, 1.7922, -0.0502, 0.9155, 0.998, 0.7148, 0.1417])]\n"
     ]
    }
   ],
   "source": [
    "print(centers)"
   ]
  },
  {
   "cell_type": "code",
   "execution_count": 21,
   "metadata": {},
   "outputs": [],
   "source": [
    "result = measure(centers)"
   ]
  },
  {
   "cell_type": "code",
   "execution_count": 23,
   "metadata": {},
   "outputs": [
    {
     "name": "stdout",
     "output_type": "stream",
     "text": [
      "65.0677326240699\n"
     ]
    }
   ],
   "source": [
    "print(result)"
   ]
  },
  {
   "cell_type": "code",
   "execution_count": null,
   "metadata": {},
   "outputs": [],
   "source": []
  }
 ],
 "metadata": {
  "kernelspec": {
   "display_name": "Python 3",
   "language": "python",
   "name": "python3"
  },
  "language_info": {
   "codemirror_mode": {
    "name": "ipython",
    "version": 3
   },
   "file_extension": ".py",
   "mimetype": "text/x-python",
   "name": "python",
   "nbconvert_exporter": "python",
   "pygments_lexer": "ipython3",
   "version": "3.6.4"
  }
 },
 "nbformat": 4,
 "nbformat_minor": 2
}
