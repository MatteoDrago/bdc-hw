{
 "cells": [
  {
   "cell_type": "markdown",
   "metadata": {},
   "source": [
    "# Homework 4\n",
    "# Guglielmo Camporese\n",
    "### Diversity Maximization on a Cloud"
   ]
  },
  {
   "cell_type": "code",
   "execution_count": 1,
   "metadata": {
    "collapsed": true
   },
   "outputs": [],
   "source": [
    "# Import Packages\n",
    "from pyspark import SparkConf, SparkContext\n",
    "from pyspark.ml.linalg import Vectors\n",
    "import numpy as np\n",
    "import time\n",
    "import random"
   ]
  },
  {
   "cell_type": "markdown",
   "metadata": {},
   "source": [
    "<hr>\n",
    "### <i> farthest first traversal</i> Function"
   ]
  },
  {
   "cell_type": "code",
   "execution_count": 2,
   "metadata": {
    "collapsed": true
   },
   "outputs": [],
   "source": [
    "def farthest_first_traversal(P, k):\n",
    "    idx_rnd = random.randint(0, len(P)-1)\n",
    "    S = [P[idx_rnd]]\n",
    "    related_center_idx = [idx_rnd for i in range(len(P))]\n",
    "    dist_near_center = [Vectors.squared_distance(P[i], S[0]) for i in range(len(P))]\n",
    "\n",
    "    for i in range(k-1):    \n",
    "        new_center_idx = max(enumerate(dist_near_center), key=lambda x: x[1])[0] # argmax operation\n",
    "\n",
    "        S.append(P[new_center_idx])\n",
    "\n",
    "        for j in range(len(P)):\n",
    "            if j != new_center_idx:\n",
    "                dist = Vectors.squared_distance(P[j], S[-1])\n",
    "                if dist < dist_near_center[j]:\n",
    "                    dist_near_center[j] = dist\n",
    "                    related_center_idx[j] = new_center_idx\n",
    "            else:\n",
    "                dist_near_center[j] = 0\n",
    "                related_center_idx[j] = new_center_idx\n",
    "    return S"
   ]
  },
  {
   "cell_type": "markdown",
   "metadata": {},
   "source": [
    "<hr>\n",
    "### Provided 2-Approximate Sequential Algorithm for Diversity Maximization"
   ]
  },
  {
   "cell_type": "code",
   "execution_count": 3,
   "metadata": {
    "collapsed": true
   },
   "outputs": [],
   "source": [
    "# points is a list of Vectors , k an integer\n",
    "def runSequential(points, k):\n",
    "\n",
    "    n = len(points)\n",
    "    if k >= n:\n",
    "        return points\n",
    "\n",
    "    result = list()\n",
    "    candidates = np.full(n , True)\n",
    "\n",
    "    for iter in range(int(k / 2)):\n",
    "        maxDist = 0.0\n",
    "        maxI = 0\n",
    "        maxJ = 0\n",
    "        for i in range(n):\n",
    "            if candidates[i] == True:\n",
    "                for j in range(n):\n",
    "                    d = Vectors.squared_distance(points[i], points[j])\n",
    "                    if d > maxDist:\n",
    "                        maxDist = d\n",
    "                        maxI = i\n",
    "                        maxJ = j\n",
    "        result.append( points[maxI] )\n",
    "        result.append( points[maxJ] )\n",
    "        #print \"selecting \"+str(maxI)+\" and \"+str(maxJ)\n",
    "        candidates[maxI] = False\n",
    "        candidates[maxJ] = False\n",
    "\n",
    "    if k % 2 != 0:\n",
    "        s = np.random.randint(n)\n",
    "        for i in range(n):\n",
    "            j = (i + s) % n\n",
    "            if candidates[j] == True:\n",
    "                #print \"selecting \"+str(j)\n",
    "                result.append( points[i] )\n",
    "                break\n",
    "\n",
    "    return result"
   ]
  },
  {
   "cell_type": "markdown",
   "metadata": {},
   "source": [
    "<hr>\n",
    "### <i>runMapReduce</i> Function"
   ]
  },
  {
   "cell_type": "code",
   "execution_count": 4,
   "metadata": {
    "collapsed": true
   },
   "outputs": [],
   "source": [
    "def runMapReduce(pointsrdd, k, numBlocks):\n",
    "    \n",
    "    # Partitioning\n",
    "    t0 = time.time()\n",
    "    blocks = pointsrdd.glom()\n",
    "    \n",
    "    # Extract k-Points using Farthest-First Traversal algorithm\n",
    "    centers = blocks.map(lambda p: farthest_first_traversal(p,k))\n",
    "    \n",
    "    # Gathering the Vectors\n",
    "    coreset = [y for c in centers.collect() for y in c]\n",
    "    t1 = time.time()\n",
    "    coreset_time = t1-t0\n",
    "    \n",
    "    # Results\n",
    "    t0 = time.time()\n",
    "    results = runSequential(coreset, k)\n",
    "    t1 = time.time()\n",
    "    result_time = t1-t0\n",
    "    \n",
    "    return results, coreset_time, result_time"
   ]
  },
  {
   "cell_type": "markdown",
   "metadata": {},
   "source": [
    "<hr>\n",
    "### <i>measure</i> Function"
   ]
  },
  {
   "cell_type": "code",
   "execution_count": 5,
   "metadata": {
    "collapsed": true
   },
   "outputs": [],
   "source": [
    "def measure(pointslist):\n",
    "    dist_avg = 0.\n",
    "    n_points = len(pointslist)\n",
    "    for i in range(n_points):\n",
    "        for j in range(i):\n",
    "            dist_avg += np.sqrt(Vectors.squared_distance(pointslist[i], pointslist[j]))\n",
    "    dist_avg = dist_avg / (n_points * (n_points-1) / 2)\n",
    "    \n",
    "    return dist_avg"
   ]
  },
  {
   "cell_type": "markdown",
   "metadata": {},
   "source": [
    "<hr>\n",
    "### Program Computations"
   ]
  },
  {
   "cell_type": "code",
   "execution_count": 6,
   "metadata": {
    "collapsed": true
   },
   "outputs": [],
   "source": [
    "# Spark Setup\n",
    "conf = SparkConf().setAppName('HW4').setMaster('local[*]')\n",
    "sc = SparkContext(conf=conf)"
   ]
  },
  {
   "cell_type": "code",
   "execution_count": 7,
   "metadata": {
    "collapsed": true
   },
   "outputs": [],
   "source": [
    "# Import the Dataset and Define the Variables\n",
    "datafile = 'test-datasets/vecs-50-50000.txt'\n",
    "numBlocks = 2\n",
    "k = 5\n",
    "inputrdd = sc.textFile(datafile)\\\n",
    "                        .map(lambda row : Vectors.dense([float(num_str) for num_str in row.split(' ')]))\\\n",
    "                        .repartition(numBlocks)\\\n",
    "                        .cache()"
   ]
  },
  {
   "cell_type": "code",
   "execution_count": 8,
   "metadata": {
    "collapsed": false
   },
   "outputs": [
    {
     "name": "stdout",
     "output_type": "stream",
     "text": [
      "Evaluation Metrics:\n",
      "- Objective Function : 7.47984219962\n",
      "- Coreset Time : 7.971555709838867 s\n",
      "- Result Time : 0.003004789352416992 s\n"
     ]
    }
   ],
   "source": [
    "result, coreset_time, result_time = runMapReduce(inputrdd, k, numBlocks)\n",
    "obj = measure(result)\n",
    "\n",
    "\n",
    "# Print the Results\n",
    "print('Evaluation Metrics:')\n",
    "print('- Objective Function :', obj)\n",
    "print('- Coreset Time :', coreset_time, 's')\n",
    "print('- Result Time :', result_time, 's')"
   ]
  },
  {
   "cell_type": "code",
   "execution_count": null,
   "metadata": {
    "collapsed": true
   },
   "outputs": [],
   "source": []
  }
 ],
 "metadata": {
  "kernelspec": {
   "display_name": "Python 3",
   "language": "python",
   "name": "python3"
  },
  "language_info": {
   "codemirror_mode": {
    "name": "ipython",
    "version": 3
   },
   "file_extension": ".py",
   "mimetype": "text/x-python",
   "name": "python",
   "nbconvert_exporter": "python",
   "pygments_lexer": "ipython3",
   "version": "3.6.0"
  }
 },
 "nbformat": 4,
 "nbformat_minor": 2
}
