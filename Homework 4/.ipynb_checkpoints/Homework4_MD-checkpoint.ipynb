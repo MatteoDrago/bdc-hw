{
 "cells": [
  {
   "cell_type": "markdown",
   "metadata": {},
   "source": [
    "# Homework 4 - MD\n",
    "\n",
    "Implementation of k-center using Farthest-First Traversal"
   ]
  },
  {
   "cell_type": "code",
   "execution_count": 1,
   "metadata": {},
   "outputs": [],
   "source": [
    "# Import Packages\n",
    "from pyspark import SparkConf, SparkContext\n",
    "from pyspark.ml.linalg import Vectors\n",
    "import numpy as np\n",
    "import time\n",
    "import random"
   ]
  },
  {
   "cell_type": "code",
   "execution_count": 10,
   "metadata": {},
   "outputs": [],
   "source": [
    "def kcenter(P, k):\n",
    "    idx_rnd = random.randint(0, len(P)-1)\n",
    "    S = [P[idx_rnd]]\n",
    "    related_center_idx = [idx_rnd for i in range(len(P))]\n",
    "    dist_near_center = [Vectors.squared_distance(P[i], S[0]) for i in range(len(P))]\n",
    "\n",
    "    for i in range(k-1):    \n",
    "        new_center_idx = max(enumerate(dist_near_center), key=lambda x: x[1])[0] # argmax operation\n",
    "\n",
    "        S.append(P[new_center_idx])\n",
    "\n",
    "        for j in range(len(P)):\n",
    "            if j != new_center_idx:\n",
    "                dist = Vectors.squared_distance(P[j], S[-1])\n",
    "                if dist < dist_near_center[j]:\n",
    "                    dist_near_center[j] = dist\n",
    "                    related_center_idx[j] = new_center_idx\n",
    "            else:\n",
    "                dist_near_center[j] = 0\n",
    "                related_center_idx[j] = new_center_idx\n",
    "    return S\n",
    "\n",
    "def f(row):\n",
    "    return Vectors.dense([float(num_str) for num_str in row.split(' ')])\n",
    "\n",
    "def f2(document):\n",
    "    return (np.random.randint(0,5), document)"
   ]
  },
  {
   "cell_type": "code",
   "execution_count": 26,
   "metadata": {},
   "outputs": [],
   "source": [
    "def runMapReduce(pointsrdd,k,numBlocks):\n",
    "    # partitions of pointsrdd into numBlocks subsets\n",
    "    pointsrdd = pointsrdd.map(f2)\\\n",
    "                        .groupByKey()\\\n",
    "                        .flatMap(lambda x : list(x[1]))\n",
    "    print(pointsrdd)"
   ]
  },
  {
   "cell_type": "code",
   "execution_count": 4,
   "metadata": {},
   "outputs": [],
   "source": [
    "conf = SparkConf().setAppName('HW4').setMaster('local')\n",
    "sc = SparkContext(conf=conf)"
   ]
  },
  {
   "cell_type": "code",
   "execution_count": 27,
   "metadata": {},
   "outputs": [
    {
     "ename": "TypeError",
     "evalue": "'PipelinedRDD' object does not support indexing",
     "output_type": "error",
     "traceback": [
      "\u001b[1;31m---------------------------------------------------------------------------\u001b[0m",
      "\u001b[1;31mTypeError\u001b[0m                                 Traceback (most recent call last)",
      "\u001b[1;32m<ipython-input-27-4ab54eece70f>\u001b[0m in \u001b[0;36m<module>\u001b[1;34m()\u001b[0m\n\u001b[0;32m      5\u001b[0m \u001b[0minputrdd\u001b[0m \u001b[1;33m=\u001b[0m \u001b[0msc\u001b[0m\u001b[1;33m.\u001b[0m\u001b[0mtextFile\u001b[0m\u001b[1;33m(\u001b[0m\u001b[0mdatafile\u001b[0m\u001b[1;33m)\u001b[0m                        \u001b[1;33m.\u001b[0m\u001b[0mmap\u001b[0m\u001b[1;33m(\u001b[0m\u001b[0mf\u001b[0m\u001b[1;33m)\u001b[0m                        \u001b[1;33m.\u001b[0m\u001b[0mrepartition\u001b[0m\u001b[1;33m(\u001b[0m\u001b[0mnumBlocks\u001b[0m\u001b[1;33m)\u001b[0m                        \u001b[1;33m.\u001b[0m\u001b[0mcache\u001b[0m\u001b[1;33m(\u001b[0m\u001b[1;33m)\u001b[0m\u001b[1;33m\u001b[0m\u001b[0m\n\u001b[0;32m      6\u001b[0m \u001b[1;33m\u001b[0m\u001b[0m\n\u001b[1;32m----> 7\u001b[1;33m \u001b[0mrunMapReduce\u001b[0m\u001b[1;33m(\u001b[0m\u001b[0minputrdd\u001b[0m\u001b[1;33m,\u001b[0m \u001b[0mk\u001b[0m\u001b[1;33m,\u001b[0m \u001b[0mnumBlocks\u001b[0m\u001b[1;33m)\u001b[0m\u001b[1;33m\u001b[0m\u001b[0m\n\u001b[0m\u001b[0;32m      8\u001b[0m \u001b[1;33m\u001b[0m\u001b[0m\n",
      "\u001b[1;32m<ipython-input-26-783afd90d066>\u001b[0m in \u001b[0;36mrunMapReduce\u001b[1;34m(pointsrdd, k, numBlocks)\u001b[0m\n\u001b[0;32m      2\u001b[0m     \u001b[1;31m# partitions of pointsrdd into numBlocks subsets\u001b[0m\u001b[1;33m\u001b[0m\u001b[1;33m\u001b[0m\u001b[0m\n\u001b[0;32m      3\u001b[0m     \u001b[0mpointsrdd\u001b[0m \u001b[1;33m=\u001b[0m \u001b[0mpointsrdd\u001b[0m\u001b[1;33m.\u001b[0m\u001b[0mmap\u001b[0m\u001b[1;33m(\u001b[0m\u001b[0mf2\u001b[0m\u001b[1;33m)\u001b[0m                        \u001b[1;33m.\u001b[0m\u001b[0mgroupByKey\u001b[0m\u001b[1;33m(\u001b[0m\u001b[1;33m)\u001b[0m                        \u001b[1;33m.\u001b[0m\u001b[0mflatMap\u001b[0m\u001b[1;33m(\u001b[0m\u001b[1;32mlambda\u001b[0m \u001b[0mx\u001b[0m \u001b[1;33m:\u001b[0m \u001b[0mlist\u001b[0m\u001b[1;33m(\u001b[0m\u001b[0mx\u001b[0m\u001b[1;33m[\u001b[0m\u001b[1;36m1\u001b[0m\u001b[1;33m]\u001b[0m\u001b[1;33m)\u001b[0m\u001b[1;33m)\u001b[0m\u001b[1;33m\u001b[0m\u001b[0m\n\u001b[1;32m----> 4\u001b[1;33m     \u001b[0mprint\u001b[0m\u001b[1;33m(\u001b[0m\u001b[0mpointsrdd\u001b[0m\u001b[1;33m[\u001b[0m\u001b[1;36m0\u001b[0m\u001b[1;33m]\u001b[0m\u001b[1;33m)\u001b[0m\u001b[1;33m\u001b[0m\u001b[0m\n\u001b[0m",
      "\u001b[1;31mTypeError\u001b[0m: 'PipelinedRDD' object does not support indexing"
     ]
    }
   ],
   "source": [
    "datafile = 'test-datasets/prova.txt'\n",
    "numBlocks = 2\n",
    "k = 5\n",
    "\n",
    "inputrdd = sc.textFile(datafile)\\\n",
    "                        .map(f)\\\n",
    "                        .repartition(numBlocks)\\\n",
    "                        .cache()\n",
    "\n",
    "runMapReduce(inputrdd, k, numBlocks)\n",
    "        "
   ]
  },
  {
   "cell_type": "code",
   "execution_count": null,
   "metadata": {},
   "outputs": [],
   "source": []
  }
 ],
 "metadata": {
  "kernelspec": {
   "display_name": "Python 3",
   "language": "python",
   "name": "python3"
  },
  "language_info": {
   "codemirror_mode": {
    "name": "ipython",
    "version": 3
   },
   "file_extension": ".py",
   "mimetype": "text/x-python",
   "name": "python",
   "nbconvert_exporter": "python",
   "pygments_lexer": "ipython3",
   "version": "3.6.4"
  }
 },
 "nbformat": 4,
 "nbformat_minor": 2
}
