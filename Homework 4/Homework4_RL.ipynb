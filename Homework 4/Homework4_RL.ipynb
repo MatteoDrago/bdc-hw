{
 "cells": [
  {
   "cell_type": "markdown",
   "metadata": {},
   "source": [
    "# Homework 4 - RL #"
   ]
  },
  {
   "cell_type": "markdown",
   "metadata": {},
   "source": [
    "### Import packages used throughout the program ###"
   ]
  },
  {
   "cell_type": "code",
   "execution_count": 1,
   "metadata": {},
   "outputs": [],
   "source": [
    "from pyspark import SparkConf, SparkContext\n",
    "from pyspark.ml.linalg import Vectors\n",
    "import numpy as np\n",
    "import random\n",
    "import time\n",
    "import itertools"
   ]
  },
  {
   "cell_type": "markdown",
   "metadata": {},
   "source": [
    "### Homework 3 functions ###"
   ]
  },
  {
   "cell_type": "code",
   "execution_count": 2,
   "metadata": {},
   "outputs": [],
   "source": [
    "def f(string):\n",
    "    return Vectors.dense([float(coord) for coord in string.split(' ')])"
   ]
  },
  {
   "cell_type": "code",
   "execution_count": 3,
   "metadata": {},
   "outputs": [],
   "source": [
    "def farthest_first_traversal(P, k):\n",
    "    \"\"\"Return a list of the k farthest points.\n",
    "    \n",
    "    Input:  P - a list of vectors, representing points.\n",
    "            k - a scalar, number of target centroids.\n",
    "    Output: S - a list of vectors, representing the centers.\n",
    "    \"\"\"\n",
    "    idx_rnd = random.randint(0, len(P)-1)\n",
    "    S = [P[idx_rnd]]\n",
    "    related_center_idx = [idx_rnd for i in range(len(P))]\n",
    "    dist_near_center = [Vectors.squared_distance(P[i], S[0]) for i in range(len(P))]\n",
    "\n",
    "    for i in range(k-1):    \n",
    "        new_center_idx = np.argmax(dist_near_center)\n",
    "\n",
    "        S.append(P[new_center_idx])\n",
    "\n",
    "        for j in range(len(P)):\n",
    "            if j != new_center_idx:\n",
    "                dist = Vectors.squared_distance(P[j], S[-1])\n",
    "                if dist < dist_near_center[j]:\n",
    "                    dist_near_center[j] = dist\n",
    "                    related_center_idx[j] = new_center_idx\n",
    "            else:\n",
    "                dist_near_center[j] = 0\n",
    "                related_center_idx[j] = new_center_idx\n",
    "    return S"
   ]
  },
  {
   "cell_type": "markdown",
   "metadata": {},
   "source": [
    "### Homework 4 functions ###"
   ]
  },
  {
   "cell_type": "code",
   "execution_count": 4,
   "metadata": {},
   "outputs": [
    {
     "name": "stdout",
     "output_type": "stream",
     "text": [
      "Input of size  100  with k =  11\n",
      "Selected:  11\n"
     ]
    }
   ],
   "source": [
    "# points is a list of Vectors , k an integer\n",
    "def runSequential(points, k):\n",
    "\n",
    "    n = len(points)\n",
    "    if k >= n:\n",
    "        return points\n",
    "\n",
    "    result = list()\n",
    "    candidates = np.full(n , True)\n",
    "\n",
    "    for iter in range(int(k / 2)):\n",
    "        maxDist = 0.0\n",
    "        maxI = 0\n",
    "        maxJ = 0\n",
    "        for i in range(n):\n",
    "            if candidates[i] == True:\n",
    "                for j in range(n):\n",
    "                    d = Vectors.squared_distance(points[i], points[j])\n",
    "                    if d > maxDist:\n",
    "                        maxDist = d\n",
    "                        maxI = i\n",
    "                        maxJ = j\n",
    "        result.append( points[maxI] )\n",
    "        result.append( points[maxJ] )\n",
    "        #print \"selecting \"+str(maxI)+\" and \"+str(maxJ)\n",
    "        candidates[maxI] = False\n",
    "        candidates[maxJ] = False\n",
    "\n",
    "    if k % 2 != 0:\n",
    "        s = np.random.randint(n)\n",
    "        for i in range(n):\n",
    "            j = (i + s) % n\n",
    "            if candidates[j] == True:\n",
    "                #print \"selecting \"+str(j)\n",
    "                result.append( points[i] )\n",
    "                break\n",
    "\n",
    "    return result\n",
    "\n",
    "input_length = 100\n",
    "k = 11\n",
    "d = 3\n",
    "m = 10\n",
    "\n",
    "test = list()\n",
    "for i in range(input_length):\n",
    "    test.append( Vectors.dense([ np.random.randint(m) for i in range(d) ]) )\n",
    "\n",
    "#print test\n",
    "print(\"Input of size \", str(len(test)), \" with k = \", str(k))\n",
    "print(\"Selected: \", str(len(runSequential(test, k))))"
   ]
  },
  {
   "cell_type": "code",
   "execution_count": 17,
   "metadata": {},
   "outputs": [],
   "source": [
    "def runMapReduce(pointsrdd, k, numBlocks):\n",
    "    \n",
    "    partitions_list = pointsrdd.glom().mapPartitions(lambda x: list(x)).collect()\n",
    "    \n",
    "    centers_list = []\n",
    "    for i in range(numBlocks):\n",
    "        centers_list.append(farthest_first_traversal(partitions_list[i], k))\n",
    "    \n",
    "    coreset = list(itertools.chain.from_iterable(centers_list)) \n",
    "    \n",
    "    return runSequential(coreset, k)"
   ]
  },
  {
   "cell_type": "code",
   "execution_count": 24,
   "metadata": {},
   "outputs": [],
   "source": [
    "def measure(pointslist):\n",
    "    \n",
    "    d = 0.\n",
    "    N = len(pointslist)\n",
    "    for i in range(N):\n",
    "        for j in range(i):\n",
    "            d += np.sqrt(Vectors.squared_distance(pointslist[i],pointslist[j]))\n",
    "    return 2 * d / (N * (N-1))"
   ]
  },
  {
   "cell_type": "markdown",
   "metadata": {},
   "source": [
    "### main program ###"
   ]
  },
  {
   "cell_type": "code",
   "execution_count": 6,
   "metadata": {},
   "outputs": [],
   "source": [
    "# spark setup\n",
    "conf = SparkConf().setAppName('HW4').setMaster('local')\n",
    "sc = SparkContext(conf=conf)"
   ]
  },
  {
   "cell_type": "code",
   "execution_count": 25,
   "metadata": {
    "scrolled": true
   },
   "outputs": [
    {
     "name": "stdout",
     "output_type": "stream",
     "text": [
      "Number of vectors in RDD:  9960\n"
     ]
    }
   ],
   "source": [
    "datafile = \"test-datasets/vecs-50-10000.txt\"\n",
    "numBlocks = 4\n",
    "k = 2\n",
    "\n",
    "# read file into RDD\n",
    "inputrdd = sc.textFile(datafile) \\\n",
    "             .map(f) \\\n",
    "             .repartition(numBlocks) \\\n",
    "             .cache()\n",
    "print(\"Number of vectors in RDD: \", inputrdd.count())\n",
    "\n",
    "# solve diversity maximization problem\n",
    "centers = runMapReduce(inputrdd, k, numBlocks)"
   ]
  },
  {
   "cell_type": "code",
   "execution_count": 26,
   "metadata": {},
   "outputs": [
    {
     "name": "stdout",
     "output_type": "stream",
     "text": [
      "[DenseVector([1.5739, 0.0218, -0.9746, 0.4599, 0.8992, 1.0606, -0.5973, -1.367, 0.5991, -1.0749, 0.614, 0.9212, 1.3128, -0.2731, 0.7109, -0.0931, 0.3146, 0.5643, -1.2732, -0.536, -1.8741, -1.9, 1.062, 0.4516, 0.2742, -0.1369, -0.2419, 0.478, -0.0766, 0.3725, 1.4715, -1.4603, 0.0066, 0.0069, 0.0864, -0.4083, -0.5563, -0.3979, -0.7668, -0.4354, -0.4895, -1.0124, 0.4554, 0.5133, 0.9186, 0.3739, -0.0437, -0.7758, 0.0282, -0.2551]), DenseVector([-0.1114, -1.4935, -0.8168, -0.0934, -0.3292, -0.195, 1.0956, -0.2271, 0.4648, -0.1134, -0.6902, -1.4922, 1.1978, -1.6225, -0.528, 0.2493, 0.6901, 1.2245, 0.4057, 0.5572, 0.3419, -0.7044, 0.0581, 1.1519, 0.2402, 0.0152, -0.3314, 0.3877, -0.7477, -0.772, -0.7829, -0.4076, -0.0792, 0.1604, 0.8697, 0.0295, -0.107, 1.0291, -0.5838, 0.6497, -0.2394, 0.7285, -0.3843, -0.3338, -0.7964, 0.5792, 0.1143, -0.0757, 0.1913, -0.2007])]\n"
     ]
    }
   ],
   "source": [
    "print(centers)"
   ]
  },
  {
   "cell_type": "code",
   "execution_count": 27,
   "metadata": {},
   "outputs": [],
   "source": [
    "result = measure(centers)"
   ]
  },
  {
   "cell_type": "code",
   "execution_count": 28,
   "metadata": {},
   "outputs": [
    {
     "name": "stdout",
     "output_type": "stream",
     "text": [
      "7.577738326355545\n"
     ]
    }
   ],
   "source": [
    "print(result)"
   ]
  },
  {
   "cell_type": "code",
   "execution_count": null,
   "metadata": {},
   "outputs": [],
   "source": []
  }
 ],
 "metadata": {
  "kernelspec": {
   "display_name": "Python 3",
   "language": "python",
   "name": "python3"
  },
  "language_info": {
   "codemirror_mode": {
    "name": "ipython",
    "version": 3
   },
   "file_extension": ".py",
   "mimetype": "text/x-python",
   "name": "python",
   "nbconvert_exporter": "python",
   "pygments_lexer": "ipython3",
   "version": "3.6.4"
  }
 },
 "nbformat": 4,
 "nbformat_minor": 2
}
