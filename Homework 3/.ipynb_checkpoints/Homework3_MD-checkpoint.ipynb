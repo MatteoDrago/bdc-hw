{
 "cells": [
  {
   "cell_type": "markdown",
   "metadata": {},
   "source": [
    "Homework 3"
   ]
  },
  {
   "cell_type": "code",
   "execution_count": 1,
   "metadata": {},
   "outputs": [],
   "source": [
    "# Import Packages\n",
    "from pyspark import SparkConf, SparkContext\n",
    "from pyspark.ml.linalg import Vectors\n",
    "import random\n",
    "import time"
   ]
  },
  {
   "cell_type": "code",
   "execution_count": 2,
   "metadata": {},
   "outputs": [],
   "source": [
    "def readVectorsSeq(filename):\n",
    "    file = open(filename, 'r')\n",
    "    vector_list = []\n",
    "    for row in file.readlines():\n",
    "        vector_list.append(Vectors.dense([float(num_str) for num_str in row.split()]))\n",
    "    return vector_list"
   ]
  },
  {
   "cell_type": "code",
   "execution_count": 3,
   "metadata": {},
   "outputs": [
    {
     "name": "stdout",
     "output_type": "stream",
     "text": [
      "INFO OF THE DATASET:\n",
      "- Number of points: 11\n",
      "- Dimensionality of a Point: 50\n"
     ]
    }
   ],
   "source": [
    "vector_list = readVectorsSeq('test-datasets/prova.txt')\n",
    "\n",
    "# Print Info of the Dataset\n",
    "print('INFO OF THE DATASET:')\n",
    "print('- Number of points:', len(vector_list))\n",
    "print('- Dimensionality of a Point:', len(vector_list[0]))"
   ]
  },
  {
   "cell_type": "markdown",
   "metadata": {},
   "source": [
    "# k-Center \n",
    "\n",
    "Basically the same of Guglielmo's because his version was better and without the bottleneck exploited by mine. In order to speed up performances I deleted few vars that was useful just for the sake of debugging."
   ]
  },
  {
   "cell_type": "code",
   "execution_count": 16,
   "metadata": {},
   "outputs": [],
   "source": [
    "def kcenter(P, k):\n",
    "    P_minus_S = [p for p in P]\n",
    "    idx_rnd = random.randint(0, len(P)-1)\n",
    "    S = [P[idx_rnd]]\n",
    "    dist_near_center = [Vectors.squared_distance(P[i], S[0]) for i in range(len(P))]\n",
    "\n",
    "    for i in range(k-1):    \n",
    "        new_center_idx = max(enumerate(dist_near_center), key=lambda x: x[1])[0] # argmax operation\n",
    "        S.append(P[new_center_idx])\n",
    "\n",
    "        for j in range(len(P)):\n",
    "            if j != new_center_idx:\n",
    "                dist = Vectors.squared_distance(P[j], S[-1])\n",
    "                if dist < dist_near_center[j]:\n",
    "                    dist_near_center[j] = dist\n",
    "            else:\n",
    "                dist_near_center[j] = 0\n",
    "    return S"
   ]
  },
  {
   "cell_type": "markdown",
   "metadata": {},
   "source": [
    "# Elapsed time evaluation"
   ]
  },
  {
   "cell_type": "code",
   "execution_count": 17,
   "metadata": {},
   "outputs": [
    {
     "name": "stdout",
     "output_type": "stream",
     "text": [
      "Number of points: 9960\n",
      "Elapsed Time first set : 0.4812803268432617 s\n",
      "Number of points: 50047\n",
      "Elapsed Time first set : 2.474074602127075 s\n",
      "Number of points: 99670\n",
      "Elapsed Time first set : 5.07624888420105 s\n",
      "Number of points: 499950\n",
      "Elapsed Time first set : 24.370879888534546 s\n"
     ]
    }
   ],
   "source": [
    "vector_list = readVectorsSeq('test-datasets/vecs-50-10000.txt')\n",
    "k = 10 \n",
    "\n",
    "t0 = time.time()\n",
    "C = kcenter(vector_list,k)\n",
    "t1 = time.time()\n",
    "\n",
    "print('Number of points:', len(vector_list))\n",
    "print('Elapsed Time first set :', t1-t0, 's')\n",
    "\n",
    "vector_list = readVectorsSeq('test-datasets/vecs-50-50000.txt')\n",
    "\n",
    "t0 = time.time()\n",
    "C = kcenter(vector_list,k)\n",
    "t1 = time.time()\n",
    "\n",
    "print('Number of points:', len(vector_list))\n",
    "print('Elapsed Time first set :', t1-t0, 's')\n",
    "\n",
    "vector_list = readVectorsSeq('test-datasets/vecs-50-100000.txt')\n",
    "\n",
    "t0 = time.time()\n",
    "C = kcenter(vector_list,k)\n",
    "t1 = time.time()\n",
    "\n",
    "print('Number of points:', len(vector_list))\n",
    "print('Elapsed Time first set :', t1-t0, 's')\n",
    "\n",
    "vector_list = readVectorsSeq('test-datasets/vecs-50-500000.txt')\n",
    "\n",
    "t0 = time.time()\n",
    "C = kcenter(vector_list,k)\n",
    "t1 = time.time()\n",
    "\n",
    "print('Number of points:', len(vector_list))\n",
    "print('Elapsed Time first set :', t1-t0, 's')"
   ]
  },
  {
   "cell_type": "code",
   "execution_count": 18,
   "metadata": {},
   "outputs": [],
   "source": [
    "def kcenter_GC(P, k):\n",
    "    P_minus_S = [p for p in P]\n",
    "    idx_rnd = random.randint(0, len(P)-1)\n",
    "    S = [P[idx_rnd]]\n",
    "    P_minus_S.pop(idx_rnd)\n",
    "    related_center_idx = [idx_rnd for i in range(len(P))]\n",
    "    dist_near_center = [Vectors.squared_distance(P[i], S[0]) for i in range(len(P))]\n",
    "\n",
    "    for i in range(k-1):    \n",
    "        new_center_idx = max(enumerate(dist_near_center), key=lambda x: x[1])[0] # argmax operation\n",
    "\n",
    "        S.append(P[new_center_idx])\n",
    "        P_minus_S.remove(P[new_center_idx])\n",
    "\n",
    "        for j in range(len(P)):\n",
    "            if j != new_center_idx:\n",
    "                dist = Vectors.squared_distance(P[j], S[-1])\n",
    "                if dist < dist_near_center[j]:\n",
    "                    dist_near_center[j] = dist\n",
    "                    related_center_idx[j] = new_center_idx\n",
    "            else:\n",
    "                dist_near_center[j] = 0\n",
    "                related_center_idx[j] = new_center_idx\n",
    "    return S"
   ]
  },
  {
   "cell_type": "code",
   "execution_count": 19,
   "metadata": {},
   "outputs": [
    {
     "name": "stdout",
     "output_type": "stream",
     "text": [
      "Number of points: 9960\n",
      "Elapsed Time first set : 0.7179067134857178 s\n",
      "Number of points: 50047\n",
      "Elapsed Time first set : 3.266697883605957 s\n",
      "Number of points: 99670\n",
      "Elapsed Time first set : 6.885001182556152 s\n",
      "Number of points: 499950\n",
      "Elapsed Time first set : 33.36531209945679 s\n"
     ]
    }
   ],
   "source": [
    "vector_list = readVectorsSeq('test-datasets/vecs-50-10000.txt')\n",
    "k = 10 \n",
    "\n",
    "t0 = time.time()\n",
    "C = kcenter_GC(vector_list,k)\n",
    "t1 = time.time()\n",
    "\n",
    "print('Number of points:', len(vector_list))\n",
    "print('Elapsed Time first set :', t1-t0, 's')\n",
    "\n",
    "vector_list = readVectorsSeq('test-datasets/vecs-50-50000.txt')\n",
    "\n",
    "t0 = time.time()\n",
    "C = kcenter_GC(vector_list,k)\n",
    "t1 = time.time()\n",
    "\n",
    "print('Number of points:', len(vector_list))\n",
    "print('Elapsed Time first set :', t1-t0, 's')\n",
    "\n",
    "vector_list = readVectorsSeq('test-datasets/vecs-50-100000.txt')\n",
    "\n",
    "t0 = time.time()\n",
    "C = kcenter_GC(vector_list,k)\n",
    "t1 = time.time()\n",
    "\n",
    "print('Number of points:', len(vector_list))\n",
    "print('Elapsed Time first set :', t1-t0, 's')\n",
    "\n",
    "vector_list = readVectorsSeq('test-datasets/vecs-50-500000.txt')\n",
    "\n",
    "t0 = time.time()\n",
    "C = kcenter_GC(vector_list,k)\n",
    "t1 = time.time()\n",
    "\n",
    "print('Number of points:', len(vector_list))\n",
    "print('Elapsed Time first set :', t1-t0, 's')"
   ]
  },
  {
   "cell_type": "markdown",
   "metadata": {},
   "source": [
    "# k-means++"
   ]
  },
  {
   "cell_type": "code",
   "execution_count": 60,
   "metadata": {},
   "outputs": [],
   "source": [
    "def findFarthest(a,P):\n",
    "    dist = 0\n",
    "    index = 0\n",
    "    for idx,el in enumerate(P):\n",
    "        temp_dist = a.squared_distance(el)\n",
    "        if temp_dist > dist:\n",
    "            dist = temp_dist\n",
    "            index = idx\n",
    "    return P[index], index\n",
    "\n",
    "def kcenter(P,k):\n",
    "    C = []\n",
    "    C_idx = []\n",
    "    C.append(P[0])\n",
    "    C_idx.append(0)\n",
    "    for i in range(k-1):\n",
    "        new_centroid, new_idx = findFarthest(C[-1],[x for idx,x in enumerate(P) if idx != C_idx])\n",
    "        C.append(new_centroid)\n",
    "        C_idx.append(new_idx)\n",
    "    return C    "
   ]
  },
  {
   "cell_type": "code",
   "execution_count": 61,
   "metadata": {},
   "outputs": [],
   "source": [
    "vector_list = readVectorsSeq('test-datasets/prova.txt')"
   ]
  },
  {
   "cell_type": "code",
   "execution_count": 13,
   "metadata": {},
   "outputs": [
    {
     "data": {
      "text/plain": [
       "1"
      ]
     },
     "execution_count": 13,
     "metadata": {},
     "output_type": "execute_result"
    }
   ],
   "source": [
    "a = [4, 6, 3]\n",
    "max(enumerate(a), key=lambda x: x[1])[0]"
   ]
  },
  {
   "cell_type": "code",
   "execution_count": null,
   "metadata": {},
   "outputs": [],
   "source": []
  }
 ],
 "metadata": {
  "kernelspec": {
   "display_name": "Python 3",
   "language": "python",
   "name": "python3"
  },
  "language_info": {
   "codemirror_mode": {
    "name": "ipython",
    "version": 3
   },
   "file_extension": ".py",
   "mimetype": "text/x-python",
   "name": "python",
   "nbconvert_exporter": "python",
   "pygments_lexer": "ipython3",
   "version": "3.6.4"
  }
 },
 "nbformat": 4,
 "nbformat_minor": 2
}
