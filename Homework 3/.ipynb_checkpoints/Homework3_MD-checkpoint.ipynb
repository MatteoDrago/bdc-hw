{
 "cells": [
  {
   "cell_type": "markdown",
   "metadata": {},
   "source": [
    "Homework 3"
   ]
  },
  {
   "cell_type": "code",
   "execution_count": 1,
   "metadata": {},
   "outputs": [],
   "source": [
    "# Import Packages\n",
    "from pyspark import SparkConf, SparkContext\n",
    "from pyspark.ml.linalg import Vectors\n",
    "import random\n",
    "import time"
   ]
  },
  {
   "cell_type": "code",
   "execution_count": 2,
   "metadata": {},
   "outputs": [],
   "source": [
    "def readVectorsSeq(filename):\n",
    "    file = open(filename, 'r')\n",
    "    vector_list = []\n",
    "    for row in file.readlines():\n",
    "        vector_list.append(Vectors.dense([float(num_str) for num_str in row.split()]))\n",
    "    return vector_list"
   ]
  },
  {
   "cell_type": "code",
   "execution_count": 3,
   "metadata": {},
   "outputs": [
    {
     "name": "stdout",
     "output_type": "stream",
     "text": [
      "INFO OF THE DATASET:\n",
      "- Number of points: 11\n",
      "- Dimensionality of a Point: 50\n"
     ]
    }
   ],
   "source": [
    "vector_list = readVectorsSeq('test-datasets/prova.txt')\n",
    "\n",
    "# Print Info of the Dataset\n",
    "print('INFO OF THE DATASET:')\n",
    "print('- Number of points:', len(vector_list))\n",
    "print('- Dimensionality of a Point:', len(vector_list[0]))"
   ]
  },
  {
   "cell_type": "markdown",
   "metadata": {},
   "source": [
    "Implementation of *kcenter* using the Farthest-First Traversal"
   ]
  },
  {
   "cell_type": "code",
   "execution_count": 52,
   "metadata": {},
   "outputs": [],
   "source": [
    "def findFarthest(a,P):\n",
    "    dist = 0\n",
    "    index = 0\n",
    "    for idx,el in enumerate(P):\n",
    "        temp_dist = a.squared_distance(el)\n",
    "        if temp_dist > dist:\n",
    "            dist = temp_dist\n",
    "            index = idx\n",
    "    return P[index], index\n",
    "\n",
    "def kcenter(P,k):\n",
    "    C = []\n",
    "    C_idx = []\n",
    "    C.append(P[0])\n",
    "    C_idx.append(0)\n",
    "    for i in range(k-1):\n",
    "        new_centroid, new_idx = findFarthest(C[-1],[x for idx,x in enumerate(P) if idx != C_idx])\n",
    "        C.append(new_centroid)\n",
    "        C_idx.append(new_idx)\n",
    "    return C    "
   ]
  },
  {
   "cell_type": "code",
   "execution_count": 53,
   "metadata": {},
   "outputs": [
    {
     "data": {
      "text/plain": [
       "(DenseVector([-0.5222, 0.4912, 0.4791, -0.8636, -2.5391, -2.9868, 0.58, -0.9677, -0.6864, 0.5162, -0.8788, -1.0081, 0.8865, 0.2876, 0.0573, 1.4542, 0.3276, -0.6853, 0.6394, 1.0876, -0.1458, -0.2659, 1.0826, -0.5432, -0.0359, 1.0447, -2.1232, 0.8778, -0.8194, 0.1961, 0.1237, -0.0257, -0.2843, 2.062, -0.1463, -0.3462, 0.8561, -0.3275, 0.5219, 2.0741, -1.4375, 1.4922, -0.4392, -0.1354, 0.3518, -1.8033, 0.5764, -1.4669, -0.2385, 0.6649]),\n",
       " 41314)"
      ]
     },
     "execution_count": 53,
     "metadata": {},
     "output_type": "execute_result"
    }
   ],
   "source": [
    "findFarthest(vector_list[0],[x for idx,x in enumerate(vector_list) if idx != 0])"
   ]
  },
  {
   "cell_type": "markdown",
   "metadata": {},
   "source": [
    "# Elapsed time evaluation"
   ]
  },
  {
   "cell_type": "code",
   "execution_count": 57,
   "metadata": {},
   "outputs": [
    {
     "name": "stdout",
     "output_type": "stream",
     "text": [
      "Number of points: 9960\n",
      "Elapsed Time first set : 0.45621395111083984 s\n",
      "Number of points: 50047\n",
      "Elapsed Time first set : 2.209425449371338 s\n",
      "Number of points: 99670\n",
      "Elapsed Time first set : 4.655384063720703 s\n",
      "Number of points: 499950\n",
      "Elapsed Time first set : 20.208259105682373 s\n"
     ]
    }
   ],
   "source": [
    "import time\n",
    "\n",
    "vector_list = readVectorsSeq('test-datasets/vecs-50-10000.txt')\n",
    "k = 10 \n",
    "\n",
    "t0 = time.time()\n",
    "C = kcenter(vector_list,k)\n",
    "t1 = time.time()\n",
    "\n",
    "print('Number of points:', len(vector_list))\n",
    "print('Elapsed Time first set :', t1-t0, 's')\n",
    "\n",
    "vector_list = readVectorsSeq('test-datasets/vecs-50-50000.txt')\n",
    "\n",
    "t0 = time.time()\n",
    "C = kcenter(vector_list,k)\n",
    "t1 = time.time()\n",
    "\n",
    "print('Number of points:', len(vector_list))\n",
    "print('Elapsed Time first set :', t1-t0, 's')\n",
    "\n",
    "vector_list = readVectorsSeq('test-datasets/vecs-50-100000.txt')\n",
    "\n",
    "t0 = time.time()\n",
    "C = kcenter(vector_list,k)\n",
    "t1 = time.time()\n",
    "\n",
    "print('Number of points:', len(vector_list))\n",
    "print('Elapsed Time first set :', t1-t0, 's')\n",
    "\n",
    "vector_list = readVectorsSeq('test-datasets/vecs-50-500000.txt')\n",
    "\n",
    "t0 = time.time()\n",
    "C = kcenter(vector_list,k)\n",
    "t1 = time.time()\n",
    "\n",
    "print('Number of points:', len(vector_list))\n",
    "print('Elapsed Time first set :', t1-t0, 's')"
   ]
  },
  {
   "cell_type": "code",
   "execution_count": 58,
   "metadata": {},
   "outputs": [],
   "source": [
    "def kcenter_GC(P, k):\n",
    "    P_minus_S = [p for p in P]\n",
    "    idx_rnd = random.randint(0, len(P)-1)\n",
    "    S = [P[idx_rnd]]\n",
    "    P_minus_S.pop(idx_rnd)\n",
    "    related_center_idx = [idx_rnd for i in range(len(P))]\n",
    "    dist_near_center = [Vectors.squared_distance(P[i], S[0]) for i in range(len(P))]\n",
    "\n",
    "    for i in range(k-1):    \n",
    "        new_center_idx = max(enumerate(dist_near_center), key=lambda x: x[1])[0] # argmax operation\n",
    "\n",
    "        S.append(P[new_center_idx])\n",
    "        P_minus_S.remove(P[new_center_idx])\n",
    "\n",
    "        for j in range(len(P)):\n",
    "            if j != new_center_idx:\n",
    "                dist = Vectors.squared_distance(P[j], S[-1])\n",
    "                if dist < dist_near_center[j]:\n",
    "                    dist_near_center[j] = dist\n",
    "                    related_center_idx[j] = new_center_idx\n",
    "            else:\n",
    "                dist_near_center[j] = 0\n",
    "                related_center_idx[j] = new_center_idx\n",
    "    return S"
   ]
  },
  {
   "cell_type": "code",
   "execution_count": 59,
   "metadata": {},
   "outputs": [
    {
     "name": "stdout",
     "output_type": "stream",
     "text": [
      "Number of points: 9960\n",
      "Elapsed Time first set : 0.7605226039886475 s\n",
      "Number of points: 50047\n",
      "Elapsed Time first set : 3.2561631202697754 s\n",
      "Number of points: 99670\n",
      "Elapsed Time first set : 6.447360515594482 s\n",
      "Number of points: 499950\n",
      "Elapsed Time first set : 34.19487452507019 s\n"
     ]
    }
   ],
   "source": [
    "vector_list = readVectorsSeq('test-datasets/vecs-50-10000.txt')\n",
    "k = 10 \n",
    "\n",
    "t0 = time.time()\n",
    "C = kcenter_GC(vector_list,k)\n",
    "t1 = time.time()\n",
    "\n",
    "print('Number of points:', len(vector_list))\n",
    "print('Elapsed Time first set :', t1-t0, 's')\n",
    "\n",
    "vector_list = readVectorsSeq('test-datasets/vecs-50-50000.txt')\n",
    "\n",
    "t0 = time.time()\n",
    "C = kcenter_GC(vector_list,k)\n",
    "t1 = time.time()\n",
    "\n",
    "print('Number of points:', len(vector_list))\n",
    "print('Elapsed Time first set :', t1-t0, 's')\n",
    "\n",
    "vector_list = readVectorsSeq('test-datasets/vecs-50-100000.txt')\n",
    "\n",
    "t0 = time.time()\n",
    "C = kcenter_GC(vector_list,k)\n",
    "t1 = time.time()\n",
    "\n",
    "print('Number of points:', len(vector_list))\n",
    "print('Elapsed Time first set :', t1-t0, 's')\n",
    "\n",
    "vector_list = readVectorsSeq('test-datasets/vecs-50-500000.txt')\n",
    "\n",
    "t0 = time.time()\n",
    "C = kcenter_GC(vector_list,k)\n",
    "t1 = time.time()\n",
    "\n",
    "print('Number of points:', len(vector_list))\n",
    "print('Elapsed Time first set :', t1-t0, 's')"
   ]
  },
  {
   "cell_type": "code",
   "execution_count": null,
   "metadata": {},
   "outputs": [],
   "source": []
  }
 ],
 "metadata": {
  "kernelspec": {
   "display_name": "Python 3",
   "language": "python",
   "name": "python3"
  },
  "language_info": {
   "codemirror_mode": {
    "name": "ipython",
    "version": 3
   },
   "file_extension": ".py",
   "mimetype": "text/x-python",
   "name": "python",
   "nbconvert_exporter": "python",
   "pygments_lexer": "ipython3",
   "version": "3.6.4"
  }
 },
 "nbformat": 4,
 "nbformat_minor": 2
}
