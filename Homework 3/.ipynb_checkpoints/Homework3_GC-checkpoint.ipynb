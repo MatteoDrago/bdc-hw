{
 "cells": [
  {
   "cell_type": "markdown",
   "metadata": {},
   "source": [
    "# Homework 3"
   ]
  },
  {
   "cell_type": "code",
   "execution_count": 1,
   "metadata": {
    "collapsed": true
   },
   "outputs": [],
   "source": [
    "# Import Packages\n",
    "from pyspark import SparkConf, SparkContext\n",
    "from pyspark.ml.linalg import Vectors\n",
    "import random\n",
    "import time"
   ]
  },
  {
   "cell_type": "markdown",
   "metadata": {},
   "source": [
    "### Load the Datasets"
   ]
  },
  {
   "cell_type": "code",
   "execution_count": 2,
   "metadata": {
    "collapsed": true
   },
   "outputs": [],
   "source": [
    "def readVectorsSeq(filename):\n",
    "    file = open(filename, 'r')\n",
    "    vector_list = []\n",
    "    for row in file.readlines():\n",
    "        vector_list.append(Vectors.dense([float(num_str) for num_str in row.split()]))\n",
    "    return vector_list"
   ]
  },
  {
   "cell_type": "code",
   "execution_count": 4,
   "metadata": {
    "collapsed": false
   },
   "outputs": [
    {
     "name": "stdout",
     "output_type": "stream",
     "text": [
      "INFO OF THE DATASET:\n",
      "- Number of points: 11\n",
      "- Dimensionality of a Point: 50\n"
     ]
    }
   ],
   "source": [
    "vector_list = readVectorsSeq('test-datasets/prova.txt')\n",
    "\n",
    "# Print Info of the Dataset\n",
    "print('INFO OF THE DATASET:')\n",
    "print('- Number of points:', len(vector_list))\n",
    "print('- Dimensionality of a Point:', len(vector_list[0]))"
   ]
  },
  {
   "cell_type": "markdown",
   "metadata": {},
   "source": [
    "## Fake 2-D Dataset for Testing"
   ]
  },
  {
   "cell_type": "code",
   "execution_count": 6,
   "metadata": {
    "collapsed": false
   },
   "outputs": [
    {
     "data": {
      "image/png": "[encoded data removed]",
      "text/plain": [
       "<Figure size 576x360 with 1 Axes>"
      ]
     },
     "metadata": {},
     "output_type": "display_data"
    }
   ],
   "source": [
    "import numpy as np\n",
    "import matplotlib.pyplot as plt\n",
    "\n",
    "vector_list = []\n",
    "np.random.seed(seed=0)\n",
    "n_points = 50\n",
    "for i in range(n_points):\n",
    "    vector_list.append(Vectors.dense(np.random.rand(2)))\n",
    "\n",
    "# Plot\n",
    "plt.figure(figsize=(8, 5))\n",
    "plt.title('Dataset', fontweight='bold')\n",
    "for i in range(n_points):\n",
    "    plt.scatter(vector_list[i][0], vector_list[i][1], c='lightskyblue', s=30, alpha=0.6)\n",
    "plt.show()"
   ]
  },
  {
   "cell_type": "markdown",
   "metadata": {},
   "source": [
    "<hr>\n",
    "### K-Centers"
   ]
  },
  {
   "cell_type": "code",
   "execution_count": 7,
   "metadata": {
    "collapsed": true
   },
   "outputs": [],
   "source": [
    "def kcenter(P, k):\n",
    "    P_minus_S = [p for p in P]\n",
    "    idx_rnd = random.randint(0, len(P)-1)\n",
    "    S = [P[idx_rnd]]\n",
    "    P_minus_S.pop(idx_rnd)\n",
    "    related_center_idx = [idx_rnd for i in range(len(P))]\n",
    "    dist_near_center = [Vectors.squared_distance(P[i], S[0]) for i in range(len(P))]\n",
    "\n",
    "    for i in range(k-1):    \n",
    "        new_center_idx = max(enumerate(dist_near_center), key=lambda x: x[1])[0] # argmax operation\n",
    "\n",
    "        S.append(P[new_center_idx])\n",
    "        P_minus_S.remove(P[new_center_idx])\n",
    "\n",
    "        for j in range(len(P)):\n",
    "            if j != new_center_idx:\n",
    "                dist = Vectors.squared_distance(P[j], S[-1])\n",
    "                if dist < dist_near_center[j]:\n",
    "                    dist_near_center[j] = dist\n",
    "                    related_center_idx[j] = new_center_idx\n",
    "            else:\n",
    "                dist_near_center[j] = 0\n",
    "                related_center_idx[j] = new_center_idx\n",
    "    return S"
   ]
  },
  {
   "cell_type": "code",
   "execution_count": 8,
   "metadata": {
    "collapsed": true
   },
   "outputs": [],
   "source": [
    "P = [p for p in vector_list]\n",
    "centers = kcenter(P, 5)"
   ]
  },
  {
   "cell_type": "code",
   "execution_count": 9,
   "metadata": {
    "collapsed": false
   },
   "outputs": [
    {
     "data": {
      "image/png": "[encoded data removed]",
      "text/plain": [
       "<Figure size 576x360 with 1 Axes>"
      ]
     },
     "metadata": {},
     "output_type": "display_data"
    }
   ],
   "source": [
    "# Plot\n",
    "plt.figure(figsize=(8, 5))\n",
    "plt.title('Dataset', fontweight='bold')\n",
    "for i in range(n_points):\n",
    "    plt.scatter(vector_list[i][0], vector_list[i][1], c='lightskyblue', s=30, zorder=5)\n",
    "    \n",
    "# Plot the Centers\n",
    "for i in range(len(centers)):\n",
    "    center_i = centers[i]\n",
    "    plt.scatter(center_i[0], center_i[1], c='orange', s=30, zorder=10)\n",
    "    \n",
    "plt.show()"
   ]
  },
  {
   "cell_type": "markdown",
   "metadata": {},
   "source": [
    "<hr>\n",
    "### Time Complexity of the K-Center Algorithm"
   ]
  },
  {
   "cell_type": "code",
   "execution_count": 10,
   "metadata": {
    "collapsed": true
   },
   "outputs": [],
   "source": [
    "# Create the Datasets\n",
    "n_datasets = 50\n",
    "datasets = []\n",
    "for n in range(n_datasets):\n",
    "    vector_list = []\n",
    "    np.random.seed(seed=n)\n",
    "    n_points = 50*(n+1)\n",
    "    for i in range(n_points):\n",
    "        vector_list.append(Vectors.dense(np.random.rand(2)))\n",
    "    datasets.append(vector_list)\n",
    "\n",
    "times = []\n",
    "datasets_centers = []\n",
    "for n in range(n_datasets):\n",
    "    P = [p for p in datasets[n]]\n",
    "    t1 = time.time()\n",
    "    centers = kcenter(P, 5)\n",
    "    t2 = time.time()\n",
    "    datasets_centers.append(centers)\n",
    "    times.append(t2-t1)"
   ]
  },
  {
   "cell_type": "code",
   "execution_count": 11,
   "metadata": {
    "collapsed": true
   },
   "outputs": [],
   "source": [
    "# Get the Linear Regression Model for the Time\n",
    "y = np.array(times).reshape(n_datasets, 1)\n",
    "X = np.zeros((n_datasets, 2))\n",
    "X[:, 0] = np.ones((n_datasets,))\n",
    "X[:, 1] = np.arange(1, n_datasets+1)*n_datasets\n",
    "beta = np.dot(np.dot(np.linalg.inv(np.dot(X.T, X)), X.T), y)\n",
    "x = np.array([(i+1)*50 for i in range(n_datasets)])\n",
    "linear_model = x*beta[1] + beta[0]"
   ]
  },
  {
   "cell_type": "code",
   "execution_count": 12,
   "metadata": {
    "collapsed": false
   },
   "outputs": [
    {
     "name": "stdout",
     "output_type": "stream",
     "text": [
      "Fit of the Time Complexity:\n",
      "Time = 9.79589956863e-05 * |P| + -0.0078977833962 [s]\n"
     ]
    },
    {
     "data": {
      "image/png": "[encoded data removed]",
      "text/plain": [
       "<Figure size 576x288 with 1 Axes>"
      ]
     },
     "metadata": {},
     "output_type": "display_data"
    }
   ],
   "source": [
    "print('Fit of the Time Complexity:')\n",
    "print('Time =', beta[1,0],'* |P| +', beta[0,0], '[s]')\n",
    "\n",
    "# Plot\n",
    "plt.figure(figsize=(8, 4))\n",
    "plt.title('Complexity of the K-Center Algorithm for K=5', fontweight='bold')\n",
    "plt.scatter([(i+1)*50 for i in range(n_datasets)], times, alpha=0.6, c='orange', label='Time Data', s=30)\n",
    "plt.plot(x, linear_model, c='k', lw=1.5, alpha=0.7, ls='--', label='Linear Model Fit')\n",
    "plt.xlabel('Dataset Size |P|', fontweight='bold')\n",
    "plt.ylabel('Time [s]', fontweight='bold')\n",
    "plt.xlim(0, n_datasets*n_datasets)\n",
    "plt.legend(loc=2, prop={'size':10})\n",
    "plt.show()"
   ]
  },
  {
   "cell_type": "markdown",
   "metadata": {},
   "source": [
    "#### Comments of the Plot Above\n",
    "We see that we have a linear trend on time complexity varing the dataset size $|P|$, so we can say that with fixed number of centers ($K=5$ in this case) we have: \n",
    "\n",
    "$$\\text{Time Complexity} \\in O(|P|)$$"
   ]
  },
  {
   "cell_type": "code",
   "execution_count": 13,
   "metadata": {
    "collapsed": true
   },
   "outputs": [],
   "source": [
    "# Create the Datasets\n",
    "n_datasets = 50\n",
    "datasets = []\n",
    "for n in range(n_datasets):\n",
    "    vector_list = []\n",
    "    np.random.seed(seed=n)\n",
    "    n_points = 100\n",
    "    for i in range(n_points):\n",
    "        vector_list.append(Vectors.dense(np.random.rand(2)))\n",
    "    datasets.append(vector_list)\n",
    "\n",
    "times = []\n",
    "datasets_centers = []\n",
    "for n in range(n_datasets):\n",
    "    P = [p for p in datasets[n]]\n",
    "    t1 = time.time()\n",
    "    centers = kcenter(P, 2+n)\n",
    "    t2 = time.time()\n",
    "    datasets_centers.append(centers)\n",
    "    times.append(t2-t1)"
   ]
  },
  {
   "cell_type": "code",
   "execution_count": 14,
   "metadata": {
    "collapsed": true
   },
   "outputs": [],
   "source": [
    "# Get the Linear Regression Model for the Time\n",
    "y = np.array(times).reshape(n_datasets, 1)\n",
    "X = np.zeros((n_datasets, 2))\n",
    "X[:, 0] = np.ones((n_datasets,))\n",
    "X[:, 1] = np.arange(1, n_datasets+1)\n",
    "beta = np.dot(np.dot(np.linalg.inv(np.dot(X.T, X)), X.T), y)\n",
    "x = np.array([2+i for i in range(n_datasets)])\n",
    "linear_model = x*beta[1] + beta[0]"
   ]
  },
  {
   "cell_type": "code",
   "execution_count": 15,
   "metadata": {
    "collapsed": false
   },
   "outputs": [
    {
     "name": "stdout",
     "output_type": "stream",
     "text": [
      "Fit of the Time Complexity:\n",
      "Time = 0.00164171027679 * K + 0.00525180446858 [s]\n"
     ]
    },
    {
     "data": {
      "image/png": "[encoded data removed]",
      "text/plain": [
       "<Figure size 576x288 with 1 Axes>"
      ]
     },
     "metadata": {},
     "output_type": "display_data"
    }
   ],
   "source": [
    "print('Fit of the Time Complexity:')\n",
    "print('Time =', beta[1,0],'* K +', beta[0,0], '[s]')\n",
    "\n",
    "# Plot\n",
    "plt.figure(figsize=(8, 4))\n",
    "plt.title('Complexity of the K-Center Algorithm for |P|=100', fontweight='bold')\n",
    "plt.scatter([2+i for i in range(n_datasets)], times, s=30, c='orange', alpha=0.6, label='Time Data')\n",
    "plt.plot(x, linear_model, c='k', lw=1.5, alpha=0.7, ls='--', label='Linear Model Fit')\n",
    "plt.xlabel('Number of Centers K', fontweight='bold')\n",
    "plt.ylabel('Time [s]', fontweight='bold')\n",
    "plt.xlim(0, n_datasets+1)\n",
    "plt.legend(loc=2, prop={'size':10})\n",
    "plt.show()"
   ]
  },
  {
   "cell_type": "markdown",
   "metadata": {},
   "source": [
    "#### Comments of the Plot Above\n",
    "We see that we have a linear trend on time complexity varing the number of centers $K$, so we can say that with fixed dataset size ($|P|=100$ in this case) we have: \n",
    "\n",
    "$$\\text{Time Complexity} \\in O(K)$$"
   ]
  },
  {
   "cell_type": "markdown",
   "metadata": {
    "collapsed": true
   },
   "source": [
    "<hr>\n",
    "### K-Means++"
   ]
  },
  {
   "cell_type": "code",
   "execution_count": 16,
   "metadata": {
    "collapsed": true
   },
   "outputs": [],
   "source": [
    "def kmeansPP(P, k):\n",
    "    P_minus_S = [p for p in P]\n",
    "    idx_rnd = random.randint(0, len(P)-1)\n",
    "    S = [P[idx_rnd]]\n",
    "    P_minus_S.pop(idx_rnd)\n",
    "    related_center_idx = [idx_rnd for i in range(len(P))]\n",
    "    dist_near_center = [Vectors.squared_distance(P[i], S[0]) for i in range(len(P))]\n",
    "\n",
    "    for i in range(k-1):    \n",
    "        sum_dist = sum([d for d in dist_near_center])\n",
    "        probs = [d / sum_dist for d in dist_near_center]\n",
    "        cum_probs = [sum(probs[:i+1]) for i in range(len(P))]\n",
    "        coin = random.random()\n",
    "        cum_probs_minus_coin = [abs(cum_probs[j]-coin) for j in range(len(P))]\n",
    "        new_center_idx = min(enumerate(cum_probs_minus_coin), key=lambda x: x[1])[0] # argmin operation\n",
    "        \n",
    "        # Append the New Center\n",
    "        S.append(P[new_center_idx])\n",
    "        P_minus_S.remove(P[new_center_idx])\n",
    "        \n",
    "        # Update the Distances and the Clusters\n",
    "        for j in range(len(P)):\n",
    "            if j != new_center_idx:\n",
    "                dist = Vectors.squared_distance(P[j], S[-1])\n",
    "                if dist < dist_near_center[j]:\n",
    "                    dist_near_center[j] = dist\n",
    "                    related_center_idx[j] = new_center_idx\n",
    "            else:\n",
    "                dist_near_center[j] = 0\n",
    "                related_center_idx[j] = new_center_idx\n",
    "                \n",
    "    return S"
   ]
  },
  {
   "cell_type": "code",
   "execution_count": 17,
   "metadata": {
    "collapsed": true
   },
   "outputs": [],
   "source": [
    "P = [p for p in vector_list]\n",
    "centers = kmeansPP(P, 5)"
   ]
  },
  {
   "cell_type": "code",
   "execution_count": 18,
   "metadata": {
    "collapsed": false
   },
   "outputs": [
    {
     "data": {
      "image/png": "[encoded data removed]",
      "text/plain": [
       "<Figure size 576x360 with 1 Axes>"
      ]
     },
     "metadata": {},
     "output_type": "display_data"
    }
   ],
   "source": [
    "# Plot\n",
    "plt.figure(figsize=(8, 5))\n",
    "plt.title('Dataset', fontweight='bold')\n",
    "for i in range(n_points):\n",
    "    plt.scatter(vector_list[i][0], vector_list[i][1], c='lightskyblue', s=30, zorder=5)\n",
    "    \n",
    "# Plot the Centers\n",
    "for i in range(len(centers)):\n",
    "    center_i = centers[i]\n",
    "    plt.scatter(center_i[0], center_i[1], c='orange', s=30, zorder=10)\n",
    "    \n",
    "plt.show()"
   ]
  },
  {
   "cell_type": "markdown",
   "metadata": {},
   "source": [
    "<hr>\n",
    "### Time Complexity of the K-Means++ Algorithm"
   ]
  },
  {
   "cell_type": "code",
   "execution_count": 19,
   "metadata": {
    "collapsed": true
   },
   "outputs": [],
   "source": [
    "# Create the Datasets\n",
    "n_datasets = 50\n",
    "datasets = []\n",
    "for n in range(n_datasets):\n",
    "    vector_list = []\n",
    "    np.random.seed(seed=n)\n",
    "    n_points = 50*(n+1)\n",
    "    for i in range(n_points):\n",
    "        vector_list.append(Vectors.dense(np.random.rand(2)))\n",
    "    datasets.append(vector_list)\n",
    "\n",
    "times = []\n",
    "datasets_centers = []\n",
    "for n in range(n_datasets):\n",
    "    P = [p for p in datasets[n]]\n",
    "    t1 = time.time()\n",
    "    centers = kmeansPP(P, 5)\n",
    "    t2 = time.time()\n",
    "    datasets_centers.append(centers)\n",
    "    times.append(t2-t1)"
   ]
  },
  {
   "cell_type": "code",
   "execution_count": 20,
   "metadata": {
    "collapsed": true
   },
   "outputs": [],
   "source": [
    "# Get the Linear Regression Model for the Time\n",
    "y = np.array(times).reshape(n_datasets, 1)\n",
    "X = np.zeros((n_datasets, 2))\n",
    "X[:, 0] = np.ones((n_datasets,))\n",
    "X[:, 1] = np.arange(1, n_datasets+1)*n_datasets\n",
    "beta = np.dot(np.dot(np.linalg.inv(np.dot(X.T, X)), X.T), y)\n",
    "x = np.array([(i+1)*50 for i in range(n_datasets)])\n",
    "linear_model = x*beta[1] + beta[0]"
   ]
  },
  {
   "cell_type": "code",
   "execution_count": 22,
   "metadata": {
    "collapsed": false
   },
   "outputs": [
    {
     "name": "stdout",
     "output_type": "stream",
     "text": [
      "Fit of the Time Complexity:\n",
      "Time = 0.000689616928009 * |P| + -0.261351817968 [s]\n"
     ]
    },
    {
     "data": {
      "image/png": "[encoded data removed]",
      "text/plain": [
       "<Figure size 576x288 with 1 Axes>"
      ]
     },
     "metadata": {},
     "output_type": "display_data"
    }
   ],
   "source": [
    "print('Fit of the Time Complexity:')\n",
    "print('Time =', beta[1,0],'* |P| +', beta[0,0], '[s]')\n",
    "\n",
    "# Plot\n",
    "plt.figure(figsize=(8, 4))\n",
    "plt.title('Complexity of the K-Means++ Algorithm for K=5', fontweight='bold')\n",
    "plt.scatter([(i+1)*50 for i in range(n_datasets)], times, alpha=0.6, c='orange', label='Time Data', s=30)\n",
    "plt.plot(x, linear_model, c='k', lw=1.5, alpha=0.7, ls='--', label='Linear Model Fit')\n",
    "plt.xlabel('Dataset Size |P|', fontweight='bold')\n",
    "plt.ylabel('Time [s]', fontweight='bold')\n",
    "plt.xlim(0, n_datasets*n_datasets)\n",
    "plt.legend(loc=2, prop={'size':10})\n",
    "plt.show()"
   ]
  },
  {
   "cell_type": "code",
   "execution_count": 25,
   "metadata": {
    "collapsed": true
   },
   "outputs": [],
   "source": [
    "# Create the Datasets\n",
    "n_datasets = 50\n",
    "datasets = []\n",
    "for n in range(n_datasets):\n",
    "    vector_list = []\n",
    "    np.random.seed(seed=n)\n",
    "    n_points = 100\n",
    "    for i in range(n_points):\n",
    "        vector_list.append(Vectors.dense(np.random.rand(2)))\n",
    "    datasets.append(vector_list)\n",
    "\n",
    "times = []\n",
    "datasets_centers = []\n",
    "for n in range(n_datasets):\n",
    "    P = [p for p in datasets[n]]\n",
    "    t1 = time.time()\n",
    "    centers = kmeansPP(P, 2+n)\n",
    "    t2 = time.time()\n",
    "    datasets_centers.append(centers)\n",
    "    times.append(t2-t1)"
   ]
  },
  {
   "cell_type": "code",
   "execution_count": 26,
   "metadata": {
    "collapsed": true
   },
   "outputs": [],
   "source": [
    "# Get the Linear Regression Model for the Time\n",
    "y = np.array(times).reshape(n_datasets, 1)\n",
    "X = np.zeros((n_datasets, 2))\n",
    "X[:, 0] = np.ones((n_datasets,))\n",
    "X[:, 1] = np.arange(1, n_datasets+1)\n",
    "beta = np.dot(np.dot(np.linalg.inv(np.dot(X.T, X)), X.T), y)\n",
    "x = np.array([2+i for i in range(n_datasets)])\n",
    "linear_model = x*beta[1] + beta[0]"
   ]
  },
  {
   "cell_type": "code",
   "execution_count": 27,
   "metadata": {
    "collapsed": false
   },
   "outputs": [
    {
     "name": "stdout",
     "output_type": "stream",
     "text": [
      "Fit of the Time Complexity:\n",
      "Time = 0.00232970130114 * K + 0.00496463658858 [s]\n"
     ]
    },
    {
     "data": {
      "image/png": "[encoded data removed]",
      "text/plain": [
       "<Figure size 576x288 with 1 Axes>"
      ]
     },
     "metadata": {},
     "output_type": "display_data"
    }
   ],
   "source": [
    "print('Fit of the Time Complexity:')\n",
    "print('Time =', beta[1,0],'* K +', beta[0,0], '[s]')\n",
    "\n",
    "# Plot\n",
    "plt.figure(figsize=(8, 4))\n",
    "plt.title('Complexity of the K-Means++ Algorithm for |P|=100', fontweight='bold')\n",
    "plt.scatter([2+i for i in range(n_datasets)], times, s=30, c='orange', alpha=0.6, label='Time Data')\n",
    "plt.plot(x, linear_model, c='k', lw=1.5, alpha=0.7, ls='--', label='Linear Model Fit')\n",
    "plt.xlabel('Number of Centers K', fontweight='bold')\n",
    "plt.ylabel('Time [s]', fontweight='bold')\n",
    "plt.xlim(0, n_datasets+1)\n",
    "plt.legend(loc=2, prop={'size':10})\n",
    "plt.show()"
   ]
  },
  {
   "cell_type": "markdown",
   "metadata": {},
   "source": [
    "#### Comments of the Plot Above\n",
    "We see that we have a linear trend on time complexity varing the number of centers $K$, so we can say that with fixed dataset size ($|P|=100$ in this case) we have: \n",
    "\n",
    "$$\\text{Time Complexity} \\in O(K)$$"
   ]
  },
  {
   "cell_type": "markdown",
   "metadata": {},
   "source": [
    "<hr>\n",
    "### K-Means Objective Function"
   ]
  },
  {
   "cell_type": "code",
   "execution_count": 28,
   "metadata": {
    "collapsed": true
   },
   "outputs": [],
   "source": [
    "def kmeansObj(P, C):\n",
    "    obj = 0\n",
    "    related_center_idx = []\n",
    "    \n",
    "    for p in P:\n",
    "        \n",
    "        # Find the closest Center\n",
    "        dist_min = Vectors.squared_distance(p, C[0])\n",
    "        for c in C:\n",
    "            dist = Vectors.squared_distance(p, c)\n",
    "            \n",
    "            if dist < dist_min:\n",
    "                dist_min = dist\n",
    "                \n",
    "        # Update the Objective Function   \n",
    "        obj += dist_min / len(P)\n",
    "                \n",
    "    return obj"
   ]
  },
  {
   "cell_type": "code",
   "execution_count": null,
   "metadata": {
    "collapsed": true
   },
   "outputs": [],
   "source": []
  }
 ],
 "metadata": {
  "anaconda-cloud": {},
  "kernelspec": {
   "display_name": "Python 3",
   "language": "python",
   "name": "python3"
  },
  "language_info": {
   "codemirror_mode": {
    "name": "ipython",
    "version": 3
   },
   "file_extension": ".py",
   "mimetype": "text/x-python",
   "name": "python",
   "nbconvert_exporter": "python",
   "pygments_lexer": "ipython3",
   "version": "3.6.0"
  }
 },
 "nbformat": 4,
 "nbformat_minor": 1
}
