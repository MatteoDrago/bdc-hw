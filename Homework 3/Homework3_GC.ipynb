{
 "cells": [
  {
   "cell_type": "markdown",
   "metadata": {},
   "source": [
    "# Homework 3"
   ]
  },
  {
   "cell_type": "code",
   "execution_count": 1,
   "metadata": {
    "collapsed": true
   },
   "outputs": [],
   "source": [
    "# Import Packages\n",
    "from pyspark import SparkConf, SparkContext\n",
    "from pyspark.ml.linalg import Vectors\n",
    "import random"
   ]
  },
  {
   "cell_type": "markdown",
   "metadata": {},
   "source": [
    "### Load the Datasets"
   ]
  },
  {
   "cell_type": "code",
   "execution_count": 2,
   "metadata": {
    "collapsed": false
   },
   "outputs": [],
   "source": [
    "def readVectorsSeq(filename):\n",
    "    file = open(filename, 'r')\n",
    "    vector_list = []\n",
    "    for row in file.readlines():\n",
    "        vector_list.append(Vectors.dense([float(num_str) for num_str in row.split()]))\n",
    "    return vector_list"
   ]
  },
  {
   "cell_type": "code",
   "execution_count": 3,
   "metadata": {
    "collapsed": false
   },
   "outputs": [
    {
     "name": "stdout",
     "output_type": "stream",
     "text": [
      "INFO OF THE DATASET:\n",
      "- Number of points: 11\n",
      "- Dimensionality of a Point: 50\n"
     ]
    }
   ],
   "source": [
    "vector_list = readVectorsSeq('test-datasets/prova.txt')\n",
    "\n",
    "# Print Info of the Dataset\n",
    "print 'INFO OF THE DATASET:'\n",
    "print '- Number of points:', len(vector_list)\n",
    "print '- Dimensionality of a Point:', len(vector_list[0])"
   ]
  },
  {
   "cell_type": "markdown",
   "metadata": {},
   "source": [
    "## Fake 2-D Dataset for Testing"
   ]
  },
  {
   "cell_type": "code",
   "execution_count": 5,
   "metadata": {
    "collapsed": false
   },
   "outputs": [
    {
     "data": {
      "image/png": "[encoded data removed]",
      "text/plain": [
       "<matplotlib.figure.Figure at 0x10333b390>"
      ]
     },
     "metadata": {},
     "output_type": "display_data"
    }
   ],
   "source": [
    "import numpy as np\n",
    "import matplotlib.pyplot as plt\n",
    "\n",
    "vector_list = []\n",
    "np.random.seed(seed=0)\n",
    "n_points = 50\n",
    "for i in range(n_points):\n",
    "    vector_list.append(Vectors.dense(np.random.rand(2)))\n",
    "\n",
    "# Plot\n",
    "plt.figure(figsize=(5, 3))\n",
    "plt.title('Dataset', fontweight='bold')\n",
    "for i in range(n_points):\n",
    "    plt.scatter(vector_list[i][0], vector_list[i][1], c='lightskyblue')\n",
    "plt.show()"
   ]
  },
  {
   "cell_type": "markdown",
   "metadata": {},
   "source": [
    "### K-Centers"
   ]
  },
  {
   "cell_type": "code",
   "execution_count": 6,
   "metadata": {
    "collapsed": false
   },
   "outputs": [],
   "source": [
    "def kcenter(P, k):\n",
    "    \n",
    "    # Initialization\n",
    "    random.shuffle(P)\n",
    "    S = [P[0]]\n",
    "    P.pop(0)\n",
    "    \n",
    "    for iteration in range(k-1):\n",
    "        dist_max = 0\n",
    "        idx_max = 0\n",
    "        for i in range(len(P)):\n",
    "            c_i = P[i]\n",
    "            dist_min = Vectors.squared_distance(c_i, S[0])\n",
    "            idx_min = 0\n",
    "            for j in range(len(S)):\n",
    "                c_j = S[j]\n",
    "                dist = Vectors.squared_distance(c_i, c_j)\n",
    "                if dist < dist_min:\n",
    "                    dist_min = dist\n",
    "                    idx_min = j\n",
    "            if dist_min > dist_max:\n",
    "                dist_max = dist_min\n",
    "                idx_max = i\n",
    "        S.append(P[idx_max])\n",
    "        P.pop(idx_max)\n",
    "    return S"
   ]
  },
  {
   "cell_type": "code",
   "execution_count": 7,
   "metadata": {
    "collapsed": false
   },
   "outputs": [],
   "source": [
    "P = [p for p in vector_list]\n",
    "centers = kcenter(P, 5)"
   ]
  },
  {
   "cell_type": "code",
   "execution_count": 8,
   "metadata": {
    "collapsed": false
   },
   "outputs": [
    {
     "data": {
      "image/png": "[encoded data removed]",
      "text/plain": [
       "<matplotlib.figure.Figure at 0x10c26b4d0>"
      ]
     },
     "metadata": {},
     "output_type": "display_data"
    }
   ],
   "source": [
    "# Plot\n",
    "plt.figure(figsize=(8, 5))\n",
    "plt.title('Dataset', fontweight='bold')\n",
    "for i in range(n_points):\n",
    "    plt.scatter(vector_list[i][0], vector_list[i][1], c='lightskyblue')\n",
    "\n",
    "for i in range(len(centers)):\n",
    "    plt.scatter(centers[i][0], centers[i][1], c='r')\n",
    "plt.show()"
   ]
  },
  {
   "cell_type": "code",
   "execution_count": null,
   "metadata": {
    "collapsed": true
   },
   "outputs": [],
   "source": []
  }
 ],
 "metadata": {
  "anaconda-cloud": {},
  "kernelspec": {
   "display_name": "Python [default]",
   "language": "python",
   "name": "python2"
  },
  "language_info": {
   "codemirror_mode": {
    "name": "ipython",
    "version": 2
   },
   "file_extension": ".py",
   "mimetype": "text/x-python",
   "name": "python",
   "nbconvert_exporter": "python",
   "pygments_lexer": "ipython2",
   "version": "2.7.12"
  }
 },
 "nbformat": 4,
 "nbformat_minor": 1
}
