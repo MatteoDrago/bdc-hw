{
 "cells": [
  {
   "cell_type": "markdown",
   "metadata": {},
   "source": [
    "# Homework 3 - RL"
   ]
  },
  {
   "cell_type": "code",
   "execution_count": 1,
   "metadata": {},
   "outputs": [
    {
     "name": "stdout",
     "output_type": "stream",
     "text": [
      "INFO OF THE DATASET:\n",
      "- Number of points: 11\n",
      "- Dimensionality of a Point: 50\n"
     ]
    }
   ],
   "source": [
    "# Import Packages\n",
    "from pyspark import SparkConf, SparkContext\n",
    "from pyspark.ml.linalg import Vectors\n",
    "import numpy as np\n",
    "import random\n",
    "import time\n",
    "\n",
    "#load dataset\n",
    "def readVectorsSeq(filename):\n",
    "    file = open(filename, 'r')\n",
    "    vector_list = []\n",
    "    for row in file.readlines():\n",
    "        vector_list.append(Vectors.dense([float(num_str) for num_str in row.split()]))\n",
    "    return vector_list\n",
    "\n",
    "vector_list = readVectorsSeq('test-datasets/prova.txt')\n",
    "\n",
    "# Print Info of the Dataset\n",
    "print('INFO OF THE DATASET:')\n",
    "print('- Number of points:', len(vector_list))\n",
    "print('- Dimensionality of a Point:', len(vector_list[0]))"
   ]
  },
  {
   "cell_type": "markdown",
   "metadata": {},
   "source": [
    "L'algoritmo di Gugio è O(|P|*k), è facile da vedere perché il primo ciclo compie (k-1) iterazioni e all'interno di ogni iterazione c'è un argmax() che ha prestazioni O(|P|) e un ciclo sugli elementi di P. Quindi l'algoritmo è O((k-1)*2|P|)=O(2*k*|P|)=O(k*|P|)."
   ]
  },
  {
   "cell_type": "code",
   "execution_count": 26,
   "metadata": {},
   "outputs": [],
   "source": [
    "def kcenter(P, k):\n",
    "    P_minus_S = [p for p in P]\n",
    "    idx_rnd = random.randint(0, len(P)-1)\n",
    "    S = [P_minus_S.pop(idx_rnd)]  #pop() returns the     \n",
    "    related_center_idx = [idx_rnd for i in range(len(P))]\n",
    "    dist_near_center = [Vectors.squared_distance(P[i], S[0]) for i in range(len(P))]\n",
    "\n",
    "    for i in range(k-1):    \n",
    "        new_center_idx = np.argmax(dist_near_center)\n",
    "\n",
    "        S.append(P[new_center_idx])\n",
    "        P_minus_S.remove(P[new_center_idx])\n",
    "\n",
    "        for j in range(len(P)):\n",
    "            if j != new_center_idx:\n",
    "                dist = Vectors.squared_distance(P[j], S[-1])\n",
    "                if dist < dist_near_center[j]:\n",
    "                    dist_near_center[j] = dist\n",
    "                    related_center_idx[j] = new_center_idx\n",
    "            else:\n",
    "                dist_near_center[j] = 0\n",
    "                related_center_idx[j] = new_center_idx\n",
    "    return S"
   ]
  },
  {
   "cell_type": "code",
   "execution_count": 30,
   "metadata": {},
   "outputs": [],
   "source": [
    "centers = kcenter(vector_list, 3)"
   ]
  },
  {
   "cell_type": "code",
   "execution_count": 31,
   "metadata": {},
   "outputs": [
    {
     "data": {
      "image/png": "[encoded data removed]",
      "text/plain": [
       "<matplotlib.figure.Figure at 0x1c5f1e81f60>"
      ]
     },
     "metadata": {},
     "output_type": "display_data"
    }
   ],
   "source": [
    "# Plot\n",
    "import matplotlib.pyplot as plt\n",
    "%matplotlib inline\n",
    "plt.figure(figsize=(8, 5))\n",
    "plt.title('Dataset', fontweight='bold')\n",
    "for i in range(len(P)):\n",
    "    plt.scatter(vector_list[i][0], vector_list[i][1], c='lightskyblue', s=30, zorder=5)\n",
    "    \n",
    "# Plot the Centers\n",
    "for i in range(len(centers)):\n",
    "    center_i = centers[i]\n",
    "    plt.scatter(center_i[0], center_i[1], c='orange', s=30, zorder=10)\n",
    "    \n",
    "plt.show()"
   ]
  },
  {
   "cell_type": "code",
   "execution_count": 48,
   "metadata": {},
   "outputs": [],
   "source": [
    "def kmeansPP(P, k):\n",
    "    P_minus_S = [p for p in P] #O(P)\n",
    "    idx_rnd = random.randint(0, len(P)-1) #O(1)\n",
    "    S = [P_minus_S.pop(idx_rnd)] #O(1)\n",
    "    related_center_idx = [idx_rnd for i in range(len(P))] #O(P) migliorabile\n",
    "    dist_near_center = [Vectors.squared_distance(P[i], S[0]) for i in range(len(P))] #O(P)\n",
    "\n",
    "    for i in range(k-1): #O(k)\n",
    "        sum_dist_squared = sum([d for d in dist_near_center]) #O(P)\n",
    "        probs = [d / sum_dist_squared for d in dist_near_center] #O(P)\n",
    "        \n",
    "        cdf = [sum(probs[:i+1]) for i in range(len(P))] #O(P) transform to cdf\n",
    "        coin = random.random() #O(1)\n",
    "        new_center_idx = np.argmin([abs(cdf[j]-coin) for j in range(len(P))]) # argmin operation O(P)\n",
    "        \n",
    "        # Append the New Center\n",
    "        S.append(P[new_center_idx]) #O(1)\n",
    "        P_minus_S.remove(P[new_center_idx]) #O(1)\n",
    "        \n",
    "        # Update the Distances and the Clusters\n",
    "        for j in range(len(P)): #O(P)\n",
    "            if j != new_center_idx: #O(1)\n",
    "                dist = Vectors.squared_distance(P[j], S[-1]) #O(1)\n",
    "                if dist < dist_near_center[j]: #O(1)\n",
    "                    dist_near_center[j] = dist #O(1)\n",
    "                    related_center_idx[j] = new_center_idx #O(1)\n",
    "            else:\n",
    "                dist_near_center[j] = 0 #O(1)\n",
    "                related_center_idx[j] = new_center_idx #O(1)\n",
    "                \n",
    "    return S"
   ]
  },
  {
   "cell_type": "code",
   "execution_count": 49,
   "metadata": {},
   "outputs": [],
   "source": [
    "centers = kmeansPP(vector_list, 3)"
   ]
  },
  {
   "cell_type": "code",
   "execution_count": 50,
   "metadata": {},
   "outputs": [
    {
     "data": {
      "image/png": "[encoded data removed]",
      "text/plain": [
       "<matplotlib.figure.Figure at 0x1c5f213b470>"
      ]
     },
     "metadata": {},
     "output_type": "display_data"
    }
   ],
   "source": [
    "# Plot\n",
    "import matplotlib.pyplot as plt\n",
    "%matplotlib inline\n",
    "plt.figure(figsize=(8, 5))\n",
    "plt.title('Dataset', fontweight='bold')\n",
    "for i in range(len(P)):\n",
    "    plt.scatter(vector_list[i][0], vector_list[i][1], c='lightskyblue', s=30, zorder=5)\n",
    "    \n",
    "# Plot the Centers\n",
    "for i in range(len(centers)):\n",
    "    center_i = centers[i]\n",
    "    plt.scatter(center_i[0], center_i[1], c='orange', s=30, zorder=10)\n",
    "    \n",
    "plt.show()"
   ]
  },
  {
   "cell_type": "markdown",
   "metadata": {},
   "source": []
  }
 ],
 "metadata": {
  "kernelspec": {
   "display_name": "Python 3",
   "language": "python",
   "name": "python3"
  },
  "language_info": {
   "codemirror_mode": {
    "name": "ipython",
    "version": 3
   },
   "file_extension": ".py",
   "mimetype": "text/x-python",
   "name": "python",
   "nbconvert_exporter": "python",
   "pygments_lexer": "ipython3",
   "version": "3.6.4"
  }
 },
 "nbformat": 4,
 "nbformat_minor": 2
}
