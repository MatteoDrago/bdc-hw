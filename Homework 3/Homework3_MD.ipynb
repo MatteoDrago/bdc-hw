{
 "cells": [
  {
   "cell_type": "markdown",
   "metadata": {},
   "source": [
    "Homework 3"
   ]
  },
  {
   "cell_type": "code",
   "execution_count": 4,
   "metadata": {
    "collapsed": true
   },
   "outputs": [],
   "source": [
    "# Import Packages\n",
    "from pyspark import SparkConf, SparkContext\n",
    "from pyspark.ml.linalg import Vectors\n",
    "import random\n",
    "import time"
   ]
  },
  {
   "cell_type": "code",
   "execution_count": 5,
   "metadata": {
    "collapsed": true
   },
   "outputs": [],
   "source": [
    "random.seed(42)"
   ]
  },
  {
   "cell_type": "code",
   "execution_count": 6,
   "metadata": {
    "collapsed": true
   },
   "outputs": [],
   "source": [
    "def readVectorsSeq(filename):\n",
    "    file = open(filename, 'r')\n",
    "    vector_list = []\n",
    "    for row in file.readlines():\n",
    "        vector_list.append(Vectors.dense([float(num_str) for num_str in row.split()]))\n",
    "    return vector_list"
   ]
  },
  {
   "cell_type": "code",
   "execution_count": 7,
   "metadata": {
    "collapsed": false
   },
   "outputs": [
    {
     "name": "stdout",
     "output_type": "stream",
     "text": [
      "INFO OF THE DATASET:\n",
      "- Number of points: 11\n",
      "- Dimensionality of a Point: 50\n"
     ]
    }
   ],
   "source": [
    "vector_list = readVectorsSeq('test-datasets/prova.txt')\n",
    "\n",
    "# Print Info of the Dataset\n",
    "print('INFO OF THE DATASET:')\n",
    "print('- Number of points:', len(vector_list))\n",
    "print('- Dimensionality of a Point:', len(vector_list[0]))"
   ]
  },
  {
   "cell_type": "markdown",
   "metadata": {},
   "source": [
    "# k-Center \n",
    "\n",
    "Basically the same of Guglielmo's because his version was better and without the bottleneck exploited by mine. In order to speed up performances I deleted few vars that was useful just for the sake of debugging."
   ]
  },
  {
   "cell_type": "code",
   "execution_count": 8,
   "metadata": {
    "collapsed": true
   },
   "outputs": [],
   "source": [
    "def kcenter(P, k):\n",
    "    P_minus_S = [p for p in P]\n",
    "    idx_rnd = random.randint(0, len(P)-1)\n",
    "    S = [P[idx_rnd]]\n",
    "    dist_near_center = [Vectors.squared_distance(P[i], S[0]) for i in range(len(P))]\n",
    "\n",
    "    for i in range(k-1):    \n",
    "        new_center_idx = max(enumerate(dist_near_center), key=lambda x: x[1])[0] # argmax operation\n",
    "        S.append(P[new_center_idx])\n",
    "\n",
    "        for j in range(len(P)):\n",
    "            if j != new_center_idx:\n",
    "                dist = Vectors.squared_distance(P[j], S[-1])\n",
    "                if dist < dist_near_center[j]:\n",
    "                    dist_near_center[j] = dist\n",
    "            else:\n",
    "                dist_near_center[j] = 0\n",
    "    return S"
   ]
  },
  {
   "cell_type": "markdown",
   "metadata": {},
   "source": [
    "# Elapsed time evaluation"
   ]
  },
  {
   "cell_type": "code",
   "execution_count": 9,
   "metadata": {
    "collapsed": false
   },
   "outputs": [
    {
     "name": "stdout",
     "output_type": "stream",
     "text": [
      "Number of points: 9960\n",
      "Elapsed Time first set : 1.0240862369537354 s\n",
      "Number of points: 50047\n",
      "Elapsed Time first set : 5.158405780792236 s\n",
      "Number of points: 99670\n",
      "Elapsed Time first set : 10.598963975906372 s\n"
     ]
    },
    {
     "ename": "FileNotFoundError",
     "evalue": "[Errno 2] No such file or directory: 'test-datasets/vecs-50-500000.txt'",
     "output_type": "error",
     "traceback": [
      "\u001b[0;31m---------------------------------------------------------------------------\u001b[0m",
      "\u001b[0;31mFileNotFoundError\u001b[0m                         Traceback (most recent call last)",
      "\u001b[0;32m<ipython-input-9-679883167873>\u001b[0m in \u001b[0;36m<module>\u001b[0;34m()\u001b[0m\n\u001b[1;32m     27\u001b[0m \u001b[0mprint\u001b[0m\u001b[0;34m(\u001b[0m\u001b[0;34m'Elapsed Time first set :'\u001b[0m\u001b[0;34m,\u001b[0m \u001b[0mt1\u001b[0m\u001b[0;34m-\u001b[0m\u001b[0mt0\u001b[0m\u001b[0;34m,\u001b[0m \u001b[0;34m's'\u001b[0m\u001b[0;34m)\u001b[0m\u001b[0;34m\u001b[0m\u001b[0m\n\u001b[1;32m     28\u001b[0m \u001b[0;34m\u001b[0m\u001b[0m\n\u001b[0;32m---> 29\u001b[0;31m \u001b[0mvector_list\u001b[0m \u001b[0;34m=\u001b[0m \u001b[0mreadVectorsSeq\u001b[0m\u001b[0;34m(\u001b[0m\u001b[0;34m'test-datasets/vecs-50-500000.txt'\u001b[0m\u001b[0;34m)\u001b[0m\u001b[0;34m\u001b[0m\u001b[0m\n\u001b[0m\u001b[1;32m     30\u001b[0m \u001b[0;34m\u001b[0m\u001b[0m\n\u001b[1;32m     31\u001b[0m \u001b[0mt0\u001b[0m \u001b[0;34m=\u001b[0m \u001b[0mtime\u001b[0m\u001b[0;34m.\u001b[0m\u001b[0mtime\u001b[0m\u001b[0;34m(\u001b[0m\u001b[0;34m)\u001b[0m\u001b[0;34m\u001b[0m\u001b[0m\n",
      "\u001b[0;32m<ipython-input-6-fb0f56cb605b>\u001b[0m in \u001b[0;36mreadVectorsSeq\u001b[0;34m(filename)\u001b[0m\n\u001b[1;32m      1\u001b[0m \u001b[0;32mdef\u001b[0m \u001b[0mreadVectorsSeq\u001b[0m\u001b[0;34m(\u001b[0m\u001b[0mfilename\u001b[0m\u001b[0;34m)\u001b[0m\u001b[0;34m:\u001b[0m\u001b[0;34m\u001b[0m\u001b[0m\n\u001b[0;32m----> 2\u001b[0;31m     \u001b[0mfile\u001b[0m \u001b[0;34m=\u001b[0m \u001b[0mopen\u001b[0m\u001b[0;34m(\u001b[0m\u001b[0mfilename\u001b[0m\u001b[0;34m,\u001b[0m \u001b[0;34m'r'\u001b[0m\u001b[0;34m)\u001b[0m\u001b[0;34m\u001b[0m\u001b[0m\n\u001b[0m\u001b[1;32m      3\u001b[0m     \u001b[0mvector_list\u001b[0m \u001b[0;34m=\u001b[0m \u001b[0;34m[\u001b[0m\u001b[0;34m]\u001b[0m\u001b[0;34m\u001b[0m\u001b[0m\n\u001b[1;32m      4\u001b[0m     \u001b[0;32mfor\u001b[0m \u001b[0mrow\u001b[0m \u001b[0;32min\u001b[0m \u001b[0mfile\u001b[0m\u001b[0;34m.\u001b[0m\u001b[0mreadlines\u001b[0m\u001b[0;34m(\u001b[0m\u001b[0;34m)\u001b[0m\u001b[0;34m:\u001b[0m\u001b[0;34m\u001b[0m\u001b[0m\n\u001b[1;32m      5\u001b[0m         \u001b[0mvector_list\u001b[0m\u001b[0;34m.\u001b[0m\u001b[0mappend\u001b[0m\u001b[0;34m(\u001b[0m\u001b[0mVectors\u001b[0m\u001b[0;34m.\u001b[0m\u001b[0mdense\u001b[0m\u001b[0;34m(\u001b[0m\u001b[0;34m[\u001b[0m\u001b[0mfloat\u001b[0m\u001b[0;34m(\u001b[0m\u001b[0mnum_str\u001b[0m\u001b[0;34m)\u001b[0m \u001b[0;32mfor\u001b[0m \u001b[0mnum_str\u001b[0m \u001b[0;32min\u001b[0m \u001b[0mrow\u001b[0m\u001b[0;34m.\u001b[0m\u001b[0msplit\u001b[0m\u001b[0;34m(\u001b[0m\u001b[0;34m)\u001b[0m\u001b[0;34m]\u001b[0m\u001b[0;34m)\u001b[0m\u001b[0;34m)\u001b[0m\u001b[0;34m\u001b[0m\u001b[0m\n",
      "\u001b[0;31mFileNotFoundError\u001b[0m: [Errno 2] No such file or directory: 'test-datasets/vecs-50-500000.txt'"
     ]
    }
   ],
   "source": [
    "vector_list = readVectorsSeq('test-datasets/vecs-50-10000.txt')\n",
    "k = 10 \n",
    "\n",
    "t0 = time.time()\n",
    "C = kcenter(vector_list,k)\n",
    "t1 = time.time()\n",
    "\n",
    "print('Number of points:', len(vector_list))\n",
    "print('Elapsed Time first set :', t1-t0, 's')\n",
    "\n",
    "vector_list = readVectorsSeq('test-datasets/vecs-50-50000.txt')\n",
    "\n",
    "t0 = time.time()\n",
    "C = kcenter(vector_list,k)\n",
    "t1 = time.time()\n",
    "\n",
    "print('Number of points:', len(vector_list))\n",
    "print('Elapsed Time first set :', t1-t0, 's')\n",
    "\n",
    "vector_list = readVectorsSeq('test-datasets/vecs-50-100000.txt')\n",
    "\n",
    "t0 = time.time()\n",
    "C = kcenter(vector_list,k)\n",
    "t1 = time.time()\n",
    "\n",
    "print('Number of points:', len(vector_list))\n",
    "print('Elapsed Time first set :', t1-t0, 's')\n",
    "\n",
    "vector_list = readVectorsSeq('test-datasets/vecs-50-500000.txt')\n",
    "\n",
    "t0 = time.time()\n",
    "C = kcenter(vector_list,k)\n",
    "t1 = time.time()\n",
    "\n",
    "print('Number of points:', len(vector_list))\n",
    "print('Elapsed Time first set :', t1-t0, 's')"
   ]
  },
  {
   "cell_type": "markdown",
   "metadata": {},
   "source": [
    "# k-means++"
   ]
  },
  {
   "cell_type": "code",
   "execution_count": 10,
   "metadata": {
    "collapsed": true
   },
   "outputs": [],
   "source": [
    "import numpy as np\n",
    "\n",
    "def kmeansPP(P, k):\n",
    "    idx_rnd = random.randint(0, len(P)-1)\n",
    "    S = [P[idx_rnd]]\n",
    "    dist_near_center = [Vectors.squared_distance(P[i], S[0]) for i in range(len(P))]\n",
    "\n",
    "    for i in range(k-1):\n",
    "        \n",
    "        weights = dist_near_center/np.sum(dist_near_center)\n",
    "        idx = np.random.choice(range(len(P)),p=weights)\n",
    "        #print(np.where(np.array(dist_near_center) == 0)[0])\n",
    "        S.append(P[idx])\n",
    "\n",
    "        for j in range(len(P)):\n",
    "            if j != idx:\n",
    "                dist = Vectors.squared_distance(P[j], S[-1])\n",
    "                if dist < dist_near_center[j]:\n",
    "                    dist_near_center[j] = dist\n",
    "            else:\n",
    "                dist_near_center[j] = 0 # this assures that in dist_near_center we consider just distances of P minus S\n",
    "    return S "
   ]
  },
  {
   "cell_type": "code",
   "execution_count": 11,
   "metadata": {
    "collapsed": true
   },
   "outputs": [],
   "source": [
    "def kmeansObj(P, C):\n",
    "    dist_near_center = [Vectors.squared_distance(P[i], C[0]) for i in range(len(P))]\n",
    "    for i in range(1,k):\n",
    "        for j in range(len(P)):\n",
    "            dist = Vectors.squared_distance(P[j], C[i])\n",
    "            if dist < dist_near_center[j]:\n",
    "                dist_near_center[j] = dist\n",
    "    return np.mean(dist_near_center) "
   ]
  },
  {
   "cell_type": "code",
   "execution_count": 12,
   "metadata": {
    "collapsed": false
   },
   "outputs": [
    {
     "name": "stdout",
     "output_type": "stream",
     "text": [
      "3.589493695029776\n"
     ]
    }
   ],
   "source": [
    "P = readVectorsSeq('test-datasets/vecs-50-10000.txt')\n",
    "k = 10 \n",
    "\n",
    "C = kmeansPP(P,10)\n",
    "obj = kmeansObj(P,C)\n",
    "print(obj)      "
   ]
  },
  {
   "cell_type": "code",
   "execution_count": 13,
   "metadata": {
    "collapsed": false
   },
   "outputs": [
    {
     "name": "stdout",
     "output_type": "stream",
     "text": [
      "13.93936113134447\n"
     ]
    }
   ],
   "source": [
    "k1 = 100\n",
    "k = 5\n",
    "\n",
    "X = kcenter(P,k1)\n",
    "C = kmeansPP(X,k)\n",
    "print(kmeansObj(P,C))"
   ]
  },
  {
   "cell_type": "code",
   "execution_count": 14,
   "metadata": {
    "collapsed": false
   },
   "outputs": [
    {
     "name": "stdout",
     "output_type": "stream",
     "text": [
      "Fit of the Time Complexity:\n",
      "Time = 4.661563974039325e-05 * |P| + 0.00908158555322753 [s]\n"
     ]
    },
    {
     "data": {
      "image/png": "[encoded data removed]",
      "text/plain": [
       "<matplotlib.figure.Figure at 0x111da1e10>"
      ]
     },
     "metadata": {},
     "output_type": "display_data"
    },
    {
     "name": "stdout",
     "output_type": "stream",
     "text": [
      "Fit of the Time Complexity:\n",
      "Time = 0.001234358756625209 * K + -8.73600706762334e-05 [s]\n"
     ]
    },
    {
     "data": {
      "image/png": "[encoded data removed]",
      "text/plain": [
       "<matplotlib.figure.Figure at 0x112681048>"
      ]
     },
     "metadata": {},
     "output_type": "display_data"
    }
   ],
   "source": [
    "# Create the Datasets\n",
    "n_datasets = 50\n",
    "datasets = []\n",
    "for n in range(n_datasets):\n",
    "    vector_list = []\n",
    "    np.random.seed(seed=n)\n",
    "    n_points = 50*(n+1)\n",
    "    for i in range(n_points):\n",
    "        vector_list.append(Vectors.dense(np.random.rand(2)))\n",
    "    datasets.append(vector_list)\n",
    "\n",
    "times = []\n",
    "datasets_centers = []\n",
    "for n in range(n_datasets):\n",
    "    P = [p for p in datasets[n]]\n",
    "    t1 = time.time()\n",
    "    centers = kmeansPP(P, 5)\n",
    "    t2 = time.time()\n",
    "    datasets_centers.append(centers)\n",
    "    times.append(t2-t1)\n",
    "\n",
    "# Get the Linear Regression Model for the Time\n",
    "y = np.array(times).reshape(n_datasets, 1)\n",
    "X = np.zeros((n_datasets, 2))\n",
    "X[:, 0] = np.ones((n_datasets,))\n",
    "X[:, 1] = np.arange(1, n_datasets+1)*n_datasets\n",
    "beta = np.dot(np.dot(np.linalg.inv(np.dot(X.T, X)), X.T), y)\n",
    "x = np.array([(i+1)*50 for i in range(n_datasets)])\n",
    "linear_model = x*beta[1] + beta[0]\n",
    "\n",
    "print('Fit of the Time Complexity:')\n",
    "print('Time =', beta[1,0],'* |P| +', beta[0,0], '[s]')\n",
    "\n",
    "import matplotlib.pyplot as plt\n",
    "# Plot\n",
    "plt.figure(figsize=(8, 4))\n",
    "plt.title('Complexity of the K-Means++ Algorithm for K=5', fontweight='bold')\n",
    "plt.scatter([(i+1)*50 for i in range(n_datasets)], times, alpha=0.6, c='orange', label='Time Data', s=30)\n",
    "plt.plot(x, linear_model, c='k', lw=1.5, alpha=0.7, ls='--', label='Linear Model Fit')\n",
    "plt.xlabel('Dataset Size |P|', fontweight='bold')\n",
    "plt.ylabel('Time [s]', fontweight='bold')\n",
    "plt.xlim(0, n_datasets*n_datasets)\n",
    "plt.legend(loc=2, prop={'size':10})\n",
    "plt.show()\n",
    "\n",
    "# Create the Datasets\n",
    "n_datasets = 50\n",
    "datasets = []\n",
    "for n in range(n_datasets):\n",
    "    vector_list = []\n",
    "    np.random.seed(seed=n)\n",
    "    n_points = 100\n",
    "    for i in range(n_points):\n",
    "        vector_list.append(Vectors.dense(np.random.rand(2)))\n",
    "    datasets.append(vector_list)\n",
    "\n",
    "times = []\n",
    "datasets_centers = []\n",
    "for n in range(n_datasets):\n",
    "    P = [p for p in datasets[n]]\n",
    "    t1 = time.time()\n",
    "    centers = kmeansPP(P, 2+n)\n",
    "    t2 = time.time()\n",
    "    datasets_centers.append(centers)\n",
    "    times.append(t2-t1)\n",
    "\n",
    "# Get the Linear Regression Model for the Time\n",
    "y = np.array(times).reshape(n_datasets, 1)\n",
    "X = np.zeros((n_datasets, 2))\n",
    "X[:, 0] = np.ones((n_datasets,))\n",
    "X[:, 1] = np.arange(1, n_datasets+1)\n",
    "beta = np.dot(np.dot(np.linalg.inv(np.dot(X.T, X)), X.T), y)\n",
    "x = np.array([2+i for i in range(n_datasets)])\n",
    "linear_model = x*beta[1] + beta[0]\n",
    "\n",
    "print('Fit of the Time Complexity:')\n",
    "print('Time =', beta[1,0],'* K +', beta[0,0], '[s]')\n",
    "\n",
    "\n",
    "# Plot\n",
    "plt.figure(figsize=(8, 4))\n",
    "plt.title('Complexity of the K-Means++ Algorithm for |P|=100', fontweight='bold')\n",
    "plt.scatter([2+i for i in range(n_datasets)], times, s=30, c='orange', alpha=0.6, label='Time Data')\n",
    "plt.plot(x, linear_model, c='k', lw=1.5, alpha=0.7, ls='--', label='Linear Model Fit')\n",
    "plt.xlabel('Number of Centers K', fontweight='bold')\n",
    "plt.ylabel('Time [s]', fontweight='bold')\n",
    "plt.xlim(0, n_datasets+1)\n",
    "plt.legend(loc=2, prop={'size':10})\n",
    "plt.show()"
   ]
  },
  {
   "cell_type": "code",
   "execution_count": null,
   "metadata": {
    "collapsed": true
   },
   "outputs": [],
   "source": []
  }
 ],
 "metadata": {
  "kernelspec": {
   "display_name": "Python 3",
   "language": "python",
   "name": "python3"
  },
  "language_info": {
   "codemirror_mode": {
    "name": "ipython",
    "version": 3
   },
   "file_extension": ".py",
   "mimetype": "text/x-python",
   "name": "python",
   "nbconvert_exporter": "python",
   "pygments_lexer": "ipython3",
   "version": "3.6.0"
  }
 },
 "nbformat": 4,
 "nbformat_minor": 2
}
