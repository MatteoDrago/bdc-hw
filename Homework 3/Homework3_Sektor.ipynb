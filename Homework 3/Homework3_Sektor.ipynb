{
 "cells": [
  {
   "cell_type": "markdown",
   "metadata": {},
   "source": [
    "# Homework 3\n",
    "\n",
    "## K-Center: implementation Fartherst-First Traversal algorithm\n",
    "\n",
    "Vediamo n po' che ce esce fuori.\n",
    "\n",
    "Iniziamo senza saper ne leggere ne scrivere a chiamare le librerie"
   ]
  },
  {
   "cell_type": "code",
   "execution_count": 1,
   "metadata": {
    "collapsed": true
   },
   "outputs": [],
   "source": [
    "from pyspark import SparkConf, SparkContext\n",
    "\n",
    "config = SparkConf().setAppName('Homework 3').setMaster('local')\n",
    "\n",
    "sc = SparkContext(conf=config)"
   ]
  },
  {
   "cell_type": "markdown",
   "metadata": {
    "collapsed": true
   },
   "source": [
    "### readVectorsSeq\n",
    "Construction of the requested function:\n",
    "A function readVectorsSeq(filename) that, given in input the name (or path) filename of a text file containing points in Euclidean space (one point per line with coordinates separated by space, as in the files above) transforms it into a list of Vector. \n",
    "\n",
    "\n",
    "\n",
    "In Spark, the points can be represented as instances of the class org.apache.spark.mllib.linalg.Vector and can be manipulated through static methods offered by the class org.apache.spark.mllib.linalg.Vectors (these classes are available both for Java and Python). For example, method Vectors.dense(x) transforms an array x of double into an instance of class Vector, while method Vectors.sqdist(a,b) computes the squared L2-distance between two instances a and b of class Vector. For Java users, you can download the class InputOutput, where you find a method InputOutput.readVectorsSeq that, given in input the name (or path) of a text file containing points in Euclidean space (one point per line with coordinates separated by space, as in the files above) transforms it into a java.util.ArrayList<Vector>. "
   ]
  },
  {
   "cell_type": "code",
   "execution_count": 77,
   "metadata": {
    "collapsed": false
   },
   "outputs": [],
   "source": [
    "from pyspark.mllib.linalg import Vector, Vectors\n",
    "import numpy as np\n",
    "\n",
    "test = [1,2,3]\n",
    "\n",
    "ue = Vectors.dense(test)\n",
    "ue2 = Vectors.dense([3,4,5])\n"
   ]
  },
  {
   "cell_type": "code",
   "execution_count": 197,
   "metadata": {
    "collapsed": false
   },
   "outputs": [],
   "source": [
    "def readVectorsSeq(filename):\n",
    "    file = open(filename,'r')\n",
    "    vec_list = []\n",
    "    for line in file:\n",
    "        vec_list.append(Vectors.dense([float(num_str) for num_str in line.split()]))\n",
    "    return vec_list"
   ]
  },
  {
   "cell_type": "markdown",
   "metadata": {},
   "source": [
    "A function kcenter(P,k) that receives in input a set of points P and an integer k, and returns the set C of k centers computed by the Farthest-First Traversal algorithm. You can represent both P and C as lists of Vector. "
   ]
  },
  {
   "cell_type": "code",
   "execution_count": 114,
   "metadata": {
    "collapsed": true
   },
   "outputs": [],
   "source": [
    "from random import randint\n",
    "\n",
    "def kcenter(P,k): #versione non ottimizzata, si può migliorare le prestazioni della ricerca del minimo forse\n",
    "    S = [P[randint(0,len(P)-1)]]\n",
    "\n",
    "    for i in range(k-1):\n",
    "        #Find the point that minimize \n",
    "        listOfD = []\n",
    "        for point in P:\n",
    "            if point not in S:\n",
    "                distVec = [Vectors.squared_distance(point,c) for c in S]\n",
    "                minD_c = np.min(distVec) #the minumim distance of the point from the set of clusters\n",
    "                listOfD.append(minD_c)\n",
    "            else: listOfD.append(0)\n",
    "        newCenter_index = np.argmax(listOfD)\n",
    "        newCenter = P[newCenter_index]\n",
    "        S.append(newCenter)\n",
    "    return S"
   ]
  },
  {
   "cell_type": "code",
   "execution_count": 126,
   "metadata": {
    "collapsed": true
   },
   "outputs": [],
   "source": [
    "def kcenter_opt(P,k): #versione non ottimizzata, si può migliorare le prestazioni della ricerca del minimo forse\n",
    "    S = [P[randint(0,len(P)-1)]]\n",
    "\n",
    "    for i in range(k-1):\n",
    "        #Find the point that minimize \n",
    "        currentmax = 0\n",
    "        for point in P:\n",
    "            if point not in S:\n",
    "                distVec = [Vectors.squared_distance(point,c) for c in S]\n",
    "                minD_c = np.min(distVec) #the minumim distance of the point from the set of clusters\n",
    "                if minD_c > currentmax:\n",
    "                    currentmax = minD_c\n",
    "                    currentmaxpoint = point\n",
    "        S.append(currentmaxpoint)\n",
    "    return S"
   ]
  },
  {
   "cell_type": "code",
   "execution_count": 149,
   "metadata": {
    "collapsed": true
   },
   "outputs": [],
   "source": [
    "def kcenter_opt2(P,k): #versione ottimizzata, tolgo l'if che mi calcola cose ogni volta\n",
    "    #init P and S\n",
    "    P_minus_S = [point for point in P]\n",
    "    S = [P[randint(0,len(P)-1)]]\n",
    "    P_minus_S.remove(S[0])\n",
    "    \n",
    "    for i in range(k-1):\n",
    "        #Find the point that minimize \n",
    "        currentmax = 0\n",
    "        for point in P_minus_S:\n",
    "            distVec = [Vectors.squared_distance(point,c) for c in S]\n",
    "            minD_c = np.min(distVec) #the minumim distance of the point from the set of clusters\n",
    "            if minD_c > currentmax:\n",
    "                currentmax = minD_c\n",
    "                currentmaxpoint = point\n",
    "        S.append(currentmaxpoint)\n",
    "        P_minus_S.remove(currentmaxpoint)\n",
    "    return S"
   ]
  },
  {
   "cell_type": "code",
   "execution_count": 161,
   "metadata": {
    "collapsed": false
   },
   "outputs": [],
   "source": [
    "def kcenter_opt2_fullSearch(P,k): #versione che calcola meglio l'ultimo\n",
    "    #init P and S\n",
    "    P_minus_S = [point for point in P]\n",
    "    S = [P[randint(0,len(P)-1)]]\n",
    "    P_minus_S.remove(S[0])\n",
    "    \n",
    "    for i in range(k-1):\n",
    "        #Find the point that minimize \n",
    "        currentmax = 0\n",
    "        for point in P_minus_S:\n",
    "            distVec = [Vectors.squared_distance(point,c) for c in S]\n",
    "            minD_c = np.min(distVec) #the minumim distance of the point from the set of clusters\n",
    "            if minD_c > currentmax:\n",
    "                currentmax = minD_c\n",
    "                currentmaxpoint = point\n",
    "        S.append(currentmaxpoint)\n",
    "        P_minus_S.remove(currentmaxpoint)\n",
    "        \n",
    "    #Tolgo il primo centroide e lo ricalcolo\n",
    "    S.remove(S[0])\n",
    "    currentmax = 0\n",
    "    for point in P_minus_S:\n",
    "        distVec = [Vectors.squared_distance(point,c) for c in S]\n",
    "        minD_c = np.min(distVec) #the minumim distance of the point from the set of clusters\n",
    "        if minD_c > currentmax:\n",
    "            currentmax = minD_c\n",
    "            currentmaxpoint = point\n",
    "    S.append(currentmaxpoint)\n",
    "    \n",
    "    return S"
   ]
  },
  {
   "cell_type": "code",
   "execution_count": 143,
   "metadata": {
    "collapsed": false
   },
   "outputs": [
    {
     "name": "stdout",
     "output_type": "stream",
     "text": [
      "None\n",
      "4\n"
     ]
    }
   ],
   "source": [
    "print(vec_list.remove(vec_list[4]))\n",
    "print(len(vec_list))"
   ]
  },
  {
   "cell_type": "code",
   "execution_count": 134,
   "metadata": {
    "collapsed": false
   },
   "outputs": [],
   "source": [
    "P = readVectorsSeq('prova.txt')\n",
    "k=3\n",
    "\n",
    "\n",
    "S = [P[1]]\n",
    "\n",
    "for i in range(k-1):\n",
    "    #Find the point that minimize \n",
    "    listOfD = []\n",
    "    for point in P:\n",
    "        if point not in S:\n",
    "            distVec = [Vectors.squared_distance(point,c) for c in S]\n",
    "            minD_c = np.min(distVec) #the minumim distance of the point from the set of clusters\n",
    "            listOfD.append(minD_c)\n",
    "    newCenter_index = np.argmax(listOfD)\n",
    "    newCenter = P[newCenter_index]\n",
    "    S.append(newCenter)\n",
    "                        "
   ]
  },
  {
   "cell_type": "markdown",
   "metadata": {},
   "source": [
    "# Gujo's code - 2D dataset Test\n",
    "ebbravo guglielmone"
   ]
  },
  {
   "cell_type": "code",
   "execution_count": 170,
   "metadata": {
    "collapsed": false
   },
   "outputs": [
    {
     "data": {
      "image/png": "[encoded data removed]",
      "text/plain": [
       "<matplotlib.figure.Figure at 0x10916b5c0>"
      ]
     },
     "metadata": {},
     "output_type": "display_data"
    }
   ],
   "source": [
    "import matplotlib.pyplot as plt\n",
    "\n",
    "vector_list = []\n",
    "np.random.seed(seed=0)\n",
    "n_points = 50\n",
    "for i in range(n_points):\n",
    "    vector_list.append(Vectors.dense(np.random.rand(2)))\n",
    "\n",
    "# Plot\n",
    "plt.figure(figsize=(8, 5))\n",
    "plt.title('Dataset', fontweight='bold')\n",
    "for i in range(n_points):\n",
    "    plt.scatter(vector_list[i][0], vector_list[i][1], c='blue', s=30, alpha=0.6)\n",
    "plt.show()"
   ]
  },
  {
   "cell_type": "code",
   "execution_count": 173,
   "metadata": {
    "collapsed": false
   },
   "outputs": [
    {
     "data": {
      "image/png": "[encoded data removed]",
      "text/plain": [
       "<matplotlib.figure.Figure at 0x109da1f28>"
      ]
     },
     "metadata": {},
     "output_type": "display_data"
    }
   ],
   "source": [
    "P = [p for p in vector_list]\n",
    "centers = kcenter_opt(P, 5)\n",
    "\n",
    "# Plot\n",
    "plt.figure(figsize=(8, 5))\n",
    "plt.title('Dataset', fontweight='bold')\n",
    "for i in range(n_points):\n",
    "    plt.scatter(vector_list[i][0], vector_list[i][1], c='lightskyblue', s=30, zorder=5)\n",
    "    \n",
    "# Plot the Centers\n",
    "for i in range(len(centers)):\n",
    "    center_i = centers[i]\n",
    "    plt.scatter(center_i[0], center_i[1], c='red', s=30, zorder=10)\n",
    "    \n",
    "plt.show()"
   ]
  },
  {
   "cell_type": "code",
   "execution_count": 172,
   "metadata": {
    "collapsed": false
   },
   "outputs": [
    {
     "data": {
      "image/png": "[encoded data removed]",
      "text/plain": [
       "<matplotlib.figure.Figure at 0x10b99e2b0>"
      ]
     },
     "metadata": {},
     "output_type": "display_data"
    }
   ],
   "source": [
    "P = [p for p in vector_list]\n",
    "centers = kcenter_opt2_fullSearch(P, 5)\n",
    "\n",
    "# Plot\n",
    "plt.figure(figsize=(8, 5))\n",
    "plt.title('Dataset', fontweight='bold')\n",
    "for i in range(n_points):\n",
    "    plt.scatter(vector_list[i][0], vector_list[i][1], c='lightskyblue', s=30, zorder=5)\n",
    "    \n",
    "# Plot the Centers\n",
    "for i in range(len(centers)):\n",
    "    center_i = centers[i]\n",
    "    plt.scatter(center_i[0], center_i[1], c='red', s=30, zorder=10)\n",
    "    \n",
    "plt.show()"
   ]
  },
  {
   "cell_type": "code",
   "execution_count": 175,
   "metadata": {
    "collapsed": false
   },
   "outputs": [],
   "source": [
    "def lossFunctionKCenter(P,S):\n",
    "    partial_sum = 0\n",
    "    for point in P:\n",
    "        partial_sum = partial_sum + sum([Vectors.squared_distance(point,c) for c in S])\n",
    "    return partial_sum"
   ]
  },
  {
   "cell_type": "code",
   "execution_count": 190,
   "metadata": {
    "collapsed": false
   },
   "outputs": [
    {
     "ename": "ValueError",
     "evalue": "list.remove(x): x not in list",
     "output_type": "error",
     "traceback": [
      "\u001b[0;31m---------------------------------------------------------------------------\u001b[0m",
      "\u001b[0;31mValueError\u001b[0m                                Traceback (most recent call last)",
      "\u001b[0;32m<ipython-input-190-1c0337605c4b>\u001b[0m in \u001b[0;36m<module>\u001b[0;34m()\u001b[0m\n\u001b[1;32m      2\u001b[0m \u001b[0mP\u001b[0m \u001b[0;34m=\u001b[0m \u001b[0mvec_list\u001b[0m\u001b[0;34m\u001b[0m\u001b[0m\n\u001b[1;32m      3\u001b[0m \u001b[0mloss1\u001b[0m \u001b[0;34m=\u001b[0m \u001b[0mlossFunctionKCenter\u001b[0m\u001b[0;34m(\u001b[0m\u001b[0mP\u001b[0m\u001b[0;34m,\u001b[0m\u001b[0mkcenter\u001b[0m\u001b[0;34m(\u001b[0m\u001b[0mP\u001b[0m\u001b[0;34m,\u001b[0m\u001b[0mk\u001b[0m\u001b[0;34m)\u001b[0m\u001b[0;34m)\u001b[0m\u001b[0;34m\u001b[0m\u001b[0m\n\u001b[0;32m----> 4\u001b[0;31m \u001b[0mloss2\u001b[0m \u001b[0;34m=\u001b[0m \u001b[0mlossFunctionKCenter\u001b[0m\u001b[0;34m(\u001b[0m\u001b[0mP\u001b[0m\u001b[0;34m,\u001b[0m\u001b[0mkcenter_opt2_fullSearch\u001b[0m\u001b[0;34m(\u001b[0m\u001b[0mP\u001b[0m\u001b[0;34m,\u001b[0m\u001b[0mk\u001b[0m\u001b[0;34m)\u001b[0m\u001b[0;34m)\u001b[0m\u001b[0;34m\u001b[0m\u001b[0m\n\u001b[0m\u001b[1;32m      5\u001b[0m \u001b[0mprint\u001b[0m\u001b[0;34m(\u001b[0m\u001b[0;34m'loss of kcenter:'\u001b[0m\u001b[0;34m,\u001b[0m \u001b[0mloss1\u001b[0m\u001b[0;34m)\u001b[0m\u001b[0;34m\u001b[0m\u001b[0m\n\u001b[1;32m      6\u001b[0m \u001b[0mprint\u001b[0m\u001b[0;34m(\u001b[0m\u001b[0;34m'loss of kcenter full:'\u001b[0m\u001b[0;34m,\u001b[0m \u001b[0mloss2\u001b[0m\u001b[0;34m)\u001b[0m\u001b[0;34m\u001b[0m\u001b[0m\n",
      "\u001b[0;32m<ipython-input-161-fd6ae85854d7>\u001b[0m in \u001b[0;36mkcenter_opt2_fullSearch\u001b[0;34m(P, k)\u001b[0m\n\u001b[1;32m     15\u001b[0m                 \u001b[0mcurrentmaxpoint\u001b[0m \u001b[0;34m=\u001b[0m \u001b[0mpoint\u001b[0m\u001b[0;34m\u001b[0m\u001b[0m\n\u001b[1;32m     16\u001b[0m         \u001b[0mS\u001b[0m\u001b[0;34m.\u001b[0m\u001b[0mappend\u001b[0m\u001b[0;34m(\u001b[0m\u001b[0mcurrentmaxpoint\u001b[0m\u001b[0;34m)\u001b[0m\u001b[0;34m\u001b[0m\u001b[0m\n\u001b[0;32m---> 17\u001b[0;31m         \u001b[0mP_minus_S\u001b[0m\u001b[0;34m.\u001b[0m\u001b[0mremove\u001b[0m\u001b[0;34m(\u001b[0m\u001b[0mcurrentmaxpoint\u001b[0m\u001b[0;34m)\u001b[0m\u001b[0;34m\u001b[0m\u001b[0m\n\u001b[0m\u001b[1;32m     18\u001b[0m \u001b[0;34m\u001b[0m\u001b[0m\n\u001b[1;32m     19\u001b[0m     \u001b[0;31m#Tolgo il primo centroide e lo ricalcolo\u001b[0m\u001b[0;34m\u001b[0m\u001b[0;34m\u001b[0m\u001b[0m\n",
      "\u001b[0;31mValueError\u001b[0m: list.remove(x): x not in list"
     ]
    }
   ],
   "source": [
    "k=5\n",
    "P = vec_list\n",
    "loss1 = lossFunctionKCenter(P,kcenter(P,k))\n",
    "loss2 = lossFunctionKCenter(P,kcenter_opt2_fullSearch(P,k))\n",
    "print('loss of kcenter:', loss1)\n",
    "print('loss of kcenter full:', loss2)"
   ]
  },
  {
   "cell_type": "code",
   "execution_count": 166,
   "metadata": {
    "collapsed": false
   },
   "outputs": [
    {
     "name": "stdout",
     "output_type": "stream",
     "text": [
      "Fit of the Time Complexity:\n",
      "Time = 0.0002508972390072974 * |P| + 0.0009406045018404731 [s]\n"
     ]
    },
    {
     "data": {
      "image/png": "[encoded data removed]",
      "text/plain": [
       "<matplotlib.figure.Figure at 0x109491320>"
      ]
     },
     "metadata": {},
     "output_type": "display_data"
    }
   ],
   "source": [
    "import time\n",
    "# Create the Datasets\n",
    "n_datasets = 50\n",
    "datasets = []\n",
    "for n in range(n_datasets):\n",
    "    vector_list = []\n",
    "    np.random.seed(seed=n)\n",
    "    n_points = 50*(n+1)\n",
    "    for i in range(n_points):\n",
    "        vector_list.append(Vectors.dense(np.random.rand(2)))\n",
    "    datasets.append(vector_list)\n",
    "\n",
    "times = []\n",
    "datasets_centers = []\n",
    "for n in range(n_datasets):\n",
    "    P = [p for p in datasets[n]]\n",
    "    t1 = time.time()\n",
    "    centers = kcenter_opt2_fullSearch(P, 5)\n",
    "    t2 = time.time()\n",
    "    datasets_centers.append(centers)\n",
    "    times.append(t2-t1)\n",
    "\n",
    "# Get the Linear Regression Model for the Time\n",
    "y = np.array(times).reshape(n_datasets, 1)\n",
    "X = np.zeros((n_datasets, 2))\n",
    "X[:, 0] = np.ones((n_datasets,))\n",
    "X[:, 1] = np.arange(1, n_datasets+1)*n_datasets\n",
    "beta = np.dot(np.dot(np.linalg.inv(np.dot(X.T, X)), X.T), y)\n",
    "x = np.array([(i+1)*50 for i in range(n_datasets)])\n",
    "linear_model = x*beta[1] + beta[0]\n",
    "\n",
    "print('Fit of the Time Complexity:')\n",
    "print('Time =', beta[1,0],'* |P| +', beta[0,0], '[s]')\n",
    "\n",
    "# Plot\n",
    "plt.figure(figsize=(8, 4))\n",
    "plt.title('Complexity of the K-Center Algorithm for K=5', fontweight='bold')\n",
    "plt.scatter([(i+1)*50 for i in range(n_datasets)], times, alpha=0.6, c='orange', label='Time Data', s=30)\n",
    "plt.plot(x, linear_model, c='k', lw=1.5, alpha=0.7, ls='--', label='Linear Model Fit')\n",
    "plt.xlabel('Dataset Size |P|', fontweight='bold')\n",
    "plt.ylabel('Time [s]', fontweight='bold')\n",
    "plt.xlim(0, n_datasets*n_datasets)\n",
    "plt.legend(loc=2, prop={'size':10})\n",
    "plt.show()"
   ]
  },
  {
   "cell_type": "code",
   "execution_count": 152,
   "metadata": {
    "collapsed": false
   },
   "outputs": [
    {
     "data": {
      "text/plain": [
       "3.0985801503107906"
      ]
     },
     "execution_count": 152,
     "metadata": {},
     "output_type": "execute_result"
    }
   ],
   "source": [
    "0.00019489988645299437/6.28997402030881e-05"
   ]
  },
  {
   "cell_type": "code",
   "execution_count": 128,
   "metadata": {
    "collapsed": false
   },
   "outputs": [
    {
     "data": {
      "text/plain": [
       "0.9636035199397742"
      ]
     },
     "execution_count": 128,
     "metadata": {},
     "output_type": "execute_result"
    }
   ],
   "source": [
    "0.0003034148018185547/0.00031487514889683914"
   ]
  },
  {
   "cell_type": "code",
   "execution_count": 148,
   "metadata": {
    "collapsed": false
   },
   "outputs": [
    {
     "data": {
      "text/plain": [
       "1.4569709790587875"
      ]
     },
     "execution_count": 148,
     "metadata": {},
     "output_type": "execute_result"
    }
   ],
   "source": [
    "0.00031487514889683914/0.00021611628057289822"
   ]
  },
  {
   "cell_type": "code",
   "execution_count": 131,
   "metadata": {
    "collapsed": false
   },
   "outputs": [
    {
     "data": {
      "text/plain": [
       "{1, 2, 3}"
      ]
     },
     "execution_count": 131,
     "metadata": {},
     "output_type": "execute_result"
    }
   ],
   "source": [
    "{1,2,3}\n"
   ]
  },
  {
   "cell_type": "markdown",
   "metadata": {},
   "source": [
    "# k-means++\n",
    "\n",
    "A function kmeansPP(P,k) that receives in input a set of points P and an integer k, and returns a set C of k centers computed with the kmeans++ algorithm. "
   ]
  },
  {
   "cell_type": "code",
   "execution_count": 294,
   "metadata": {
    "collapsed": false
   },
   "outputs": [],
   "source": [
    "def kmeansPP(P,k):\n",
    "    rnd_idx = randint(0,len(P)-1)\n",
    "    S = [P[rnd_idx]]\n",
    "    P_minus_S = [p for p in P]\n",
    "    P_minus_S.remove(S[0])\n",
    "\n",
    "    for i in range(1,k+1):\n",
    "        j=0\n",
    "        d_p = np.zeros(len(P_minus_S))\n",
    "        for point in P_minus_S:\n",
    "            d_p[j]=np.min([Vectors.squared_distance(c,point) for c in S])\n",
    "            j+=1\n",
    "        power2 = np.power(d_p,2)\n",
    "        prob = power2/np.sum(power2) #probability density\n",
    "        c_new = np.random.choice(range(len(P_minus_S)),1,p=prob)\n",
    "        S.append(P_minus_S[int(c_new)])\n",
    "        P_minus_S.remove(P_minus_S[int(c_new)])\n",
    "    return S"
   ]
  },
  {
   "cell_type": "code",
   "execution_count": 317,
   "metadata": {
    "collapsed": false
   },
   "outputs": [],
   "source": [
    "P = readVectorsSeq('prova.txt')\n",
    "k = 3\n",
    "\n",
    "S = kmeansPP(P,k)"
   ]
  },
  {
   "cell_type": "markdown",
   "metadata": {},
   "source": [
    "A function kmeansObj(P,C) that receives in input a set of points P and a set of centers C, and returns the average squared distance of a point of P from its closest center (i.e., the kmeans objective function for P with centers C, divided by the number of points of P). "
   ]
  },
  {
   "cell_type": "code",
   "execution_count": 319,
   "metadata": {
    "collapsed": false
   },
   "outputs": [],
   "source": [
    "def kmeansObj(P,C):\n",
    "        cum_dist = 0\n",
    "        for point in P:\n",
    "            distance_closest_center = np.min([Vectors.squared_distance(point,c) for c in C])\n",
    "            cum_dist += distance_closest_center\n",
    "        return cum_dist/len(P)"
   ]
  },
  {
   "cell_type": "code",
   "execution_count": 320,
   "metadata": {
    "collapsed": false
   },
   "outputs": [
    {
     "name": "stdout",
     "output_type": "stream",
     "text": [
      "0.5753003336521296\n"
     ]
    }
   ],
   "source": [
    "print(kmeansObj(P,S))"
   ]
  },
  {
   "cell_type": "code",
   "execution_count": 321,
   "metadata": {
    "collapsed": false
   },
   "outputs": [
    {
     "name": "stdout",
     "output_type": "stream",
     "text": [
      "Fit of the Time Complexity:\n",
      "Time = 0.00027254525810873676 * |P| + 0.0010102976584915116 [s]\n"
     ]
    },
    {
     "data": {
      "image/png": "[encoded data removed]",
      "text/plain": [
       "<matplotlib.figure.Figure at 0x103c677b8>"
      ]
     },
     "metadata": {},
     "output_type": "display_data"
    },
    {
     "name": "stdout",
     "output_type": "stream",
     "text": [
      "Fit of the Time Complexity:\n",
      "Time = 0.020769242072591978 * K + -0.11946261289168397 [s]\n"
     ]
    },
    {
     "data": {
      "image/png": "[encoded data removed]",
      "text/plain": [
       "<matplotlib.figure.Figure at 0x105305cc0>"
      ]
     },
     "metadata": {},
     "output_type": "display_data"
    }
   ],
   "source": [
    "# Create the Datasets\n",
    "n_datasets = 50\n",
    "datasets = []\n",
    "for n in range(n_datasets):\n",
    "    vector_list = []\n",
    "    np.random.seed(seed=n)\n",
    "    n_points = 50*(n+1)\n",
    "    for i in range(n_points):\n",
    "        vector_list.append(Vectors.dense(np.random.rand(2)))\n",
    "    datasets.append(vector_list)\n",
    "\n",
    "times = []\n",
    "datasets_centers = []\n",
    "for n in range(n_datasets):\n",
    "    P = [p for p in datasets[n]]\n",
    "    t1 = time.time()\n",
    "    centers = kmeansPP(P, 5)\n",
    "    t2 = time.time()\n",
    "    datasets_centers.append(centers)\n",
    "    times.append(t2-t1)\n",
    "\n",
    "# Get the Linear Regression Model for the Time\n",
    "y = np.array(times).reshape(n_datasets, 1)\n",
    "X = np.zeros((n_datasets, 2))\n",
    "X[:, 0] = np.ones((n_datasets,))\n",
    "X[:, 1] = np.arange(1, n_datasets+1)*n_datasets\n",
    "beta = np.dot(np.dot(np.linalg.inv(np.dot(X.T, X)), X.T), y)\n",
    "x = np.array([(i+1)*50 for i in range(n_datasets)])\n",
    "linear_model = x*beta[1] + beta[0]\n",
    "\n",
    "print('Fit of the Time Complexity:')\n",
    "print('Time =', beta[1,0],'* |P| +', beta[0,0], '[s]')\n",
    "\n",
    "import matplotlib.pyplot as plt\n",
    "# Plot\n",
    "plt.figure(figsize=(8, 4))\n",
    "plt.title('Complexity of the K-Means++ Algorithm for K=5', fontweight='bold')\n",
    "plt.scatter([(i+1)*50 for i in range(n_datasets)], times, alpha=0.6, c='orange', label='Time Data', s=30)\n",
    "plt.plot(x, linear_model, c='k', lw=1.5, alpha=0.7, ls='--', label='Linear Model Fit')\n",
    "plt.xlabel('Dataset Size |P|', fontweight='bold')\n",
    "plt.ylabel('Time [s]', fontweight='bold')\n",
    "plt.xlim(0, n_datasets*n_datasets)\n",
    "plt.legend(loc=2, prop={'size':10})\n",
    "plt.show()\n",
    "\n",
    "# Create the Datasets\n",
    "n_datasets = 50\n",
    "datasets = []\n",
    "for n in range(n_datasets):\n",
    "    vector_list = []\n",
    "    np.random.seed(seed=n)\n",
    "    n_points = 100\n",
    "    for i in range(n_points):\n",
    "        vector_list.append(Vectors.dense(np.random.rand(2)))\n",
    "    datasets.append(vector_list)\n",
    "\n",
    "times = []\n",
    "datasets_centers = []\n",
    "for n in range(n_datasets):\n",
    "    P = [p for p in datasets[n]]\n",
    "    t1 = time.time()\n",
    "    centers = kmeansPP(P, 2+n)\n",
    "    t2 = time.time()\n",
    "    datasets_centers.append(centers)\n",
    "    times.append(t2-t1)\n",
    "\n",
    "# Get the Linear Regression Model for the Time\n",
    "y = np.array(times).reshape(n_datasets, 1)\n",
    "X = np.zeros((n_datasets, 2))\n",
    "X[:, 0] = np.ones((n_datasets,))\n",
    "X[:, 1] = np.arange(1, n_datasets+1)\n",
    "beta = np.dot(np.dot(np.linalg.inv(np.dot(X.T, X)), X.T), y)\n",
    "x = np.array([2+i for i in range(n_datasets)])\n",
    "linear_model = x*beta[1] + beta[0]\n",
    "\n",
    "print('Fit of the Time Complexity:')\n",
    "print('Time =', beta[1,0],'* K +', beta[0,0], '[s]')\n",
    "\n",
    "\n",
    "# Plot\n",
    "plt.figure(figsize=(8, 4))\n",
    "plt.title('Complexity of the K-Means++ Algorithm for |P|=100', fontweight='bold')\n",
    "plt.scatter([2+i for i in range(n_datasets)], times, s=30, c='orange', alpha=0.6, label='Time Data')\n",
    "plt.plot(x, linear_model, c='k', lw=1.5, alpha=0.7, ls='--', label='Linear Model Fit')\n",
    "plt.xlabel('Number of Centers K', fontweight='bold')\n",
    "plt.ylabel('Time [s]', fontweight='bold')\n",
    "plt.xlim(0, n_datasets+1)\n",
    "plt.legend(loc=2, prop={'size':10})\n",
    "plt.show()"
   ]
  },
  {
   "cell_type": "code",
   "execution_count": null,
   "metadata": {
    "collapsed": true
   },
   "outputs": [],
   "source": []
  },
  {
   "cell_type": "code",
   "execution_count": null,
   "metadata": {
    "collapsed": true
   },
   "outputs": [],
   "source": []
  },
  {
   "cell_type": "code",
   "execution_count": null,
   "metadata": {
    "collapsed": true
   },
   "outputs": [],
   "source": []
  },
  {
   "cell_type": "code",
   "execution_count": null,
   "metadata": {
    "collapsed": true
   },
   "outputs": [],
   "source": []
  },
  {
   "cell_type": "code",
   "execution_count": null,
   "metadata": {
    "collapsed": true
   },
   "outputs": [],
   "source": []
  },
  {
   "cell_type": "code",
   "execution_count": null,
   "metadata": {
    "collapsed": true
   },
   "outputs": [],
   "source": []
  }
 ],
 "metadata": {
  "kernelspec": {
   "display_name": "Python 3",
   "language": "python",
   "name": "python3"
  },
  "language_info": {
   "codemirror_mode": {
    "name": "ipython",
    "version": 3
   },
   "file_extension": ".py",
   "mimetype": "text/x-python",
   "name": "python",
   "nbconvert_exporter": "python",
   "pygments_lexer": "ipython3",
   "version": "3.6.0"
  }
 },
 "nbformat": 4,
 "nbformat_minor": 2
}
