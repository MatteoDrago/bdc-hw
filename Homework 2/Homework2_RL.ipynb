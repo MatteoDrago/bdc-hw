{
 "cells": [
  {
   "cell_type": "markdown",
   "metadata": {},
   "source": [
    "# Homework 2 - word count #"
   ]
  },
  {
   "cell_type": "code",
   "execution_count": 1,
   "metadata": {},
   "outputs": [
    {
     "name": "stdout",
     "output_type": "stream",
     "text": [
      "Number of documents:  5\n"
     ]
    }
   ],
   "source": [
    "from pyspark import SparkContext, SparkConf\n",
    "\n",
    "conf = SparkConf().setAppName('Word Count').setMaster('local')\n",
    "sc = SparkContext(conf=conf)\n",
    "\n",
    "docs = sc.textFile('dataset.txt', 4).persist()  #returns an RDD (there are at least 4 partitions)\n",
    "print(\"Number of documents: \", docs.count())"
   ]
  },
  {
   "cell_type": "markdown",
   "metadata": {},
   "source": [
    "## Naive version ##"
   ]
  },
  {
   "cell_type": "code",
   "execution_count": 2,
   "metadata": {},
   "outputs": [
    {
     "name": "stdout",
     "output_type": "stream",
     "text": [
      "Number of words:  56\n",
      "Number of different words:  32\n"
     ]
    }
   ],
   "source": [
    "words = docs.flatMap(lambda doc: doc.split())\n",
    "num_words = words.count()\n",
    "print(\"Number of words: \", num_words)\n",
    "\n",
    "couples = words.map(lambda word: (word, 1))\\\n",
    "                .reduceByKey(lambda a,b: a+b)\n",
    "print(\"Number of different words: \", couples.count())"
   ]
  },
  {
   "cell_type": "markdown",
   "metadata": {},
   "source": [
    "## Improved version 1 ##"
   ]
  },
  {
   "cell_type": "code",
   "execution_count": 3,
   "metadata": {},
   "outputs": [
    {
     "name": "stdout",
     "output_type": "stream",
     "text": [
      "Number of different words:  32\n"
     ]
    }
   ],
   "source": [
    "def wordcount(document):\n",
    "    dictionary = {}  #create empty dictionary to contain (string: integer) couples\n",
    "    for word in document.split():  #word is a string element from the iterable list given by split()\n",
    "        if word in dictionary.keys():  #increase the number of occurences\n",
    "            dictionary[word] = dictionary[word] + 1\n",
    "        else:\n",
    "            dictionary[word] = 1\n",
    "    return [(k,dictionary[k]) for k in dictionary.keys()]  #return a list of couples (string: integer)\n",
    "                                                           #because returning the dictionary makes Spark angry\n",
    "\n",
    "couples1 = docs.flatMap(wordcount)\\\n",
    "                .reduceByKey(lambda a,b: a+b)\n",
    "    \n",
    "print(\"Number of different words: \", couples1.count())"
   ]
  },
  {
   "cell_type": "markdown",
   "metadata": {},
   "source": [
    "## Improved version 2 ##"
   ]
  },
  {
   "cell_type": "code",
   "execution_count": 23,
   "metadata": {},
   "outputs": [],
   "source": [
    "import numpy as np\n",
    "def first_map(document):\n",
    "    dictionary = {}\n",
    "    partitions = np.floor(np.sqrt(num_words))\n",
    "    for word in document.split():\n",
    "        if word in dictionary.keys():\n",
    "            dictionary[word] += 1\n",
    "        else:\n",
    "            dictionary[word] = 1\n",
    "    return [(np.random.randint(partitions), (k,dictionary[k])) for k in dictionary.keys()]\n",
    "    \n",
    "def second_reduce(document):\n",
    "    pairs_dict = {}\n",
    "    for pair in list(document[1]):\n",
    "        word, count = pair\n",
    "        if word in pairs_dict.keys():\n",
    "            pairs_dict[word] += count\n",
    "        else:\n",
    "            pairs_dict[word] = count\n",
    "    return [(key, pairs_dict[key]) for key in pairs_dict.keys()]"
   ]
  },
  {
   "cell_type": "code",
   "execution_count": 24,
   "metadata": {},
   "outputs": [
    {
     "data": {
      "text/plain": [
       "32"
      ]
     },
     "execution_count": 24,
     "metadata": {},
     "output_type": "execute_result"
    }
   ],
   "source": [
    "couples2 = docs.flatMap(first_map)\\\n",
    "                .groupByKey()\\\n",
    "                .flatMap(second_reduce)\\\n",
    "                .reduceByKey(lambda a,b: a+b)\n",
    "couples2.count()        \n"
   ]
  },
  {
   "cell_type": "code",
   "execution_count": 22,
   "metadata": {},
   "outputs": [
    {
     "data": {
      "text/plain": [
       "['prova a dire cosa prova a di dire su io su',\n",
       " 'capra capra capra mia bella bella ti vagone vagone tu ta',\n",
       " 'lupo cattivo oltre il buio buio albero tuta tu ta ti',\n",
       " 'marta odia marta che odia marta ciao bubu bubu io ti',\n",
       " 'sopra la panca la capra canta sotto la panca la capra crepa']"
      ]
     },
     "execution_count": 22,
     "metadata": {},
     "output_type": "execute_result"
    }
   ],
   "source": [
    "docs.collect()"
   ]
  },
  {
   "cell_type": "code",
   "execution_count": 25,
   "metadata": {},
   "outputs": [
    {
     "data": {
      "text/plain": [
       "[('mia', 1),\n",
       " ('cosa', 1),\n",
       " ('buio', 2),\n",
       " ('sotto', 1),\n",
       " ('a', 2),\n",
       " ('tu', 2),\n",
       " ('ti', 3),\n",
       " ('marta', 3),\n",
       " ('odia', 2),\n",
       " ('che', 1),\n",
       " ('di', 1),\n",
       " ('bubu', 2),\n",
       " ('la', 4),\n",
       " ('vagone', 2),\n",
       " ('lupo', 1),\n",
       " ('ciao', 1),\n",
       " ('dire', 2),\n",
       " ('su', 2),\n",
       " ('prova', 2),\n",
       " ('capra', 5),\n",
       " ('albero', 1),\n",
       " ('panca', 2),\n",
       " ('oltre', 1),\n",
       " ('ta', 2),\n",
       " ('crepa', 1),\n",
       " ('tuta', 1),\n",
       " ('sopra', 1),\n",
       " ('il', 1),\n",
       " ('canta', 1),\n",
       " ('bella', 2),\n",
       " ('io', 2),\n",
       " ('cattivo', 1)]"
      ]
     },
     "execution_count": 25,
     "metadata": {},
     "output_type": "execute_result"
    }
   ],
   "source": [
    "couples2.collect()"
   ]
  },
  {
   "cell_type": "code",
   "execution_count": null,
   "metadata": {},
   "outputs": [],
   "source": []
  }
 ],
 "metadata": {
  "kernelspec": {
   "display_name": "Python 3",
   "language": "python",
   "name": "python3"
  },
  "language_info": {
   "codemirror_mode": {
    "name": "ipython",
    "version": 3
   },
   "file_extension": ".py",
   "mimetype": "text/x-python",
   "name": "python",
   "nbconvert_exporter": "python",
   "pygments_lexer": "ipython3",
   "version": "3.6.4"
  }
 },
 "nbformat": 4,
 "nbformat_minor": 2
}
