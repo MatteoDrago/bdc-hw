{
 "cells": [
  {
   "cell_type": "markdown",
   "metadata": {},
   "source": [
    "# Homework 2 - word count #"
   ]
  },
  {
   "cell_type": "code",
   "execution_count": 1,
   "metadata": {},
   "outputs": [
    {
     "name": "stdout",
     "output_type": "stream",
     "text": [
      "Number of documents:  10122\n"
     ]
    }
   ],
   "source": [
    "from pyspark import SparkContext, SparkConf\n",
    "import time\n",
    "\n",
    "conf = SparkConf().setAppName('Word Count').setMaster('local')\n",
    "sc = SparkContext(conf=conf)\n",
    "\n",
    "docs = sc.textFile('text-sample.txt').cache()  #returns an RDD (there are at least 4 partitions)\n",
    "print(\"Number of documents: \", docs.count())"
   ]
  },
  {
   "cell_type": "markdown",
   "metadata": {},
   "source": [
    "## Naive version ##"
   ]
  },
  {
   "cell_type": "code",
   "execution_count": 2,
   "metadata": {},
   "outputs": [
    {
     "name": "stdout",
     "output_type": "stream",
     "text": [
      "Number of words:  3503570\n",
      "Number of different words:  144873\n",
      "Elapsed time:  4.5101728439331055\n"
     ]
    }
   ],
   "source": [
    "words = docs.flatMap(lambda doc: doc.split(' '))\n",
    "num_words = words.count()\n",
    "print(\"Number of words: \", num_words)\n",
    "\n",
    "couples = words.map(lambda word: (word, 1))\\\n",
    "                .reduceByKey(lambda a,b: a+b)\n",
    "    \n",
    "t0 = time.time()\n",
    "num_couples = couples.count()\n",
    "t1 = time.time()\n",
    "\n",
    "print(\"Number of different words: \", num_couples)\n",
    "print(\"Elapsed time: \", t1-t0)"
   ]
  },
  {
   "cell_type": "markdown",
   "metadata": {},
   "source": [
    "## Improved version 1 ##"
   ]
  },
  {
   "cell_type": "code",
   "execution_count": 3,
   "metadata": {},
   "outputs": [
    {
     "name": "stdout",
     "output_type": "stream",
     "text": [
      "Number of different words:  144873\n",
      "Elapsed time:  4.641135931015015\n"
     ]
    }
   ],
   "source": [
    "def wordcount(document):\n",
    "    dictionary = {}  #create empty dictionary to contain (string: integer) couples\n",
    "    for word in document.split(' '):  #word is a string element from the iterable list given by split()\n",
    "        if word in dictionary.keys():  #increase the number of occurences\n",
    "            dictionary[word] += 1\n",
    "        else:\n",
    "            dictionary[word] = 1\n",
    "    return [(k,dictionary[k]) for k in dictionary.keys()]  #return a list of couples (string: integer)\n",
    "                                                           #because returning the dictionary makes Spark angry\n",
    "\n",
    "couples1 = docs.flatMap(wordcount)\\\n",
    "                .reduceByKey(lambda a,b: a+b)\n",
    "    \n",
    "t0 = time.time()\n",
    "num_couples1 = couples1.count()\n",
    "t1 = time.time()\n",
    "    \n",
    "print(\"Number of different words: \", num_couples1)\n",
    "print(\"Elapsed time: \", t1-t0)"
   ]
  },
  {
   "cell_type": "markdown",
   "metadata": {},
   "source": [
    "## Improved version 2 ##"
   ]
  },
  {
   "cell_type": "code",
   "execution_count": 4,
   "metadata": {},
   "outputs": [
    {
     "name": "stdout",
     "output_type": "stream",
     "text": [
      "Number of different words:  144873\n",
      "Elapsed time:  10.579270124435425\n"
     ]
    }
   ],
   "source": [
    "import numpy as np\n",
    "def first_map(document):\n",
    "    dictionary = {}\n",
    "    partitions = np.floor(np.sqrt(num_words))\n",
    "    for word in document.split(' '):\n",
    "        if word in dictionary.keys():\n",
    "            dictionary[word] += 1\n",
    "        else:\n",
    "            dictionary[word] = 1\n",
    "    return [(np.random.randint(partitions), (k,dictionary[k])) for k in dictionary.keys()]\n",
    "    \n",
    "def second_reduce(document):\n",
    "    pairs_dict = {}\n",
    "    for pair in list(document[1]):\n",
    "        word, count = pair\n",
    "        if word in pairs_dict.keys():\n",
    "            pairs_dict[word] += count\n",
    "        else:\n",
    "            pairs_dict[word] = count\n",
    "    return [(key, pairs_dict[key]) for key in pairs_dict.keys()]\n",
    "\n",
    "couples2 = docs.flatMap(first_map)\\\n",
    "                .groupByKey()\\\n",
    "                .flatMap(second_reduce)\\\n",
    "                .reduceByKey(lambda a,b: a+b)\n",
    "            \n",
    "t0 = time.time()\n",
    "num_couples2 = couples2.count()\n",
    "t1 = time.time()\n",
    "    \n",
    "print(\"Number of different words: \", num_couples2)\n",
    "print(\"Elapsed time: \", t1-t0)"
   ]
  },
  {
   "cell_type": "code",
   "execution_count": null,
   "metadata": {},
   "outputs": [],
   "source": []
  }
 ],
 "metadata": {
  "kernelspec": {
   "display_name": "Python 3",
   "language": "python",
   "name": "python3"
  },
  "language_info": {
   "codemirror_mode": {
    "name": "ipython",
    "version": 3
   },
   "file_extension": ".py",
   "mimetype": "text/x-python",
   "name": "python",
   "nbconvert_exporter": "python",
   "pygments_lexer": "ipython3",
   "version": "3.6.4"
  }
 },
 "nbformat": 4,
 "nbformat_minor": 2
}
