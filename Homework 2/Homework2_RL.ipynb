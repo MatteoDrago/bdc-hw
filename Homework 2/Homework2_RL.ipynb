{
 "cells": [
  {
   "cell_type": "markdown",
   "metadata": {},
   "source": [
    "# Homework 2 - word count #"
   ]
  },
  {
   "cell_type": "code",
   "execution_count": 1,
   "metadata": {},
   "outputs": [
    {
     "name": "stdout",
     "output_type": "stream",
     "text": [
      "Number of documents:  5\n"
     ]
    }
   ],
   "source": [
    "from pyspark import SparkContext, SparkConf\n",
    "\n",
    "conf = SparkConf().setAppName('Word Count').setMaster('local')\n",
    "sc = SparkContext(conf=conf)\n",
    "\n",
    "docs = sc.textFile('dataset.txt', 4).persist()  #returns an RDD (there are at least 4 partitions)\n",
    "print(\"Number of documents: \", docs.count())"
   ]
  },
  {
   "cell_type": "markdown",
   "metadata": {},
   "source": [
    "## Naive version ##"
   ]
  },
  {
   "cell_type": "code",
   "execution_count": 2,
   "metadata": {},
   "outputs": [
    {
     "name": "stdout",
     "output_type": "stream",
     "text": [
      "Number of words:  56\n",
      "Number of different words:  32\n"
     ]
    }
   ],
   "source": [
    "words = docs.flatMap(lambda doc: doc.split())\n",
    "print(\"Number of words: \", words.count())\n",
    "\n",
    "couples = words.map(lambda word: (word, 1))\\\n",
    "                .reduceByKey(lambda a,b: a+b)\n",
    "print(\"Number of different words: \", couples.count())"
   ]
  },
  {
   "cell_type": "markdown",
   "metadata": {},
   "source": [
    "## Improved version 1 ##"
   ]
  },
  {
   "cell_type": "code",
   "execution_count": 5,
   "metadata": {},
   "outputs": [],
   "source": [
    "def wordcount(document):\n",
    "    dictionary = {}  #create empty dictionary to contain (string: integer) couples\n",
    "    for word in document.split():  #word is a string element from the iterable list given by split()\n",
    "        if word in dictionary.keys():  #increase the number of occurences\n",
    "            dictionary[word] = dictionary[word] + 1\n",
    "        else:\n",
    "            dictionary[word] = 1\n",
    "    return [(k,dictionary[k]) for k in dictionary.keys()]  #return a list of couples (string: integer)\n",
    "                                                           #because returning the dictionary makes Spark angry\n",
    "\n",
    "couples1 = docs.flatMap(wordcount)\\\n",
    "                .reduceByKey(lambda a,b: a+b)"
   ]
  },
  {
   "cell_type": "code",
   "execution_count": 6,
   "metadata": {},
   "outputs": [
    {
     "name": "stdout",
     "output_type": "stream",
     "text": [
      "Number of different couples:  32\n"
     ]
    }
   ],
   "source": [
    "print(\"Number of different couples: \", couples1.count())"
   ]
  },
  {
   "cell_type": "code",
   "execution_count": null,
   "metadata": {},
   "outputs": [],
   "source": []
  }
 ],
 "metadata": {
  "kernelspec": {
   "display_name": "Python 3",
   "language": "python",
   "name": "python3"
  },
  "language_info": {
   "codemirror_mode": {
    "name": "ipython",
    "version": 3
   },
   "file_extension": ".py",
   "mimetype": "text/x-python",
   "name": "python",
   "nbconvert_exporter": "python",
   "pygments_lexer": "ipython3",
   "version": "3.6.4"
  }
 },
 "nbformat": 4,
 "nbformat_minor": 2
}
