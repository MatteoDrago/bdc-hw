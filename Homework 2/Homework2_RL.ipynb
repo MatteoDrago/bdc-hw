{
 "cells": [
  {
   "cell_type": "markdown",
   "metadata": {},
   "source": [
    "# Homework 2 - word count #"
   ]
  },
  {
   "cell_type": "code",
   "execution_count": 1,
   "metadata": {},
   "outputs": [
    {
     "name": "stdout",
     "output_type": "stream",
     "text": [
      "Number of documents:  5\n"
     ]
    }
   ],
   "source": [
    "from pyspark import SparkContext, SparkConf\n",
    "\n",
    "conf = SparkConf().setAppName('Word Count').setMaster('local')\n",
    "sc = SparkContext(conf=conf)\n",
    "\n",
    "docs = sc.textFile('dataset.txt', 4).persist()  #returns an RDD (there are at least 4 partitions)\n",
    "print(\"Number of documents: \", docs.count())"
   ]
  },
  {
   "cell_type": "markdown",
   "metadata": {},
   "source": [
    "## Naive version ##"
   ]
  },
  {
   "cell_type": "code",
   "execution_count": 3,
   "metadata": {},
   "outputs": [
    {
     "name": "stdout",
     "output_type": "stream",
     "text": [
      "Number of words:  56\n",
      "Number of different words:  32\n"
     ]
    }
   ],
   "source": [
    "words = docs.flatMap(lambda doc: doc.split())\n",
    "num_words = words.count()\n",
    "print(\"Number of words: \", num_words)\n",
    "\n",
    "couples = words.map(lambda word: (word, 1))\\\n",
    "                .reduceByKey(lambda a,b: a+b)\n",
    "print(\"Number of different words: \", couples.count())"
   ]
  },
  {
   "cell_type": "markdown",
   "metadata": {},
   "source": [
    "## Improved version 1 ##"
   ]
  },
  {
   "cell_type": "code",
   "execution_count": 10,
   "metadata": {},
   "outputs": [
    {
     "name": "stdout",
     "output_type": "stream",
     "text": [
      "Number of different words:  32\n"
     ]
    }
   ],
   "source": [
    "def wordcount(document):\n",
    "    dictionary = {}  #create empty dictionary to contain (string: integer) couples\n",
    "    for word in document.split():  #word is a string element from the iterable list given by split()\n",
    "        if word in dictionary.keys():  #increase the number of occurences\n",
    "            dictionary[word] = dictionary[word] + 1\n",
    "        else:\n",
    "            dictionary[word] = 1\n",
    "    return [(k,dictionary[k]) for k in dictionary.keys()]  #return a list of couples (string: integer)\n",
    "                                                           #because returning the dictionary makes Spark angry\n",
    "\n",
    "couples1 = docs.flatMap(wordcount)\\\n",
    "                .reduceByKey(lambda a,b: a+b)\n",
    "    \n",
    "print(\"Number of different words: \", couples1.count())"
   ]
  },
  {
   "cell_type": "markdown",
   "metadata": {},
   "source": [
    "## Improved version 2 ##"
   ]
  },
  {
   "cell_type": "code",
   "execution_count": 12,
   "metadata": {},
   "outputs": [],
   "source": [
    "import numpy as np\n",
    "\n",
    "def first_map(document):\n",
    "    dictionary = {}\n",
    "    partitions = np.floor(np.sqrt(num_words))\n",
    "    for word in document.split():\n",
    "        print(word)\n",
    "        if word in dictionary.keys():\n",
    "            dictionary[word] += 1\n",
    "        else:\n",
    "            dictionary[word] = 1\n",
    "        return [(np.random.randint(partitions), (k,dictionary[k])) for k in dictionary.keys()]\n",
    "    \n",
    "def second_reduce(document):\n",
    "    pairs_dict = {}\n",
    "    for pair in list(document[1]):\n",
    "        word, count = pair\n",
    "        if word in pairs_dict.keys():\n",
    "            pairs_dict[word] += count\n",
    "        else:\n",
    "            pairs_dict[word] = count\n",
    "    return [(key, pairs_dict[key]) for key in pairs_dict.keys()]"
   ]
  },
  {
   "cell_type": "code",
   "execution_count": 7,
   "metadata": {},
   "outputs": [
    {
     "data": {
      "text/plain": [
       "5"
      ]
     },
     "execution_count": 7,
     "metadata": {},
     "output_type": "execute_result"
    }
   ],
   "source": [
    "couples2 = docs.flatMap(first_map)\\\n",
    "#                .groupByKey()\\\n",
    "#                .flatMap(second_reduce)\\\n",
    "#                .reduceByKey(lambda a,b: a+b)\n",
    "couples2.count()        \n",
    "#couples2.collect()"
   ]
  },
  {
   "cell_type": "code",
   "execution_count": 13,
   "metadata": {},
   "outputs": [
    {
     "data": {
      "text/plain": [
       "['prova a dire cosa prova a di dire su io su',\n",
       " 'capra capra capra mia bella bella ti vagone vagone tu ta',\n",
       " 'lupo cattivo oltre il buio buio albero tuta tu ta ti',\n",
       " 'marta odia marta che odia marta ciao bubu bubu io ti',\n",
       " 'sopra la panca la capra canta sotto la panca la capra crepa']"
      ]
     },
     "execution_count": 13,
     "metadata": {},
     "output_type": "execute_result"
    }
   ],
   "source": [
    "docs.collect()"
   ]
  },
  {
   "cell_type": "code",
   "execution_count": 14,
   "metadata": {},
   "outputs": [
    {
     "data": {
      "text/plain": [
       "[(3, ('prova', 1)),\n",
       " (0, ('capra', 1)),\n",
       " (5, ('lupo', 1)),\n",
       " (4, ('marta', 1)),\n",
       " (1, ('sopra', 1))]"
      ]
     },
     "execution_count": 14,
     "metadata": {},
     "output_type": "execute_result"
    }
   ],
   "source": [
    "couples2 = docs.flatMap(first_map)\n",
    "couples2.collect()"
   ]
  },
  {
   "cell_type": "code",
   "execution_count": null,
   "metadata": {},
   "outputs": [],
   "source": []
  }
 ],
 "metadata": {
  "kernelspec": {
   "display_name": "Python 3",
   "language": "python",
   "name": "python3"
  },
  "language_info": {
   "codemirror_mode": {
    "name": "ipython",
    "version": 3
   },
   "file_extension": ".py",
   "mimetype": "text/x-python",
   "name": "python",
   "nbconvert_exporter": "python",
   "pygments_lexer": "ipython3",
   "version": "3.6.4"
  }
 },
 "nbformat": 4,
 "nbformat_minor": 2
}
