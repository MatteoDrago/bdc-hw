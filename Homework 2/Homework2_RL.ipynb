{
 "cells": [
  {
   "cell_type": "markdown",
   "metadata": {},
   "source": [
    "# Homework 2 #\n",
    "## Word count ##\n",
    "### Stupid version ###"
   ]
  },
  {
   "cell_type": "code",
   "execution_count": 1,
   "metadata": {},
   "outputs": [],
   "source": [
    "from pyspark import SparkContext, SparkConf\n",
    "\n",
    "# Spark Setup\n",
    "conf = SparkConf().setAppName('Word Count').setMaster('local')\n",
    "sc = SparkContext(conf=conf)"
   ]
  },
  {
   "cell_type": "code",
   "execution_count": 2,
   "metadata": {},
   "outputs": [
    {
     "name": "stdout",
     "output_type": "stream",
     "text": [
      "Number of documents:  5\n"
     ]
    },
    {
     "data": {
      "text/plain": [
       "['prova a dire cosa prova a di dire su io su',\n",
       " 'capra capra capra mia bella bella ti vagone vagone tu ta',\n",
       " 'lupo cattivo oltre il buio buio albero tuta tu ta ti',\n",
       " 'marta odia marta che odia marta ciao bubu bubu io ti',\n",
       " 'sopra la panca la capra canta sotto la panca la capra crepa']"
      ]
     },
     "execution_count": 2,
     "metadata": {},
     "output_type": "execute_result"
    }
   ],
   "source": [
    "docs = sc.textFile('dataset.txt', 12).cache()  #returns an RDD (there are at least 12 partitions), and saves it to cache\n",
    "print(\"Number of documents: \", docs.count())\n",
    "docs.collect()"
   ]
  },
  {
   "cell_type": "code",
   "execution_count": 3,
   "metadata": {},
   "outputs": [
    {
     "name": "stdout",
     "output_type": "stream",
     "text": [
      "Number of words:  56\n"
     ]
    },
    {
     "data": {
      "text/plain": [
       "['prova',\n",
       " 'a',\n",
       " 'dire',\n",
       " 'cosa',\n",
       " 'prova',\n",
       " 'a',\n",
       " 'di',\n",
       " 'dire',\n",
       " 'su',\n",
       " 'io',\n",
       " 'su',\n",
       " 'capra',\n",
       " 'capra',\n",
       " 'capra',\n",
       " 'mia',\n",
       " 'bella',\n",
       " 'bella',\n",
       " 'ti',\n",
       " 'vagone',\n",
       " 'vagone',\n",
       " 'tu',\n",
       " 'ta',\n",
       " 'lupo',\n",
       " 'cattivo',\n",
       " 'oltre',\n",
       " 'il',\n",
       " 'buio',\n",
       " 'buio',\n",
       " 'albero',\n",
       " 'tuta',\n",
       " 'tu',\n",
       " 'ta',\n",
       " 'ti',\n",
       " 'marta',\n",
       " 'odia',\n",
       " 'marta',\n",
       " 'che',\n",
       " 'odia',\n",
       " 'marta',\n",
       " 'ciao',\n",
       " 'bubu',\n",
       " 'bubu',\n",
       " 'io',\n",
       " 'ti',\n",
       " 'sopra',\n",
       " 'la',\n",
       " 'panca',\n",
       " 'la',\n",
       " 'capra',\n",
       " 'canta',\n",
       " 'sotto',\n",
       " 'la',\n",
       " 'panca',\n",
       " 'la',\n",
       " 'capra',\n",
       " 'crepa']"
      ]
     },
     "execution_count": 3,
     "metadata": {},
     "output_type": "execute_result"
    }
   ],
   "source": [
    "words = docs.flatMap(lambda doc: doc.split())\n",
    "print(\"Number of words: \", words.count())\n",
    "words.collect()"
   ]
  },
  {
   "cell_type": "code",
   "execution_count": null,
   "metadata": {},
   "outputs": [],
   "source": []
  }
 ],
 "metadata": {
  "kernelspec": {
   "display_name": "Python 3",
   "language": "python",
   "name": "python3"
  },
  "language_info": {
   "codemirror_mode": {
    "name": "ipython",
    "version": 3
   },
   "file_extension": ".py",
   "mimetype": "text/x-python",
   "name": "python",
   "nbconvert_exporter": "python",
   "pygments_lexer": "ipython3",
   "version": "3.6.4"
  }
 },
 "nbformat": 4,
 "nbformat_minor": 2
}
