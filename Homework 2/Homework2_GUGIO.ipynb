{
 "cells": [
  {
   "cell_type": "markdown",
   "metadata": {},
   "source": [
    "\n"
   ]
  },
  {
   "cell_type": "markdown",
   "metadata": {},
   "source": [
    "# Homework 2"
   ]
  },
  {
   "cell_type": "code",
   "execution_count": 1,
   "metadata": {
    "collapsed": false
   },
   "outputs": [],
   "source": [
    "# Import the Packeges\n",
    "import numpy as np\n",
    "import time\n",
    "from pyspark import SparkConf, SparkContext\n",
    "\n",
    "config = SparkConf().setAppName('Homework 2').setMaster('local[*]')\n",
    "sc = SparkContext(conf=config)"
   ]
  },
  {
   "cell_type": "code",
   "execution_count": 2,
   "metadata": {
    "collapsed": false
   },
   "outputs": [
    {
     "name": "stdout",
     "output_type": "stream",
     "text": [
      "N total words : 3503570\n",
      "N total documents : 10122\n"
     ]
    }
   ],
   "source": [
    "# Load the Dataset\n",
    "docs = sc.textFile('text-sample.txt').repartition(8)\n",
    "N_documents = docs.count()\n",
    "N_words = docs.flatMap(lambda document: document.split(' ')).count()\n",
    "\n",
    "print 'N total words :', N_words\n",
    "print 'N total documents :', N_documents"
   ]
  },
  {
   "cell_type": "markdown",
   "metadata": {},
   "source": [
    "<hr>\n",
    "# Improved WordCount 1"
   ]
  },
  {
   "cell_type": "code",
   "execution_count": 3,
   "metadata": {
    "collapsed": false
   },
   "outputs": [
    {
     "name": "stdout",
     "output_type": "stream",
     "text": [
      "Improved WordCount 1 result:\n",
      "Number of different Words : 144873\n",
      "Elapsed Time : 38.5396029949 s\n"
     ]
    }
   ],
   "source": [
    "# Improved WordCount 1\n",
    "def wordcount_0_function(document) :\n",
    "    pairs_dict = {}\n",
    "    for word in document.split(' '):\n",
    "        if word not in pairs_dict.keys():\n",
    "            pairs_dict[word] = 1\n",
    "        else :\n",
    "            pairs_dict[word] += 1\n",
    "    return [(key, pairs_dict[key]) for key in pairs_dict.keys()]\n",
    "\n",
    " \n",
    "wordcount_1 = docs.flatMap(wordcount_0_function) \\\n",
    "                .reduceByKey(lambda accum, n: accum + n)\n",
    "\n",
    "t0 = time.time()\n",
    "n_dif_words = wordcount_1.count()\n",
    "t1 = time.time()\n",
    "                \n",
    "# Print the Results\n",
    "print 'Improved WordCount 1 result:'\n",
    "print 'Number of different Words :', n_dif_words\n",
    "print 'Elapsed Time :', t1-t0, 's'"
   ]
  },
  {
   "cell_type": "markdown",
   "metadata": {},
   "source": [
    "<hr>\n",
    "# Improved WordCount 2"
   ]
  },
  {
   "cell_type": "code",
   "execution_count": 4,
   "metadata": {
    "collapsed": false
   },
   "outputs": [
    {
     "name": "stdout",
     "output_type": "stream",
     "text": [
      "Improved WordCount 2 result:\n",
      "Number of different Words : 144873\n",
      "Elapsed Time : 129.819210052 s\n"
     ]
    }
   ],
   "source": [
    "def f1(document, N) :\n",
    "    words = document.split(' ')\n",
    "    pairs_dict = {}\n",
    "    \n",
    "    # Compute c_i(w) in D_i\n",
    "    for word in words:\n",
    "        if word not in pairs_dict.keys():\n",
    "            pairs_dict[word] = 1\n",
    "        else :\n",
    "            pairs_dict[word] += 1\n",
    "            \n",
    "    # Get the Partitions\n",
    "    n_partitions = int(np.floor(np.sqrt(N)))\n",
    "    pairs_dict_part = {i : [] for i in range(n_partitions)}\n",
    "    \n",
    "    seeds = range(len(words))\n",
    "    idx = 0\n",
    "    for key in pairs_dict.keys() :\n",
    "        np.random.seed(seed=seeds[idx])\n",
    "        x = np.random.randint(n_partitions)\n",
    "        pairs_dict_part[x].append((key, pairs_dict[key]))\n",
    "        idx = idx + 1\n",
    "    \n",
    "    return [(key, pairs_dict_part[key][i]) for key in pairs_dict_part.keys() \n",
    "                                           for i in range(len(pairs_dict_part[key]))]\n",
    "\n",
    "def f2(x):\n",
    "    pairs = list(x[1])\n",
    "    pairs_dict = {}\n",
    "    \n",
    "    for pair in pairs:\n",
    "        word, c = pair\n",
    "        if word!=None:\n",
    "            if word not in pairs_dict.keys():\n",
    "                pairs_dict[word] = c\n",
    "            else :\n",
    "                pairs_dict[word] += c\n",
    "            \n",
    "    return [(key, pairs_dict[key]) for key in pairs_dict.keys()]\n",
    "\n",
    "\n",
    "wordcount_2 = docs.flatMap(lambda document : f1(document, N_words)) \\\n",
    "                        .groupByKey() \\\n",
    "                        .flatMap(f2) \\\n",
    "                        .reduceByKey(lambda accum, n : accum + n)\n",
    "\n",
    "t0 = time.time()\n",
    "n_dif_words = wordcount_2.count()\n",
    "t1 = time.time()\n",
    "                \n",
    "# Print the Results\n",
    "print 'Improved WordCount 2 result:'\n",
    "print 'Number of different Words :', n_dif_words\n",
    "print 'Elapsed Time :', t1-t0, 's'"
   ]
  },
  {
   "cell_type": "code",
   "execution_count": null,
   "metadata": {
    "collapsed": true
   },
   "outputs": [],
   "source": []
  },
  {
   "cell_type": "code",
   "execution_count": null,
   "metadata": {
    "collapsed": false
   },
   "outputs": [],
   "source": []
  },
  {
   "cell_type": "code",
   "execution_count": null,
   "metadata": {
    "collapsed": true
   },
   "outputs": [],
   "source": []
  }
 ],
 "metadata": {
  "anaconda-cloud": {},
  "kernelspec": {
   "display_name": "Python [conda root]",
   "language": "python",
   "name": "conda-root-py"
  },
  "language_info": {
   "codemirror_mode": {
    "name": "ipython",
    "version": 2
   },
   "file_extension": ".py",
   "mimetype": "text/x-python",
   "name": "python",
   "nbconvert_exporter": "python",
   "pygments_lexer": "ipython2",
   "version": "2.7.12"
  }
 },
 "nbformat": 4,
 "nbformat_minor": 2
}
