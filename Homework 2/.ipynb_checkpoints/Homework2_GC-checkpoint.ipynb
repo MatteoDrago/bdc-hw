{
 "cells": [
  {
   "cell_type": "markdown",
   "metadata": {},
   "source": [
    "\n"
   ]
  },
  {
   "cell_type": "markdown",
   "metadata": {},
   "source": [
    "# Homework 2"
   ]
  },
  {
   "cell_type": "code",
   "execution_count": 1,
   "metadata": {
    "collapsed": false
   },
   "outputs": [],
   "source": [
    "# Import the Packeges\n",
    "import numpy as np\n",
    "import time\n",
    "from pyspark import SparkConf, SparkContext\n",
    "\n",
    "config = SparkConf().setAppName('Homework 2').setMaster('local[*]')\n",
    "sc = SparkContext(conf=config)"
   ]
  },
  {
   "cell_type": "code",
   "execution_count": 2,
   "metadata": {
    "collapsed": false
   },
   "outputs": [
    {
     "name": "stdout",
     "output_type": "stream",
     "text": [
      "N total words : 3503570\n",
      "N total documents : 10122\n"
     ]
    }
   ],
   "source": [
    "# Load the Dataset\n",
    "docs = sc.textFile('text-sample.txt').repartition(8)\n",
    "N_documents = docs.count()\n",
    "N_words = docs.flatMap(lambda document: document.split(' ')).count()\n",
    "\n",
    "print 'N total words :', N_words\n",
    "print 'N total documents :', N_documents"
   ]
  },
  {
   "cell_type": "markdown",
   "metadata": {},
   "source": [
    "<hr>\n",
    "# Improved WordCount 1"
   ]
  },
  {
   "cell_type": "code",
   "execution_count": 3,
   "metadata": {
    "collapsed": false
   },
   "outputs": [
    {
     "name": "stdout",
     "output_type": "stream",
     "text": [
      "Improved WordCount 1 Result:\n",
      "Number of Different Words : 144873\n",
      "Elapsed Time : 39.2078158855 s\n"
     ]
    }
   ],
   "source": [
    "# Improved WordCount 1\n",
    "def f1(document) :\n",
    "    pairs_dict = {}\n",
    "    for word in document.split(' '):\n",
    "        if word not in pairs_dict.keys():\n",
    "            pairs_dict[word] = 1\n",
    "        else :\n",
    "            pairs_dict[word] += 1\n",
    "    return [(key, pairs_dict[key]) for key in pairs_dict.keys()]\n",
    "\n",
    "def f2(pair):\n",
    "    word, occurecies = pair[0], list(pair[1])\n",
    "    sum_o = 0\n",
    "    for o in occurecies:\n",
    "        sum_o += o\n",
    "    return (word, sum_o)\n",
    " \n",
    "wordcount_1 = docs.flatMap(f1) \\\n",
    "                .groupByKey() \\\n",
    "                .map(f2)\n",
    "\n",
    "t0 = time.time()\n",
    "n_dif_words = wordcount_1.count()\n",
    "t1 = time.time()\n",
    "\n",
    "# Print the Results\n",
    "print 'Improved WordCount 1 Result:'\n",
    "print 'Number of Different Words :', n_dif_words\n",
    "print 'Elapsed Time :', t1-t0, 's'"
   ]
  },
  {
   "cell_type": "markdown",
   "metadata": {},
   "source": [
    "<hr>\n",
    "# Improved WordCount 2"
   ]
  },
  {
   "cell_type": "code",
   "execution_count": 4,
   "metadata": {
    "collapsed": false
   },
   "outputs": [
    {
     "name": "stdout",
     "output_type": "stream",
     "text": [
      "Improved WordCount 2 Result:\n",
      "Number of Different Words : 144873\n",
      "Elapsed Time : 58.4659659863 s\n"
     ]
    }
   ],
   "source": [
    "# Improved WordCount 2\n",
    "def f3(document, N) :\n",
    "    words = document.split(' ')\n",
    "    n_partitions = int(np.floor(np.sqrt(N)))\n",
    "    pairs_dict = {}\n",
    "\n",
    "    for word in words:\n",
    "        if word not in pairs_dict.keys():\n",
    "            pairs_dict[word] = 1\n",
    "        else :\n",
    "            pairs_dict[word] += 1\n",
    "    return [(np.random.randint(n_partitions), (key, pairs_dict[key])) for key in pairs_dict.keys()]\n",
    "\n",
    "def f4(x):\n",
    "    pairs = list(x[1])\n",
    "    pairs_dict = {}\n",
    "    for pair in pairs:\n",
    "        word, c = pair\n",
    "        if word not in pairs_dict.keys():\n",
    "            pairs_dict[word] = c\n",
    "        else :\n",
    "            pairs_dict[word] += c\n",
    "    return [(key, pairs_dict[key]) for key in pairs_dict.keys()]\n",
    "\n",
    "\n",
    "wordcount_2 = docs.flatMap(lambda document : f3(document, N_words)) \\\n",
    "                        .groupByKey() \\\n",
    "                        .flatMap(f4) \\\n",
    "                        .reduceByKey(lambda accum, n : accum + n)\n",
    "\n",
    "t0 = time.time()\n",
    "n_dif_words = wordcount_2.count()\n",
    "t1 = time.time()\n",
    "                \n",
    "# Print the Results\n",
    "print 'Improved WordCount 2 Result:'\n",
    "print 'Number of Different Words :', n_dif_words\n",
    "print 'Elapsed Time :', t1-t0, 's'"
   ]
  },
  {
   "cell_type": "markdown",
   "metadata": {},
   "source": [
    "# Improved WordCount 1 with <i>reduceByKey()</i>"
   ]
  },
  {
   "cell_type": "code",
   "execution_count": 5,
   "metadata": {
    "collapsed": false
   },
   "outputs": [
    {
     "name": "stdout",
     "output_type": "stream",
     "text": [
      "Improved WordCount 1 with reducedByKey() Result:\n",
      "Number of Different Words : 144873\n",
      "Elapsed Time : 35.2110760212 s\n"
     ]
    }
   ],
   "source": [
    "# Improved WordCount 1 with reducedByKey()\n",
    "def f5(document) :\n",
    "    pairs_dict = {}\n",
    "    for word in document.split(' '):\n",
    "        if word not in pairs_dict.keys():\n",
    "            pairs_dict[word] = 1\n",
    "        else :\n",
    "            pairs_dict[word] += 1\n",
    "    return [(key, pairs_dict[key]) for key in pairs_dict.keys()]\n",
    "\n",
    " \n",
    "wordcount_1_r = docs.flatMap(f5) \\\n",
    "                .reduceByKey(lambda accum, n: accum + n)\n",
    "\n",
    "t0 = time.time()\n",
    "n_dif_words = wordcount_1_r.count()\n",
    "t1 = time.time()\n",
    "                \n",
    "# Print the Results\n",
    "print 'Improved WordCount 1 with reducedByKey() Result:'\n",
    "print 'Number of Different Words :', n_dif_words\n",
    "print 'Elapsed Time :', t1-t0, 's'"
   ]
  },
  {
   "cell_type": "markdown",
   "metadata": {},
   "source": [
    "# K-Most Frequent Words"
   ]
  },
  {
   "cell_type": "code",
   "execution_count": 6,
   "metadata": {
    "collapsed": false
   },
   "outputs": [
    {
     "name": "stdout",
     "output_type": "stream",
     "text": [
      "Improved WordCount 1 Most Frequent Words:\n",
      "- the , 269004\n",
      "- of , 126742\n",
      "- be , 126406\n",
      "- in , 107831\n",
      "- and , 107817\n",
      "- a , 92269\n",
      "- to , 76229\n",
      "- he , 43556\n",
      "- for , 31444\n",
      "- on , 31016\n",
      "\n",
      "Improved WordCount 2 Most Frequent Words:\n",
      "- the , 269004\n",
      "- of , 126742\n",
      "- be , 126406\n",
      "- in , 107831\n",
      "- and , 107817\n",
      "- a , 92269\n",
      "- to , 76229\n",
      "- he , 43556\n",
      "- for , 31444\n",
      "- on , 31016\n",
      "\n",
      "Improved WordCount 1 with reduceByKey() Most Frequent Words:\n",
      "- the , 269004\n",
      "- of , 126742\n",
      "- be , 126406\n",
      "- in , 107831\n",
      "- and , 107817\n",
      "- a , 92269\n",
      "- to , 76229\n",
      "- he , 43556\n",
      "- for , 31444\n",
      "- on , 31016\n"
     ]
    }
   ],
   "source": [
    "# Get the K-Most Frequent Words\n",
    "K = 10\n",
    "MFW_1 = wordcount_1.takeOrdered(K, lambda (key, value): -1 * value)\n",
    "MFW_2 = wordcount_2.takeOrdered(K, lambda (key, value): -1 * value)\n",
    "MFW_1_r = wordcount_1_r.takeOrdered(K, lambda (key, value): -1 * value)\n",
    "\n",
    "# Print the Most Frequent Words\n",
    "print 'Improved WordCount 1 Most Frequent Words:'\n",
    "for w in MFW_1:\n",
    "    print '-', str(w[0]), ',' , w[1]\n",
    "print\n",
    "print 'Improved WordCount 2 Most Frequent Words:'\n",
    "for w in MFW_2:\n",
    "    print '-', str(w[0]), ',' , w[1]\n",
    "print\n",
    "print 'Improved WordCount 1 with reduceByKey() Most Frequent Words:'\n",
    "for w in MFW_1_r:\n",
    "    print '-', str(w[0]), ',' , w[1]"
   ]
  },
  {
   "cell_type": "code",
   "execution_count": null,
   "metadata": {
    "collapsed": true
   },
   "outputs": [],
   "source": []
  }
 ],
 "metadata": {
  "anaconda-cloud": {},
  "kernelspec": {
   "display_name": "Python [conda root]",
   "language": "python",
   "name": "conda-root-py"
  },
  "language_info": {
   "codemirror_mode": {
    "name": "ipython",
    "version": 2
   },
   "file_extension": ".py",
   "mimetype": "text/x-python",
   "name": "python",
   "nbconvert_exporter": "python",
   "pygments_lexer": "ipython2",
   "version": "2.7.12"
  }
 },
 "nbformat": 4,
 "nbformat_minor": 2
}
