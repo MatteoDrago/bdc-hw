{
 "cells": [
  {
   "cell_type": "markdown",
   "metadata": {},
   "source": [
    "# Homework 2\n",
    "\n",
    "Here we will implement a map-reduce algorithm in spark for counting the number of words from a given set of documents.\n",
    "Let's start by properly initializing a SparkContext object."
   ]
  },
  {
   "cell_type": "code",
   "execution_count": 1,
<<<<<<< HEAD
   "metadata": {
    "collapsed": false
   },
=======
   "metadata": {},
>>>>>>> origin/Python-3.x
   "outputs": [],
   "source": [
    "from pyspark import SparkConf, SparkContext\n",
    "\n",
    "config = SparkConf().setAppName('Homework 2').setMaster('local')\n",
    "\n",
    "sc = SparkContext(conf=config)"
   ]
  },
  {
   "cell_type": "markdown",
   "metadata": {},
   "source": [
<<<<<<< HEAD
    "#### Loading the Dataset\n",
    "Here we load the dataset and split it in a number of partitions. As a rule of thumb: The higher the number of partitions, the better the parallelism. One should nonetheless be aware that each parition have some overhead and thus it would be suboptimal to create a big number of partitions.\n",
=======
    "### Loading the Dataset\n",
    "Here we load the dataset and split it in a number of partitions. As a rule of thumb: the higher the number of partitions, the better the parallelism. One should nonetheless be aware that each partition have some overhead and thus it would be suboptimal to create a big number of partitions.\n",
>>>>>>> origin/Python-3.x
    "\n",
    "Since we're running on *4-core* machines we'll be partition the RDD in 8 parts."
   ]
  },
  {
   "cell_type": "code",
<<<<<<< HEAD
   "execution_count": 3,
   "metadata": {
    "collapsed": false
   },
   "outputs": [
    {
     "name": "stdout",
     "output_type": "stream",
     "text": [
      "The total number of word in the dataset, counting repetition, is:  21\n"
     ]
    }
   ],
=======
   "execution_count": 2,
   "metadata": {},
   "outputs": [],
>>>>>>> origin/Python-3.x
   "source": [
    "docs = sc.textFile('dataset.txt').repartition(8)\n",
    "\n",
    "N = docs.flatMap(lambda x: x.split()).count() #The total number of words (with repetitions)\n",
    "print('The total number of word in the dataset, counting repetition, is: ', N)"
   ]
  },
  {
   "cell_type": "markdown",
   "metadata": {
    "collapsed": true
   },
   "source": [
<<<<<<< HEAD
    "## Trivial Algorithm\n",
=======
    "### Trivial Algorithm\n",
>>>>>>> origin/Python-3.x
    "In this naive algorithm we do the following:\n",
    "- Take each word from each document\n",
    "- Create a new key-value pair for each word with a value 1\n",
    "- Collect the pairs by key and sum their values"
   ]
  },
  {
   "cell_type": "code",
<<<<<<< HEAD
   "execution_count": 4,
   "metadata": {
    "collapsed": false
   },
=======
   "execution_count": 3,
   "metadata": {},
>>>>>>> origin/Python-3.x
   "outputs": [
    {
     "name": "stdout",
     "output_type": "stream",
     "text": [
      "The number of different words is:  15\n"
     ]
    }
   ],
   "source": [
    "words = docs.flatMap(lambda document: document.split(\" \"))\\\n",
    "    .map(lambda word: (word,1))\\\n",
    "    .reduceByKey(lambda x,y: x+y)\n",
    "\n",
    "print('The number of different words is: ', words.count())"
   ]
  },
  {
   "cell_type": "markdown",
   "metadata": {},
   "source": [
    "## Improved word count 1\n",
    "\n",
    "In this first more clever version of word count we need to modify the way documents are processed: in particular, we want to store directly the pair *(w,c(w))* were _c(w)_ is the number of occurrences of the word *w* in the document Di"
   ]
  },
  {
   "cell_type": "code",
   "execution_count": 136,
   "metadata": {},
   "outputs": [],
   "source": [
    "def improvedMap(x): \n",
    "    line = x.split(\" \")\n",
    "    pairs = {}\n",
    "    for s in line:\n",
    "        if s in pairs:\n",
    "            pairs[s] = pairs[s] + 1\n",
    "        else:\n",
    "            pairs[s] = 1\n",
    "    keyVal = []\n",
    "    for key in pairs:\n",
    "        keyVal.append((key,pairs[key]))\n",
    "    return keyVal\n",
    "\n",
    "intermediate = docs.map(improvedMap)\n",
    "#intermediate.reduce(lambda x,y,sum: sum + y)"
   ]
  },
  {
   "cell_type": "markdown",
   "metadata": {
    "collapsed": true
   },
   "source": [
    "## Improved Word Count v1\n",
    "\n",
    "In this improvement we trade memory efficiency for computational complexity.\n",
    "The improvement is done by creating key-value pairs from each document that instead of having a form:\n",
    "\n",
    "    (word, 1)\n",
    "now have like this:\n",
    "\n",
    "    (word, number of occurrences of the word in the i-th document)\n",
    "We then collect them by key and find the total number of occurences by summing the values in a similar way of the one implemented in the naive algorithm.\n",
    "\n",
    "For achieving this result, instead of a lambda function, a more articulated function have been defined *partSum*, which is built with the help of the *howmany* function.\n",
    " "
   ]
  },
  {
   "cell_type": "code",
   "execution_count": 5,
   "metadata": {
    "collapsed": false
   },
   "outputs": [
    {
     "name": "stdout",
     "output_type": "stream",
     "text": [
      "The number of different words are:  15\n"
     ]
    }
   ],
   "source": [
    "import numpy as np\n",
    "\n",
    "\n",
    "def howmany(word, x):\n",
    "    tot=0\n",
    "    for i in range(len(x)):\n",
    "        if word == x[i]: tot+=1\n",
    "    return (word, tot)\n",
    "\n",
    "def partSum(x):\n",
    "    parS = []\n",
    "    checked = []\n",
    "    for word in x: \n",
    "        if not word in checked: \n",
    "            parS.append(howmany(word,x))\n",
    "            checked.append(word)       \n",
    "    return parS\n",
    "\n",
    "words_improved1 = docs.map(lambda doc: (doc.split())).flatMap(partSum).reduceByKey(lambda x,y: x+y)\n",
    "\n",
    "print('The number of different words are: ', words_improved1.count())\n"
   ]
  },
  {
   "cell_type": "markdown",
   "metadata": {},
   "source": [
    "## Improved Word Count v2\n",
    "\n",
    "If we want to further improve the memory efficiency of the algorithm then we have to implement a partition of the dataset so that we can work on it in several rounds.\n",
    "We do it so that the number of elements in the partition is roughly $O(\\sqrt{N})$. Being the number of partitions itself $O(\\sqrt{N})$ we can construct a well balanced algorithm.\n",
    "\n",
    "For constructing the new algorithm, a couple of auxiliary function that were similar to the previous case needed to be rewritten so that they could be operated over an iterator object."
   ]
  },
  {
   "cell_type": "code",
   "execution_count": 6,
   "metadata": {
    "collapsed": false,
    "scrolled": true
   },
   "outputs": [
    {
     "name": "stdout",
     "output_type": "stream",
     "text": [
      "The dataset has been splitted in  5.0  parts\n",
      "The number of different words are:  15\n"
     ]
    }
   ],
   "source": [
    "from random import randint\n",
    "\n",
    "partitionSize = round(np.sqrt(N))\n",
    "print('The dataset has been splitted in ', partitionSize, ' parts')\n",
    "\n",
    "\n",
    "def partSumBucket(x):\n",
    "    parS = []\n",
    "    checked = []\n",
    "    for word in x: \n",
    "        if not word in checked: \n",
    "            parS.append( (randint(0, partitionSize-1), howmany(word,x)) )\n",
    "            checked.append(word)       \n",
    "    return parS\n",
    "\n",
    "\n",
    "def secondSum(keyValIter):\n",
    "    parS = []\n",
    "    checked = []\n",
    "    for keyval1 in keyValIter:\n",
    "        word1 = keyval1[0]\n",
    "        parSum = 0\n",
    "        if not word1 in checked:        \n",
    "            for keyval2 in keyValIter:\n",
    "                if word1 == keyval2[0]: parSum += keyval2[1]\n",
    "            parS.append( (word1, parSum) )\n",
    "            checked.append(word1)      \n",
    "    return parS\n",
    "\n",
    "    \n",
    "words_improved2 = docs.map(lambda doc: (doc.split())).flatMap( partSumBucket ).groupByKey().mapValues(secondSum).flatMap(lambda x: x[1]).reduceByKey(lambda x,y: x+y)\n",
    "\n",
    "print('The number of different words are: ', words_improved2.count())\n"
   ]
  },
  {
   "cell_type": "code",
   "execution_count": null,
<<<<<<< HEAD
   "metadata": {
    "collapsed": false
   },
=======
   "metadata": {},
>>>>>>> origin/Python-3.x
   "outputs": [],
   "source": []
  }
 ],
 "metadata": {
  "kernelspec": {
   "display_name": "Python 3",
   "language": "python",
   "name": "python3"
  },
  "language_info": {
   "codemirror_mode": {
    "name": "ipython",
    "version": 3
   },
   "file_extension": ".py",
   "mimetype": "text/x-python",
   "name": "python",
   "nbconvert_exporter": "python",
   "pygments_lexer": "ipython3",
   "version": "3.6.4"
  }
 },
 "nbformat": 4,
 "nbformat_minor": 2
}
