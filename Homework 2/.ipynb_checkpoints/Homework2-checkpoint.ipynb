{
 "cells": [
  {
   "cell_type": "markdown",
   "metadata": {},
   "source": [
    "\n"
   ]
  },
  {
   "cell_type": "markdown",
   "metadata": {},
   "source": [
    "# Homework 2\n",
    "\n",
    "Here we will implement a map-reduce algorithm in spark for counting the number of words from a given set of documents.\n",
    "Let's start by properly initializing a SparkContext object."
   ]
  },
  {
   "cell_type": "code",
   "execution_count": 1,
   "metadata": {
    "collapsed": false
   },
   "outputs": [],
   "source": [
    "from pyspark import SparkConf, SparkContext\n",
    "import time\n",
    "\n",
    "config = SparkConf().setAppName('Homework 2').setMaster('local[*]')\n",
    "\n",
    "sc = SparkContext(conf=config)"
   ]
  },
  {
   "cell_type": "markdown",
   "metadata": {},
   "source": [
    "#### Loading the Dataset\n",
    "Here we load the dataset and split it in a number of partitions. As a rule of thumb: The higher the number of partitions, the better the parallelism. One should nonetheless be aware that each parition have some overhead and thus it would be suboptimal to create a big number of partitions.\n",
    "\n",
    "Since i'm running on a *4-core* machine i'll be partition the RDD in 8 parts."
   ]
  },
  {
   "cell_type": "code",
   "execution_count": 2,
   "metadata": {
    "collapsed": false
   },
   "outputs": [
    {
     "name": "stdout",
     "output_type": "stream",
     "text": [
      "The total number of word in the dataset, counting repetition, is:  3503668\n",
      "Time elapsed =  3.0724289417266846  s\n"
     ]
    }
   ],
   "source": [
    "docs = sc.textFile('text-sample.txt').repartition(8)\n",
    "\n",
    "before = time.time()\n",
    "N = docs.flatMap(lambda x: x.split()).count() #The total number of words (with repetitions)\n",
    "now = time.time()\n",
    "print('The total number of word in the dataset, counting repetition, is: ', N)\n",
    "print('Time elapsed = ', now-before, ' s')"
   ]
  },
  {
   "cell_type": "markdown",
   "metadata": {
    "collapsed": true
   },
   "source": [
    "## Trivial Algorithm\n",
    "In this naive algorithm we do the following:\n",
    "- Take each word from each document\n",
    "- Create a new key-value pair for each word with a value 1\n",
    "- Collect the pairs by key and sum their values"
   ]
  },
  {
   "cell_type": "code",
   "execution_count": 6,
   "metadata": {
    "collapsed": false
   },
   "outputs": [
    {
     "name": "stdout",
     "output_type": "stream",
     "text": [
      "The number of different words are:  144918\n",
      "Time elapsed =  4.048263311386108 seconds\n"
     ]
    }
   ],
   "source": [
    "words = docs.flatMap(lambda document: document.split())\\\n",
    "    .map(lambda word: (word,1))\\\n",
    "    .reduceByKey(lambda x,y: x+y)\n",
    "    \n",
    "before = time.time()  \n",
    "print('The number of different words are: ', words.count())\n",
    "now = time.time()\n",
    "print('Time elapsed = ', now-before, 'seconds')"
   ]
  },
  {
   "cell_type": "markdown",
   "metadata": {
    "collapsed": true
   },
   "source": [
    "## Improved Word Count v1\n",
    "\n",
    "In this improvement we trade memory efficiency for computational complexity.\n",
    "The improvement is done by creating key-value pairs from each document that instead of having a form:\n",
    "\n",
    "    (word, 1)\n",
    "now look like this:\n",
    "\n",
    "    (word, number of occurrences of the word in the i-th document)\n",
    "We then collect them by key and find the total number of occurences by summing the values in a similar way of the one implemented in the naive algorithm.\n",
    "\n",
    "For achieving this result, instead of a lambda function, a more articulated function have been defined *partSum*, which is built with the help of the *howmany* function.\n",
    " "
   ]
  },
  {
   "cell_type": "code",
   "execution_count": 7,
   "metadata": {
    "collapsed": false
   },
   "outputs": [
    {
     "name": "stdout",
     "output_type": "stream",
     "text": [
      "The number of different words are:  144918\n",
      "Time elapsed:  118.19168591499329 seconds\n"
     ]
    }
   ],
   "source": [
    "import numpy as np\n",
    "\n",
    "\n",
    "def howmany(word, x):\n",
    "    tot=0\n",
    "    for i in range(len(x)):\n",
    "        if word == x[i]: tot+=1\n",
    "    return (word, tot)\n",
    "\n",
    "def partSum(x):\n",
    "    parS = []\n",
    "    checked = []\n",
    "    for word in x: \n",
    "        if not word in checked: \n",
    "            parS.append(howmany(word,x))\n",
    "            checked.append(word)       \n",
    "    return parS\n",
    "\n",
    "words_improved1 = docs.map(lambda doc: (doc.split()))\\\n",
    "                        .flatMap(partSum)\\\n",
    "                        .reduceByKey(lambda x,y: x+y)\n",
    "\n",
    "before = time.time()\n",
    "print('The number of different words are: ', words_improved1.count())\n",
    "now = time.time()\n",
    "print('Time elapsed: ', now-before,'seconds')"
   ]
  },
  {
   "cell_type": "markdown",
   "metadata": {},
   "source": [
    "## Improved Word Count v2\n",
    "\n",
    "If we want to further improve the memory efficiency of the algorithm then we have to implement a partition of the dataset so that we can work on it in several rounds.\n",
    "We do it so that the number of elements in the partition is roughly $O(\\sqrt{N})$. Being the number of partitions itself $O(\\sqrt{N})$ we can construct a well balanced algorithm.\n",
    "\n",
    "For constructing the new algorithm, a couple of auxiliary function that were similar to the previous case needed to be rewritten so that they could be operated over an iterator object."
   ]
  },
  {
   "cell_type": "code",
   "execution_count": 5,
   "metadata": {
    "collapsed": false,
    "scrolled": false
   },
   "outputs": [
    {
     "name": "stdout",
     "output_type": "stream",
     "text": [
      "The dataset has been splitted in  1872.0  parts\n",
      "The number of different words are:  144918\n",
      "Total time elapsed for the computation 173.91450309753418 seconds\n"
     ]
    }
   ],
   "source": [
    "from random import randint\n",
    "\n",
    "partitionSize = round(np.sqrt(N))\n",
    "print('The dataset has been splitted in ', partitionSize, ' parts')\n",
    "\n",
    "\n",
    "def partSumBucket(x):\n",
    "    parS = []\n",
    "    checked = []\n",
    "    for word in x: \n",
    "        if not word in checked: \n",
    "            parS.append( (randint(0, partitionSize-1), howmany(word,x)) )\n",
    "            checked.append(word)       \n",
    "    return parS\n",
    "\n",
    "\n",
    "def secondSum(keyValIter):\n",
    "    parS = []\n",
    "    checked = []\n",
    "    for keyval1 in keyValIter:\n",
    "        word1 = keyval1[0]\n",
    "        parSum = 0\n",
    "        if not word1 in checked:        \n",
    "            for keyval2 in keyValIter:\n",
    "                if word1 == keyval2[0]: parSum += keyval2[1]\n",
    "            parS.append( (word1, parSum) )\n",
    "            checked.append(word1)      \n",
    "    return parS\n",
    "\n",
    "    \n",
    "words_improved2 = docs.map(lambda doc: (doc.split()))\\\n",
    "                    .flatMap( partSumBucket )\\\n",
    "                    .groupByKey()\\\n",
    "                    .mapValues(secondSum)\\\n",
    "                    .flatMap(lambda x: x[1])\\\n",
    "                    .reduceByKey(lambda x,y: x+y)\n",
    "\n",
    "before = time.time()\n",
    "print('The number of different words are: ', words_improved2.count())\n",
    "now = time.time()\n",
    "\n",
    "print('Total time elapsed for the computation', now-before, 'seconds')"
   ]
  },
  {
   "cell_type": "markdown",
   "metadata": {
    "collapsed": false
   },
   "source": [
    "# Collection of the k most frequent words\n",
    "\n",
    "Achieved using the 'takeOrdered' function, with appropriate parameters.\n",
    "\n",
    "\n"
   ]
  },
  {
   "cell_type": "code",
   "execution_count": 12,
   "metadata": {
    "collapsed": false,
    "scrolled": false
   },
   "outputs": [
    {
     "name": "stdout",
     "output_type": "stream",
     "text": [
      "[('the', 269004), ('of', 126743), ('be', 126406), ('in', 107831), ('and', 107817), ('a', 92269), ('to', 76229), ('he', 43556), ('for', 31444), ('on', 31016), ('as', 30036), ('with', 26629), ('by', 26555), ('have', 25148), ('that', 21446), ('at', 20517), ('from', 19772), ('it', 17752), ('they', 17295), ('she', 12229), ('which', 11433), ('this', 9777), ('also', 9568), ('or', 9027), ('first', 7898), ('not', 7703), ('one', 7561), ('after', 7243), ('its', 7086), ('year', 7027), ('but', 6899), ('who', 6889), ('use', 6263), ('include', 6236), ('two', 6049), ('other', 6004), ('make', 5395), ('when', 5119), ('time', 5093), ('during', 4921), ('all', 4766), ('work', 4667), ('become', 4652), ('there', 4542), ('into', 4394), ('%', 4320), ('play', 4292), ('do', 4261), ('name', 4242), ('more', 4128), ('take', 4115), ('team', 3832), ('only', 3809), ('over', 3800), ('would', 3798), ('most', 3707), ('where', 3651), ('new', 3641), ('can', 3616), ('New', 3581), ('win', 3552), ('state', 3539), ('between', 3527), ('some', 3512), ('part', 3464), ('up', 3388), ('about', 3312), ('later', 3282), ('while', 3279), ('such', 3274), ('area', 3230), ('know', 3194), ('then', 3149), ('bear', 3146), ('three', 3137), ('follow', 3116), ('United', 3106), ('out', 3102), ('many', 3073), ('under', 3070), ('release', 3065), ('season', 3027), ('school', 2985), ('than', 2881), ('album', 2857), ('these', 2842), ('member', 2818), ('family', 2806), ('game', 2789), ('second', 2766), ('call', 2728), ('both', 2711), ('University', 2703), ('film', 2700), ('begin', 2691), ('before', 2654), ('show', 2646), ('against', 2632), ('through', 2630), ('lead', 2602)]\n",
      "Computation time for execution of takeordered: 0.5265262126922607 seconds\n"
     ]
    }
   ],
   "source": [
    "k = 100\n",
    "\n",
    "before = time.time()\n",
    "sortedWords = words.takeOrdered(k, lambda x: -x[1])\n",
    "now = time.time()\n",
    "\n",
    "print(sortedWords)\n",
    "print('Computation time for execution of takeOrdered:', now-before,'seconds')"
   ]
  },
  {
   "cell_type": "code",
   "execution_count": null,
   "metadata": {
    "collapsed": true
   },
   "outputs": [],
   "source": []
  }
 ],
 "metadata": {
  "kernelspec": {
   "display_name": "Python 3",
   "language": "python",
   "name": "python3"
  },
  "language_info": {
   "codemirror_mode": {
    "name": "ipython",
    "version": 3
   },
   "file_extension": ".py",
   "mimetype": "text/x-python",
   "name": "python",
   "nbconvert_exporter": "python",
   "pygments_lexer": "ipython3",
   "version": "3.6.0"
  }
 },
 "nbformat": 4,
 "nbformat_minor": 2
}
