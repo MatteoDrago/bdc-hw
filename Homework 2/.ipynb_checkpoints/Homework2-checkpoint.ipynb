{
 "cells": [
  {
   "cell_type": "markdown",
   "metadata": {},
   "source": [
    "# Homework 2\n",
    "\n",
    "Here we will implement a map-reduce algorithm in spark for counting the number of words from a given set of documents.\n",
    "Let's start by properly initializing a SparkContext object."
   ]
  },
  {
   "cell_type": "code",
   "execution_count": 1,
   "metadata": {},
   "outputs": [],
   "source": [
    "from pyspark import SparkConf, SparkContext\n",
    "\n",
    "config = SparkConf().setAppName('Homework 2').setMaster('local')\n",
    "\n",
    "sc = SparkContext(conf=config)"
   ]
  },
  {
   "cell_type": "markdown",
   "metadata": {},
   "source": [
    "### Loading the Dataset\n",
    "Here we load the dataset and split it in a number of partitions. As a rule of thumb: the higher the number of partitions, the better the parallelism. One should nonetheless be aware that each partition have some overhead and thus it would be suboptimal to create a big number of partitions.\n",
    "\n",
    "Since we're running on *4-core* machines we'll be partition the RDD in 8 parts."
   ]
  },
  {
   "cell_type": "code",
   "execution_count": 2,
   "metadata": {},
   "outputs": [],
   "source": [
    "docs = sc.textFile('dataset.txt').repartition(8)"
   ]
  },
  {
   "cell_type": "markdown",
   "metadata": {
    "collapsed": true
   },
   "source": [
    "### Trivial Algorithm\n",
    "In this naive algorithm we do the following:\n",
    "- Take each word from each document\n",
    "- Create a new key-value pair for each word with a value 1\n",
    "- Collect the pairs by key and sum their values"
   ]
  },
  {
   "cell_type": "code",
   "execution_count": 3,
   "metadata": {},
   "outputs": [
    {
     "name": "stdout",
     "output_type": "stream",
     "text": [
      "The number of different words is:  15\n"
     ]
    }
   ],
   "source": [
    "words = docs.flatMap(lambda document: document.split(\" \"))\\\n",
    "    .map(lambda word: (word,1))\\\n",
    "    .reduceByKey(lambda x,y: x+y)\n",
    "\n",
    "print('The number of different words is: ', words.count())"
   ]
  },
  {
   "cell_type": "markdown",
   "metadata": {},
   "source": [
    "## Improved word count 1\n",
    "\n",
    "In this first more clever version of word count we need to modify the way documents are processed: in particular, we want to store directly the pair *(w,c(w))* were _c(w)_ is the number of occurrences of the word *w* in the document Di"
   ]
  },
  {
   "cell_type": "code",
   "execution_count": 136,
   "metadata": {},
   "outputs": [],
   "source": [
    "def improvedMap(x): \n",
    "    line = x.split(\" \")\n",
    "    pairs = {}\n",
    "    for s in line:\n",
    "        if s in pairs:\n",
    "            pairs[s] = pairs[s] + 1\n",
    "        else:\n",
    "            pairs[s] = 1\n",
    "    keyVal = []\n",
    "    for key in pairs:\n",
    "        keyVal.append((key,pairs[key]))\n",
    "    return keyVal\n",
    "\n",
    "intermediate = docs.map(improvedMap)\n",
    "#intermediate.reduce(lambda x,y,sum: sum + y)"
   ]
  },
  {
   "cell_type": "code",
   "execution_count": null,
   "metadata": {},
   "outputs": [],
   "source": []
  }
 ],
 "metadata": {
  "kernelspec": {
   "display_name": "Python 3",
   "language": "python",
   "name": "python3"
  },
  "language_info": {
   "codemirror_mode": {
    "name": "ipython",
    "version": 3
   },
   "file_extension": ".py",
   "mimetype": "text/x-python",
   "name": "python",
   "nbconvert_exporter": "python",
   "pygments_lexer": "ipython3",
   "version": "3.6.4"
  }
 },
 "nbformat": 4,
 "nbformat_minor": 2
}
