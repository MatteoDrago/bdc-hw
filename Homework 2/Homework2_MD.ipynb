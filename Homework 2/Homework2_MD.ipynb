{
 "cells": [
  {
   "cell_type": "markdown",
   "metadata": {},
   "source": [
    "# Homework 2\n",
    "\n",
    "Here we will implement a map-reduce algorithm in spark for counting the number of words from a given set of documents.\n",
    "Let's start by properly initializing a SparkContext object."
   ]
  },
  {
   "cell_type": "code",
   "execution_count": 1,
   "metadata": {},
   "outputs": [],
   "source": [
    "from pyspark import SparkConf, SparkContext\n",
    "\n",
    "config = SparkConf().setAppName('Homework 2').setMaster('local')\n",
    "\n",
    "sc = SparkContext(conf=config)"
   ]
  },
  {
   "cell_type": "markdown",
   "metadata": {},
   "source": [
    "### Loading the Dataset\n",
    "Here we load the dataset and split it in a number of partitions. As a rule of thumb: the higher the number of partitions, the better the parallelism. One should nonetheless be aware that each partition have some overhead and thus it would be suboptimal to create a big number of partitions.\n",
    "\n",
    "Since we're running on *4-core* machines we'll be partition the RDD in 8 parts."
   ]
  },
  {
   "cell_type": "code",
   "execution_count": 2,
   "metadata": {},
   "outputs": [],
   "source": [
    "docs = sc.textFile('text-sample.txt').persist()"
   ]
  },
  {
   "cell_type": "markdown",
   "metadata": {
    "collapsed": true
   },
   "source": [
    "### Trivial Algorithm\n",
    "In this naive algorithm we do the following:\n",
    "- Take each word from each document\n",
    "- Create a new key-value pair for each word with a value 1\n",
    "- Collect the pairs by key and sum their values"
   ]
  },
  {
   "cell_type": "code",
   "execution_count": 3,
   "metadata": {},
   "outputs": [
    {
     "name": "stdout",
     "output_type": "stream",
     "text": [
      "The number of different words is:  144873\n"
     ]
    }
   ],
   "source": [
    "words = docs.flatMap(lambda document: document.split(\" \"))\\\n",
    "    .map(lambda word: (word,1))\\\n",
    "    .reduceByKey(lambda x,y: x+y)\n",
    "\n",
    "print('The number of different words is: ', words.count())"
   ]
  },
  {
   "cell_type": "markdown",
   "metadata": {},
   "source": [
    "## Improved word count 1 - Gugio's, just used this as reference for the improved 2\n",
    "\n",
    "In this first more clever version of word count we need to modify the way documents are processed: in particular, we want to store directly the pair *(w,c(w))* were _c(w)_ is the number of occurrences of the word *w* in the document Di"
   ]
  },
  {
   "cell_type": "code",
   "execution_count": 4,
   "metadata": {},
   "outputs": [
    {
     "name": "stdout",
     "output_type": "stream",
     "text": [
      "Improved WordCount 1 result:\n",
      "Number of different Words : 144873\n",
      "Elapsed Time : 3.9227051734924316 s\n"
     ]
    }
   ],
   "source": [
    "import time\n",
    "\n",
    "def wordcount_0_function(document) :\n",
    "    pairs_dict = {}\n",
    "    for word in document.split(' '):\n",
    "        if word not in pairs_dict.keys():\n",
    "            pairs_dict[word] = 1\n",
    "        else :\n",
    "            pairs_dict[word] += 1\n",
    "    return [(key, pairs_dict[key]) for key in pairs_dict.keys()]\n",
    "\n",
    " \n",
    "wordcount_1 = docs.flatMap(wordcount_0_function) \\\n",
    "                .reduceByKey(lambda accum, n: accum + n)\n",
    "\n",
    "t0 = time.time()\n",
    "n_dif_words = wordcount_1.count()\n",
    "t1 = time.time()\n",
    "                \n",
    "print('Improved WordCount 1 result:')\n",
    "print('Number of different Words :', n_dif_words)\n",
    "print('Elapsed Time :', t1-t0, 's')"
   ]
  },
  {
   "cell_type": "markdown",
   "metadata": {},
   "source": [
    "## Improved word count 2 "
   ]
  },
  {
   "cell_type": "code",
   "execution_count": 5,
   "metadata": {},
   "outputs": [
    {
     "data": {
      "text/plain": [
       "3503570"
      ]
     },
     "execution_count": 5,
     "metadata": {},
     "output_type": "execute_result"
    }
   ],
   "source": [
    "N = docs.flatMap(lambda document: document.split(\" \"))\\\n",
    "    .map(lambda word: (word,1))\\\n",
    "    .count()\n",
    "N"
   ]
  },
  {
   "cell_type": "code",
   "execution_count": 6,
   "metadata": {},
   "outputs": [
    {
     "name": "stdout",
     "output_type": "stream",
     "text": [
      "Improved WordCount 2 result:\n",
      "Number of different Words : 144873\n",
      "Elapsed Time : 9.016728639602661 s\n"
     ]
    }
   ],
   "source": [
    "import numpy as np\n",
    "import math\n",
    "\n",
    "def wordcount_2(document) :\n",
    "    pairs_dict = {}\n",
    "    num_part =  math.floor(math.sqrt(N)) - 1\n",
    "    for word in document.split(' '):\n",
    "        if word not in pairs_dict.keys():\n",
    "            pairs_dict[word] = 1\n",
    "        else :\n",
    "            pairs_dict[word] += 1\n",
    "    return [(np.random.randint(0,num_part), (key, pairs_dict[key])) for key in pairs_dict.keys()]\n",
    "\n",
    "def reduce_1(document):\n",
    "    pairs_dict = {}\n",
    "    for el in list(document[1]):\n",
    "        if el[0] not in pairs_dict.keys():\n",
    "            pairs_dict[el[0]] = el[1]\n",
    "        else :\n",
    "            pairs_dict[el[0]] += el[1]\n",
    "    return [(key, pairs_dict[key]) for key in pairs_dict.keys()]\n",
    "\n",
    "wordcount_2 = docs.flatMap(wordcount_2)\\\n",
    "    .groupByKey()\\\n",
    "    .flatMap(reduce_1)\\\n",
    "    .reduceByKey(lambda accum, n: accum + n)\n",
    "    \n",
    "t0 = time.time()\n",
    "n_dif_words_2 = wordcount_2.count()\n",
    "t1 = time.time()\n",
    "                \n",
    "print('Improved WordCount 2 result:')\n",
    "print('Number of different Words :', n_dif_words_2)\n",
    "print('Elapsed Time :', t1-t0, 's')"
   ]
  }
 ],
 "metadata": {
  "kernelspec": {
   "display_name": "Python 3",
   "language": "python",
   "name": "python3"
  },
  "language_info": {
   "codemirror_mode": {
    "name": "ipython",
    "version": 3
   },
   "file_extension": ".py",
   "mimetype": "text/x-python",
   "name": "python",
   "nbconvert_exporter": "python",
   "pygments_lexer": "ipython3",
   "version": "3.6.4"
  }
 },
 "nbformat": 4,
 "nbformat_minor": 2
}
